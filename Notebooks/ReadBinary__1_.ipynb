{
 "cells": [
  {
   "cell_type": "code",
   "execution_count": 79,
   "id": "3a7eb990-1bff-4d7e-ae06-1c41272614b5",
   "metadata": {},
   "outputs": [],
   "source": [
    "import pandas as pd\n",
    "import numpy as np\n",
    "\n",
    "import matplotlib.pyplot as plt\n",
    "\n",
    "from pathlib import Path\n",
    "import datetime\n",
    "import glob as gl"
   ]
  },
  {
   "cell_type": "code",
   "execution_count": 80,
   "id": "f6e07ca2-d501-43ec-8fd0-196e10882e36",
   "metadata": {},
   "outputs": [],
   "source": [
    "## example data path\n",
    "DATA_PATH = Path(\"/store/projects/fallki/MessdatenFeldversuch/203 B4\")"
   ]
  },
  {
   "cell_type": "code",
   "execution_count": 81,
   "id": "61e4afbe-36fb-4224-88a2-18dd1b8d0f67",
   "metadata": {
    "scrolled": true
   },
   "outputs": [
    {
     "name": "stdout",
     "output_type": "stream",
     "text": [
      "['2022-09-11_06-00-00', '2022-09-13_05-00-00', '2022-09-15_00-00-00', '2022-09-09_19-00-00', '2022-09-10_07-00-00', '2022-09-12_04-00-00', '2022-09-14_01-00-00', '2022-09-16_02-00-00', '2022-09-13_04-00-00', '2022-09-11_07-00-00', '2022-09-09_18-00-00', '2022-09-15_01-00-00', '2022-09-12_05-00-00', '2022-09-10_06-00-00', '2022-09-16_03-00-00', '2022-09-14_00-00-00', '2022-09-15_02-00-00', '2022-09-13_07-00-00', '2022-09-11_04-00-00', '2022-09-16_00-00-00', '2022-09-14_03-00-00', '2022-09-12_06-00-00', '2022-09-10_05-00-00', '2022-09-15_03-00-00', '2022-09-11_05-00-00', '2022-09-13_06-00-00', '2022-09-14_02-00-00', '2022-09-16_01-00-00', '2022-09-10_04-00-00', '2022-09-12_07-00-00', '2022-09-14_05-00-00', '2022-09-16_06-00-00', '2022-09-10_03-00-00', '2022-09-12_00-00-00', '2022-09-15_04-00-00', '2022-09-11_02-00-00', '2022-09-13_01-00-00', '2022-09-16_07-00-00', '2022-09-14_04-00-00', '2022-09-12_01-00-00', '2022-09-10_02-00-00', '2022-09-15_05-00-00', '2022-09-13_00-00-00', '2022-09-11_03-00-00', '2022-09-12_02-00-00', '2022-09-10_01-00-00', '2022-09-16_04-00-00', '2022-09-14_07-00-00', '2022-09-13_03-00-00', '2022-09-11_00-00-00', '2022-09-15_06-00-00', '2022-09-10_00-00-00', '2022-09-12_03-00-00', '2022-09-14_06-00-00', '2022-09-16_05-00-00', '2022-09-11_01-00-00', '2022-09-13_02-00-00', '2022-09-15_07-00-00', '2022-09-15_21-00-00', '2022-09-14_08-00-00', '2022-09-14_20-00-00', '2022-09-15_09-00-00', '2022-09-15_20-00-00', '2022-09-14_09-00-00', '2022-09-14_21-00-00', '2022-09-15_08-00-00', '2022-09-16_09-00-00', '2022-09-15_23-00-00', '2022-09-09_12-00-00', '2022-09-14_22-00-00', '2022-09-16_08-00-00', '2022-09-15_22-00-00', '2022-09-09_13-00-00', '2022-09-14_23-00-00', '2022-09-12_21-00-00', '2022-09-10_22-00-00', '2022-09-09_14-00-00', '2022-09-13_08-00-00', '2022-09-13_20-00-00', '2022-09-11_23-00-00', '2022-09-12_09-00-00', '2022-09-10_23-00-00', '2022-09-09_15-00-00', '2022-09-12_20-00-00', '2022-09-13_09-00-00', '2022-09-11_22-00-00', '2022-09-13_21-00-00', '2022-09-12_08-00-00', '2022-09-11_09-00-00', '2022-09-09_16-00-00', '2022-09-10_20-00-00', '2022-09-12_23-00-00', '2022-09-10_08-00-00', '2022-09-11_21-00-00', '2022-09-13_22-00-00', '2022-09-11_08-00-00', '2022-09-12_22-00-00', '2022-09-09_17-00-00', '2022-09-10_21-00-00', '2022-09-10_09-00-00', '2022-09-13_23-00-00', '2022-09-11_20-00-00', '2022-09-12_18-00-00', '2022-09-09_11-06-30', '2022-09-13_19-00-00', '2022-09-12_19-00-00', '2022-09-13_18-00-00', '2022-09-10_19-00-00', '2022-09-11_18-00-00', '2022-09-10_18-00-00', '2022-09-11_19-00-00', '2022-09-15_18-00-00', '2022-09-14_19-00-00', '2022-09-15_19-00-00', '2022-09-14_18-00-00', '2022-09-15_15-00-00', '2022-09-13_10-00-00', '2022-09-11_13-00-00', '2022-09-14_14-00-00', '2022-09-12_11-00-00', '2022-09-10_12-00-00', '2022-09-15_14-00-00', '2022-09-11_12-00-00', '2022-09-13_11-00-00', '2022-09-14_15-00-00', '2022-09-10_13-00-00', '2022-09-12_10-00-00', '2022-09-11_11-00-00', '2022-09-13_12-00-00', '2022-09-15_17-00-00', '2022-09-10_10-00-00', '2022-09-12_13-00-00', '2022-09-14_16-00-00', '2022-09-13_13-00-00', '2022-09-11_10-00-00', '2022-09-15_16-00-00', '2022-09-12_12-00-00', '2022-09-10_11-00-00', '2022-09-14_17-00-00', '2022-09-12_15-00-00', '2022-09-10_16-00-00', '2022-09-09_20-00-00', '2022-09-14_10-00-00', '2022-09-13_14-00-00', '2022-09-11_17-00-00', '2022-09-15_11-00-00', '2022-09-10_17-00-00', '2022-09-09_21-00-00', '2022-09-12_14-00-00', '2022-09-14_11-00-00', '2022-09-11_16-00-00', '2022-09-13_15-00-00', '2022-09-15_10-00-00', '2022-09-14_12-00-00', '2022-09-16_11-00-00', '2022-09-09_22-00-00', '2022-09-10_14-00-00', '2022-09-12_17-00-00', '2022-09-15_13-00-00', '2022-09-11_15-00-00', '2022-09-13_16-00-00', '2022-09-16_10-00-00', '2022-09-14_13-00-00', '2022-09-12_16-00-00', '2022-09-09_23-00-00', '2022-09-10_15-00-00', '2022-09-15_12-00-00', '2022-09-13_17-00-00', '2022-09-11_14-00-00']\n"
     ]
    }
   ],
   "source": [
    "# collect all file in Data Path\n",
    "runFiles = []\n",
    "runFiles += DATA_PATH.glob(f'*.bin')\n",
    "print(([f.stem for f in runFiles]))"
   ]
  },
  {
   "cell_type": "code",
   "execution_count": 82,
   "id": "925ccc18-00ef-4be8-9acc-f1b022522958",
   "metadata": {},
   "outputs": [
    {
     "data": {
      "text/plain": [
       "169"
      ]
     },
     "execution_count": 82,
     "metadata": {},
     "output_type": "execute_result"
    }
   ],
   "source": [
    "len(runFiles)"
   ]
  },
  {
   "cell_type": "code",
   "execution_count": 86,
   "id": "8b703170-9465-424c-8e9e-7eb09e894c24",
   "metadata": {
    "tags": []
   },
   "outputs": [
    {
     "name": "stdout",
     "output_type": "stream",
     "text": [
      "/store/projects/fallki/MessdatenFeldversuch/206 B5/2022-09-11_06-00-00.bin\n",
      "/store/projects/fallki/MessdatenFeldversuch/206 B5/2022-09-13_05-00-00.bin\n",
      "/store/projects/fallki/MessdatenFeldversuch/206 B5/2022-09-15_00-00-00.bin\n",
      "/store/projects/fallki/MessdatenFeldversuch/206 B5/2022-09-09_19-00-00.bin\n",
      "/store/projects/fallki/MessdatenFeldversuch/206 B5/2022-09-10_07-00-00.bin\n",
      "/store/projects/fallki/MessdatenFeldversuch/206 B5/2022-09-12_04-00-00.bin\n",
      "/store/projects/fallki/MessdatenFeldversuch/206 B5/2022-09-14_01-00-00.bin\n",
      "/store/projects/fallki/MessdatenFeldversuch/206 B5/2022-09-16_02-00-00.bin\n",
      "/store/projects/fallki/MessdatenFeldversuch/206 B5/2022-09-13_04-00-00.bin\n",
      "/store/projects/fallki/MessdatenFeldversuch/206 B5/2022-09-11_07-00-00.bin\n",
      "/store/projects/fallki/MessdatenFeldversuch/206 B5/2022-09-09_18-00-00.bin\n",
      "/store/projects/fallki/MessdatenFeldversuch/206 B5/2022-09-15_01-00-00.bin\n",
      "/store/projects/fallki/MessdatenFeldversuch/206 B5/2022-09-12_05-00-00.bin\n",
      "/store/projects/fallki/MessdatenFeldversuch/206 B5/2022-09-10_06-00-00.bin\n",
      "/store/projects/fallki/MessdatenFeldversuch/206 B5/2022-09-16_03-00-00.bin\n",
      "/store/projects/fallki/MessdatenFeldversuch/206 B5/2022-09-14_00-00-00.bin\n",
      "/store/projects/fallki/MessdatenFeldversuch/206 B5/2022-09-15_02-00-00.bin\n",
      "/store/projects/fallki/MessdatenFeldversuch/206 B5/2022-09-13_07-00-00.bin\n",
      "/store/projects/fallki/MessdatenFeldversuch/206 B5/2022-09-11_04-00-00.bin\n",
      "/store/projects/fallki/MessdatenFeldversuch/206 B5/2022-09-16_00-00-00.bin\n",
      "/store/projects/fallki/MessdatenFeldversuch/206 B5/2022-09-14_03-00-00.bin\n",
      "/store/projects/fallki/MessdatenFeldversuch/206 B5/2022-09-12_06-00-00.bin\n",
      "/store/projects/fallki/MessdatenFeldversuch/206 B5/2022-09-10_05-00-00.bin\n",
      "/store/projects/fallki/MessdatenFeldversuch/206 B5/2022-09-15_03-00-00.bin\n",
      "/store/projects/fallki/MessdatenFeldversuch/206 B5/2022-09-11_05-00-00.bin\n",
      "/store/projects/fallki/MessdatenFeldversuch/206 B5/2022-09-13_06-00-00.bin\n",
      "/store/projects/fallki/MessdatenFeldversuch/206 B5/2022-09-14_02-00-00.bin\n",
      "/store/projects/fallki/MessdatenFeldversuch/206 B5/2022-09-16_01-00-00.bin\n",
      "/store/projects/fallki/MessdatenFeldversuch/206 B5/2022-09-10_04-00-00.bin\n",
      "/store/projects/fallki/MessdatenFeldversuch/206 B5/2022-09-12_07-00-00.bin\n",
      "/store/projects/fallki/MessdatenFeldversuch/206 B5/2022-09-14_05-00-00.bin\n",
      "/store/projects/fallki/MessdatenFeldversuch/206 B5/2022-09-16_06-00-00.bin\n",
      "/store/projects/fallki/MessdatenFeldversuch/206 B5/2022-09-10_03-00-00.bin\n",
      "/store/projects/fallki/MessdatenFeldversuch/206 B5/2022-09-12_00-00-00.bin\n",
      "/store/projects/fallki/MessdatenFeldversuch/206 B5/2022-09-15_04-00-00.bin\n",
      "/store/projects/fallki/MessdatenFeldversuch/206 B5/2022-09-11_02-00-00.bin\n",
      "/store/projects/fallki/MessdatenFeldversuch/206 B5/2022-09-13_01-00-00.bin\n",
      "/store/projects/fallki/MessdatenFeldversuch/206 B5/2022-09-16_07-00-00.bin\n",
      "/store/projects/fallki/MessdatenFeldversuch/206 B5/2022-09-14_04-00-00.bin\n",
      "/store/projects/fallki/MessdatenFeldversuch/206 B5/2022-09-12_01-00-00.bin\n",
      "/store/projects/fallki/MessdatenFeldversuch/206 B5/2022-09-10_02-00-00.bin\n",
      "/store/projects/fallki/MessdatenFeldversuch/206 B5/2022-09-15_05-00-00.bin\n",
      "/store/projects/fallki/MessdatenFeldversuch/206 B5/2022-09-13_00-00-00.bin\n",
      "/store/projects/fallki/MessdatenFeldversuch/206 B5/2022-09-11_03-00-00.bin\n",
      "/store/projects/fallki/MessdatenFeldversuch/206 B5/2022-09-12_02-00-00.bin\n",
      "/store/projects/fallki/MessdatenFeldversuch/206 B5/2022-09-10_01-00-00.bin\n",
      "/store/projects/fallki/MessdatenFeldversuch/206 B5/2022-09-16_04-00-00.bin\n",
      "/store/projects/fallki/MessdatenFeldversuch/206 B5/2022-09-14_07-00-00.bin\n",
      "/store/projects/fallki/MessdatenFeldversuch/206 B5/2022-09-13_03-00-00.bin\n",
      "/store/projects/fallki/MessdatenFeldversuch/206 B5/2022-09-11_00-00-00.bin\n",
      "/store/projects/fallki/MessdatenFeldversuch/206 B5/2022-09-15_06-00-00.bin\n",
      "/store/projects/fallki/MessdatenFeldversuch/206 B5/2022-09-10_00-00-00.bin\n",
      "/store/projects/fallki/MessdatenFeldversuch/206 B5/2022-09-12_03-00-00.bin\n",
      "/store/projects/fallki/MessdatenFeldversuch/206 B5/2022-09-14_06-00-00.bin\n",
      "/store/projects/fallki/MessdatenFeldversuch/206 B5/2022-09-16_05-00-00.bin\n",
      "/store/projects/fallki/MessdatenFeldversuch/206 B5/2022-09-11_01-00-00.bin\n",
      "/store/projects/fallki/MessdatenFeldversuch/206 B5/2022-09-13_02-00-00.bin\n",
      "/store/projects/fallki/MessdatenFeldversuch/206 B5/2022-09-15_07-00-00.bin\n",
      "/store/projects/fallki/MessdatenFeldversuch/206 B5/2022-09-15_21-00-00.bin\n",
      "/store/projects/fallki/MessdatenFeldversuch/206 B5/2022-09-14_08-00-00.bin\n",
      "/store/projects/fallki/MessdatenFeldversuch/206 B5/2022-09-14_20-00-00.bin\n",
      "/store/projects/fallki/MessdatenFeldversuch/206 B5/2022-09-15_09-00-00.bin\n",
      "/store/projects/fallki/MessdatenFeldversuch/206 B5/2022-09-15_20-00-00.bin\n",
      "/store/projects/fallki/MessdatenFeldversuch/206 B5/2022-09-14_09-00-00.bin\n",
      "/store/projects/fallki/MessdatenFeldversuch/206 B5/2022-09-14_21-00-00.bin\n",
      "/store/projects/fallki/MessdatenFeldversuch/206 B5/2022-09-15_08-00-00.bin\n",
      "/store/projects/fallki/MessdatenFeldversuch/206 B5/2022-09-16_09-00-00.bin\n",
      "/store/projects/fallki/MessdatenFeldversuch/206 B5/2022-09-15_23-00-00.bin\n",
      "/store/projects/fallki/MessdatenFeldversuch/206 B5/2022-09-09_12-00-00.bin\n",
      "/store/projects/fallki/MessdatenFeldversuch/206 B5/2022-09-14_22-00-00.bin\n",
      "/store/projects/fallki/MessdatenFeldversuch/206 B5/2022-09-16_08-00-00.bin\n",
      "/store/projects/fallki/MessdatenFeldversuch/206 B5/2022-09-15_22-00-00.bin\n",
      "/store/projects/fallki/MessdatenFeldversuch/206 B5/2022-09-09_13-00-00.bin\n",
      "/store/projects/fallki/MessdatenFeldversuch/206 B5/2022-09-14_23-00-00.bin\n",
      "/store/projects/fallki/MessdatenFeldversuch/206 B5/2022-09-12_21-00-00.bin\n",
      "/store/projects/fallki/MessdatenFeldversuch/206 B5/2022-09-10_22-00-00.bin\n",
      "/store/projects/fallki/MessdatenFeldversuch/206 B5/2022-09-09_14-00-00.bin\n",
      "/store/projects/fallki/MessdatenFeldversuch/206 B5/2022-09-13_08-00-00.bin\n",
      "/store/projects/fallki/MessdatenFeldversuch/206 B5/2022-09-13_20-00-00.bin\n",
      "/store/projects/fallki/MessdatenFeldversuch/206 B5/2022-09-11_23-00-00.bin\n",
      "/store/projects/fallki/MessdatenFeldversuch/206 B5/2022-09-12_09-00-00.bin\n",
      "/store/projects/fallki/MessdatenFeldversuch/206 B5/2022-09-10_23-00-00.bin\n",
      "/store/projects/fallki/MessdatenFeldversuch/206 B5/2022-09-09_15-00-00.bin\n",
      "/store/projects/fallki/MessdatenFeldversuch/206 B5/2022-09-12_20-00-00.bin\n",
      "/store/projects/fallki/MessdatenFeldversuch/206 B5/2022-09-13_09-00-00.bin\n",
      "/store/projects/fallki/MessdatenFeldversuch/206 B5/2022-09-11_22-00-00.bin\n",
      "/store/projects/fallki/MessdatenFeldversuch/206 B5/2022-09-13_21-00-00.bin\n",
      "/store/projects/fallki/MessdatenFeldversuch/206 B5/2022-09-12_08-00-00.bin\n",
      "/store/projects/fallki/MessdatenFeldversuch/206 B5/2022-09-11_09-00-00.bin\n",
      "/store/projects/fallki/MessdatenFeldversuch/206 B5/2022-09-09_16-00-00.bin\n",
      "/store/projects/fallki/MessdatenFeldversuch/206 B5/2022-09-10_20-00-00.bin\n",
      "/store/projects/fallki/MessdatenFeldversuch/206 B5/2022-09-12_23-00-00.bin\n",
      "/store/projects/fallki/MessdatenFeldversuch/206 B5/2022-09-10_08-00-00.bin\n",
      "/store/projects/fallki/MessdatenFeldversuch/206 B5/2022-09-11_21-00-00.bin\n",
      "/store/projects/fallki/MessdatenFeldversuch/206 B5/2022-09-13_22-00-00.bin\n",
      "/store/projects/fallki/MessdatenFeldversuch/206 B5/2022-09-11_08-00-00.bin\n",
      "/store/projects/fallki/MessdatenFeldversuch/206 B5/2022-09-12_22-00-00.bin\n",
      "/store/projects/fallki/MessdatenFeldversuch/206 B5/2022-09-09_17-00-00.bin\n",
      "/store/projects/fallki/MessdatenFeldversuch/206 B5/2022-09-10_21-00-00.bin\n",
      "/store/projects/fallki/MessdatenFeldversuch/206 B5/2022-09-10_09-00-00.bin\n",
      "/store/projects/fallki/MessdatenFeldversuch/206 B5/2022-09-13_23-00-00.bin\n",
      "/store/projects/fallki/MessdatenFeldversuch/206 B5/2022-09-11_20-00-00.bin\n",
      "/store/projects/fallki/MessdatenFeldversuch/206 B5/2022-09-12_18-00-00.bin\n",
      "/store/projects/fallki/MessdatenFeldversuch/206 B5/2022-09-09_11-06-30.bin\n",
      "/store/projects/fallki/MessdatenFeldversuch/206 B5/2022-09-13_19-00-00.bin\n",
      "/store/projects/fallki/MessdatenFeldversuch/206 B5/2022-09-12_19-00-00.bin\n",
      "/store/projects/fallki/MessdatenFeldversuch/206 B5/2022-09-13_18-00-00.bin\n",
      "/store/projects/fallki/MessdatenFeldversuch/206 B5/2022-09-10_19-00-00.bin\n",
      "/store/projects/fallki/MessdatenFeldversuch/206 B5/2022-09-11_18-00-00.bin\n",
      "/store/projects/fallki/MessdatenFeldversuch/206 B5/2022-09-10_18-00-00.bin\n",
      "/store/projects/fallki/MessdatenFeldversuch/206 B5/2022-09-11_19-00-00.bin\n",
      "/store/projects/fallki/MessdatenFeldversuch/206 B5/2022-09-15_18-00-00.bin\n",
      "/store/projects/fallki/MessdatenFeldversuch/206 B5/2022-09-14_19-00-00.bin\n",
      "/store/projects/fallki/MessdatenFeldversuch/206 B5/2022-09-15_19-00-00.bin\n",
      "/store/projects/fallki/MessdatenFeldversuch/206 B5/2022-09-14_18-00-00.bin\n",
      "/store/projects/fallki/MessdatenFeldversuch/206 B5/2022-09-15_15-00-00.bin\n",
      "/store/projects/fallki/MessdatenFeldversuch/206 B5/2022-09-13_10-00-00.bin\n",
      "/store/projects/fallki/MessdatenFeldversuch/206 B5/2022-09-11_13-00-00.bin\n",
      "/store/projects/fallki/MessdatenFeldversuch/206 B5/2022-09-14_14-00-00.bin\n",
      "/store/projects/fallki/MessdatenFeldversuch/206 B5/2022-09-12_11-00-00.bin\n",
      "/store/projects/fallki/MessdatenFeldversuch/206 B5/2022-09-10_12-00-00.bin\n",
      "/store/projects/fallki/MessdatenFeldversuch/206 B5/2022-09-15_14-00-00.bin\n",
      "/store/projects/fallki/MessdatenFeldversuch/206 B5/2022-09-11_12-00-00.bin\n",
      "/store/projects/fallki/MessdatenFeldversuch/206 B5/2022-09-13_11-00-00.bin\n",
      "/store/projects/fallki/MessdatenFeldversuch/206 B5/2022-09-14_15-00-00.bin\n",
      "/store/projects/fallki/MessdatenFeldversuch/206 B5/2022-09-10_13-00-00.bin\n",
      "/store/projects/fallki/MessdatenFeldversuch/206 B5/2022-09-12_10-00-00.bin\n",
      "/store/projects/fallki/MessdatenFeldversuch/206 B5/2022-09-11_11-00-00.bin\n",
      "/store/projects/fallki/MessdatenFeldversuch/206 B5/2022-09-13_12-00-00.bin\n",
      "/store/projects/fallki/MessdatenFeldversuch/206 B5/2022-09-15_17-00-00.bin\n",
      "/store/projects/fallki/MessdatenFeldversuch/206 B5/2022-09-10_10-00-00.bin\n",
      "/store/projects/fallki/MessdatenFeldversuch/206 B5/2022-09-12_13-00-00.bin\n",
      "/store/projects/fallki/MessdatenFeldversuch/206 B5/2022-09-14_16-00-00.bin\n",
      "/store/projects/fallki/MessdatenFeldversuch/206 B5/2022-09-13_13-00-00.bin\n",
      "/store/projects/fallki/MessdatenFeldversuch/206 B5/2022-09-11_10-00-00.bin\n",
      "/store/projects/fallki/MessdatenFeldversuch/206 B5/2022-09-15_16-00-00.bin\n",
      "/store/projects/fallki/MessdatenFeldversuch/206 B5/2022-09-12_12-00-00.bin\n",
      "/store/projects/fallki/MessdatenFeldversuch/206 B5/2022-09-10_11-00-00.bin\n",
      "/store/projects/fallki/MessdatenFeldversuch/206 B5/2022-09-14_17-00-00.bin\n",
      "/store/projects/fallki/MessdatenFeldversuch/206 B5/2022-09-12_15-00-00.bin\n",
      "/store/projects/fallki/MessdatenFeldversuch/206 B5/2022-09-10_16-00-00.bin\n",
      "/store/projects/fallki/MessdatenFeldversuch/206 B5/2022-09-09_20-00-00.bin\n",
      "/store/projects/fallki/MessdatenFeldversuch/206 B5/2022-09-14_10-00-00.bin\n",
      "/store/projects/fallki/MessdatenFeldversuch/206 B5/2022-09-13_14-00-00.bin\n",
      "/store/projects/fallki/MessdatenFeldversuch/206 B5/2022-09-11_17-00-00.bin\n",
      "/store/projects/fallki/MessdatenFeldversuch/206 B5/2022-09-15_11-00-00.bin\n",
      "/store/projects/fallki/MessdatenFeldversuch/206 B5/2022-09-10_17-00-00.bin\n",
      "/store/projects/fallki/MessdatenFeldversuch/206 B5/2022-09-09_21-00-00.bin\n",
      "/store/projects/fallki/MessdatenFeldversuch/206 B5/2022-09-12_14-00-00.bin\n",
      "/store/projects/fallki/MessdatenFeldversuch/206 B5/2022-09-14_11-00-00.bin\n",
      "/store/projects/fallki/MessdatenFeldversuch/206 B5/2022-09-11_16-00-00.bin\n",
      "/store/projects/fallki/MessdatenFeldversuch/206 B5/2022-09-13_15-00-00.bin\n",
      "/store/projects/fallki/MessdatenFeldversuch/206 B5/2022-09-15_10-00-00.bin\n",
      "/store/projects/fallki/MessdatenFeldversuch/206 B5/2022-09-14_12-00-00.bin\n",
      "/store/projects/fallki/MessdatenFeldversuch/206 B5/2022-09-16_11-00-00.bin\n",
      "/store/projects/fallki/MessdatenFeldversuch/206 B5/2022-09-09_22-00-00.bin\n",
      "/store/projects/fallki/MessdatenFeldversuch/206 B5/2022-09-10_14-00-00.bin\n",
      "/store/projects/fallki/MessdatenFeldversuch/206 B5/2022-09-12_17-00-00.bin\n",
      "/store/projects/fallki/MessdatenFeldversuch/206 B5/2022-09-15_13-00-00.bin\n",
      "/store/projects/fallki/MessdatenFeldversuch/206 B5/2022-09-11_15-00-00.bin\n",
      "/store/projects/fallki/MessdatenFeldversuch/206 B5/2022-09-13_16-00-00.bin\n",
      "/store/projects/fallki/MessdatenFeldversuch/206 B5/2022-09-16_10-00-00.bin\n",
      "/store/projects/fallki/MessdatenFeldversuch/206 B5/2022-09-14_13-00-00.bin\n",
      "/store/projects/fallki/MessdatenFeldversuch/206 B5/2022-09-12_16-00-00.bin\n",
      "/store/projects/fallki/MessdatenFeldversuch/206 B5/2022-09-09_23-00-00.bin\n",
      "/store/projects/fallki/MessdatenFeldversuch/206 B5/2022-09-10_15-00-00.bin\n",
      "/store/projects/fallki/MessdatenFeldversuch/206 B5/2022-09-15_12-00-00.bin\n",
      "/store/projects/fallki/MessdatenFeldversuch/206 B5/2022-09-13_17-00-00.bin\n",
      "/store/projects/fallki/MessdatenFeldversuch/206 B5/2022-09-11_14-00-00.bin\n"
     ]
    }
   ],
   "source": [
    "for x in runFiles:\n",
    "    #if x == \"/store/projects/fallki/MessdatenFeldversuch/206 B5/2022-09-14_18-00-00.bin\":\n",
    "        print(x)"
   ]
  },
  {
   "cell_type": "code",
   "execution_count": 62,
   "id": "9be10e02-f364-4db9-8bc8-bdb696b36850",
   "metadata": {},
   "outputs": [],
   "source": [
    "# function to load a binary file into a pd.DataFrame\n",
    "\n",
    "def readBinaryToPandas(filepath, dt=np.dtype('int16'), datetime_fmt=True):\n",
    "    try:\n",
    "        df = pd.DataFrame(np.fromfile(filepath, dtype=dt, count=-1, sep=''))\n",
    "        \n",
    "    except IOError:\n",
    "        print(\"Error while opening the file!\")\n",
    "        \n",
    "    #We need to reorder data & and add time from filename                   \n",
    "    x = df.iloc[0::3].to_numpy().reshape(-1)\n",
    "    y = df.iloc[1::3].to_numpy().reshape(-1)\n",
    "    z = df.iloc[2::3].to_numpy().reshape(-1)\n",
    "    \n",
    "    # I use min_len here, because it appears that sometimes the data is not uploaded entirely\n",
    "    # In such a case we might have differing numbers of x,y and z values. This way I make sure\n",
    "    # we are still able to parse every point that has been uploaded completely into a pandas dataframe.\n",
    "    min_len = np.min([len(x),len(y),len(z)])\n",
    "    samples_per_second = 1600\n",
    "    \n",
    "    print(f\"{min_len} rows\")\n",
    "    \n",
    "    df = pd.DataFrame({'x': x[:min_len],'y': y[:min_len],'z': z[:min_len]})\n",
    "    df.name = filepath.stem\n",
    "    \n",
    "    if datetime_fmt:\n",
    "        start = datetime.datetime.strptime(filepath.stem,'%Y-%m-%d_%H-%M-%S')\n",
    "        end = start + datetime.timedelta(seconds=(1 / samples_per_second) * (min_len - 1))\n",
    "        df['time'] = pd.date_range(start, end, freq=\"0.625ms\")\n",
    "    else:\n",
    "        start = 0\n",
    "        end = (1 / samples_per_second) * (min_len - 1)\n",
    "        df['time'] = np.linspace(0, end, min_len)\n",
    "    \n",
    "    return df\n"
   ]
  },
  {
   "cell_type": "code",
   "execution_count": 63,
   "id": "53456b2d-0516-4301-a2b4-f91b81bd08b3",
   "metadata": {},
   "outputs": [],
   "source": [
    "#runFiles"
   ]
  },
  {
   "cell_type": "code",
   "execution_count": 64,
   "id": "e88b0694-94e7-4986-8ab0-52685e9d0ba3",
   "metadata": {},
   "outputs": [
    {
     "name": "stdout",
     "output_type": "stream",
     "text": [
      "5772030 rows\n"
     ]
    }
   ],
   "source": [
    "Real_data = readBinaryToPandas(runFiles[59])"
   ]
  },
  {
   "cell_type": "code",
   "execution_count": 65,
   "id": "c5d1a785-e7a4-4d48-b249-02ba6c4d7908",
   "metadata": {
    "tags": []
   },
   "outputs": [
    {
     "data": {
      "text/html": [
       "<div>\n",
       "<style scoped>\n",
       "    .dataframe tbody tr th:only-of-type {\n",
       "        vertical-align: middle;\n",
       "    }\n",
       "\n",
       "    .dataframe tbody tr th {\n",
       "        vertical-align: top;\n",
       "    }\n",
       "\n",
       "    .dataframe thead th {\n",
       "        text-align: right;\n",
       "    }\n",
       "</style>\n",
       "<table border=\"1\" class=\"dataframe\">\n",
       "  <thead>\n",
       "    <tr style=\"text-align: right;\">\n",
       "      <th></th>\n",
       "      <th>x</th>\n",
       "      <th>y</th>\n",
       "      <th>z</th>\n",
       "      <th>time</th>\n",
       "    </tr>\n",
       "  </thead>\n",
       "  <tbody>\n",
       "    <tr>\n",
       "      <th>0</th>\n",
       "      <td>-1</td>\n",
       "      <td>8</td>\n",
       "      <td>1014</td>\n",
       "      <td>2022-09-13 18:00:00.000000</td>\n",
       "    </tr>\n",
       "    <tr>\n",
       "      <th>1</th>\n",
       "      <td>0</td>\n",
       "      <td>9</td>\n",
       "      <td>1018</td>\n",
       "      <td>2022-09-13 18:00:00.000625</td>\n",
       "    </tr>\n",
       "    <tr>\n",
       "      <th>2</th>\n",
       "      <td>0</td>\n",
       "      <td>9</td>\n",
       "      <td>1016</td>\n",
       "      <td>2022-09-13 18:00:00.001250</td>\n",
       "    </tr>\n",
       "    <tr>\n",
       "      <th>3</th>\n",
       "      <td>-1</td>\n",
       "      <td>6</td>\n",
       "      <td>1016</td>\n",
       "      <td>2022-09-13 18:00:00.001875</td>\n",
       "    </tr>\n",
       "    <tr>\n",
       "      <th>4</th>\n",
       "      <td>-3</td>\n",
       "      <td>5</td>\n",
       "      <td>1018</td>\n",
       "      <td>2022-09-13 18:00:00.002500</td>\n",
       "    </tr>\n",
       "    <tr>\n",
       "      <th>...</th>\n",
       "      <td>...</td>\n",
       "      <td>...</td>\n",
       "      <td>...</td>\n",
       "      <td>...</td>\n",
       "    </tr>\n",
       "    <tr>\n",
       "      <th>5772025</th>\n",
       "      <td>-3</td>\n",
       "      <td>4</td>\n",
       "      <td>1018</td>\n",
       "      <td>2022-09-13 19:00:07.515625</td>\n",
       "    </tr>\n",
       "    <tr>\n",
       "      <th>5772026</th>\n",
       "      <td>0</td>\n",
       "      <td>4</td>\n",
       "      <td>1020</td>\n",
       "      <td>2022-09-13 19:00:07.516250</td>\n",
       "    </tr>\n",
       "    <tr>\n",
       "      <th>5772027</th>\n",
       "      <td>3</td>\n",
       "      <td>8</td>\n",
       "      <td>1014</td>\n",
       "      <td>2022-09-13 19:00:07.516875</td>\n",
       "    </tr>\n",
       "    <tr>\n",
       "      <th>5772028</th>\n",
       "      <td>-1</td>\n",
       "      <td>10</td>\n",
       "      <td>1010</td>\n",
       "      <td>2022-09-13 19:00:07.517500</td>\n",
       "    </tr>\n",
       "    <tr>\n",
       "      <th>5772029</th>\n",
       "      <td>0</td>\n",
       "      <td>3</td>\n",
       "      <td>1008</td>\n",
       "      <td>2022-09-13 19:00:07.518125</td>\n",
       "    </tr>\n",
       "  </tbody>\n",
       "</table>\n",
       "<p>5772030 rows × 4 columns</p>\n",
       "</div>"
      ],
      "text/plain": [
       "         x   y     z                       time\n",
       "0       -1   8  1014 2022-09-13 18:00:00.000000\n",
       "1        0   9  1018 2022-09-13 18:00:00.000625\n",
       "2        0   9  1016 2022-09-13 18:00:00.001250\n",
       "3       -1   6  1016 2022-09-13 18:00:00.001875\n",
       "4       -3   5  1018 2022-09-13 18:00:00.002500\n",
       "...     ..  ..   ...                        ...\n",
       "5772025 -3   4  1018 2022-09-13 19:00:07.515625\n",
       "5772026  0   4  1020 2022-09-13 19:00:07.516250\n",
       "5772027  3   8  1014 2022-09-13 19:00:07.516875\n",
       "5772028 -1  10  1010 2022-09-13 19:00:07.517500\n",
       "5772029  0   3  1008 2022-09-13 19:00:07.518125\n",
       "\n",
       "[5772030 rows x 4 columns]"
      ]
     },
     "execution_count": 65,
     "metadata": {},
     "output_type": "execute_result"
    }
   ],
   "source": [
    "Real_data"
   ]
  },
  {
   "cell_type": "code",
   "execution_count": 66,
   "id": "270d6853-424e-4280-a9ca-b4daafab90d4",
   "metadata": {
    "tags": []
   },
   "outputs": [
    {
     "data": {
      "text/plain": [
       "Text(0.5, 1.0, 'A single plot')"
      ]
     },
     "execution_count": 66,
     "metadata": {},
     "output_type": "execute_result"
    },
    {
     "data": {
      "image/png": "[encoded data removed]",
      "text/plain": [
       "<Figure size 432x288 with 1 Axes>"
      ]
     },
     "metadata": {
      "needs_background": "light"
     },
     "output_type": "display_data"
    }
   ],
   "source": [
    "#single plot\n",
    "fig, ax = plt.subplots()\n",
    "ax.plot(Real_data['time'],Real_data['z'])\n",
    "ax.set_title('A single plot')"
   ]
  },
  {
   "cell_type": "code",
   "execution_count": 71,
   "id": "750f5aa7-9bfb-4a74-b404-8aeaa85d296f",
   "metadata": {},
   "outputs": [],
   "source": [
    "plot1= Real_data[(Real_data['time'] >= '2022-09-13 18:00:00.000000') & (Real_data['time'] <= '2022-09-13 18:15:00.000000')]\n",
    "plot2= Real_data[(Real_data['time'] > '2022-09-13 18:15:00.000000') & (Real_data['time'] <= '2022-09-13 18:30:00.000000')]\n",
    "plot3= Real_data[(Real_data['time'] > '2022-09-13 18:30:00.000000') & (Real_data['time'] <= '2022-09-13 18:45:00.000000')]\n",
    "plot4= Real_data[(Real_data['time'] > '2022-09-13 18:45:00.000000') & (Real_data['time'] <= '2022-09-13 18:59:41.924375')]"
   ]
  },
  {
   "cell_type": "code",
   "execution_count": 72,
   "id": "f5f83574-4487-4345-80c8-d20736b920d3",
   "metadata": {},
   "outputs": [
    {
     "data": {
      "image/png": "[encoded data removed]",
      "text/plain": [
       "<Figure size 432x288 with 4 Axes>"
      ]
     },
     "metadata": {
      "needs_background": "light"
     },
     "output_type": "display_data"
    }
   ],
   "source": [
    "fig, axs = plt.subplots(2, 2)\n",
    "axs[0, 0].plot(plot1['time'],plot1['z'], 'tab:blue')\n",
    "axs[0, 0].set_title('Axis [0, 0]')\n",
    "axs[0, 1].plot(plot2['time'], plot2['z'], 'tab:blue')\n",
    "axs[0, 1].set_title('Axis [0, 1]')\n",
    "axs[1, 0].plot(plot3['time'], plot3['z'], 'tab:blue')\n",
    "axs[1, 0].set_title('Axis [1, 0]')\n",
    "axs[1, 1].plot(plot4['time'], plot4['z'], 'tab:blue')\n",
    "axs[1, 1].set_title('Axis [1, 1]')\n",
    "\n",
    "for ax in axs.flat:\n",
    "    ax.set(xlabel='x-label', ylabel='y-label')\n",
    "\n",
    "# Hide x labels and tick labels for top plots and y ticks for right plots.\n",
    "for ax in axs.flat:\n",
    "    ax.label_outer()"
   ]
  },
  {
   "cell_type": "code",
   "execution_count": null,
   "id": "cbdc631b-13f1-4802-b5f9-b66c3a5c7acb",
   "metadata": {},
   "outputs": [],
   "source": []
  }
 ],
 "metadata": {
  "kernelspec": {
   "display_name": "Python 3 (ipykernel)",
   "language": "python",
   "name": "python3"
  },
  "language_info": {
   "codemirror_mode": {
    "name": "ipython",
    "version": 3
   },
   "file_extension": ".py",
   "mimetype": "text/x-python",
   "name": "python",
   "nbconvert_exporter": "python",
   "pygments_lexer": "ipython3",
   "version": "3.9.9"
  }
 },
 "nbformat": 4,
 "nbformat_minor": 5
}
