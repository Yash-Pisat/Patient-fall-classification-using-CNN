{
 "cells": [
  {
   "cell_type": "markdown",
   "id": "c3f164db-9bcd-47f7-a7df-1ea5fd1e4d52",
   "metadata": {},
   "source": [
    "# Classificator with all data augmentation technqiues on positive events (including combinations)"
   ]
  },
  {
   "cell_type": "code",
   "execution_count": 1,
   "id": "6faa47b7-8263-4596-a04d-64be30a1ce65",
   "metadata": {},
   "outputs": [
    {
     "name": "stderr",
     "output_type": "stream",
     "text": [
      "2022-12-10 16:11:56.426730: I tensorflow/core/platform/cpu_feature_guard.cc:193] This TensorFlow binary is optimized with oneAPI Deep Neural Network Library (oneDNN) to use the following CPU instructions in performance-critical operations:  SSE4.1 SSE4.2 AVX AVX2 AVX512F FMA\n",
      "To enable them in other operations, rebuild TensorFlow with the appropriate compiler flags.\n"
     ]
    }
   ],
   "source": [
    "from lib import Augmentation_methods\n",
    "from lib import data_preparation\n",
    "\n",
    "import matplotlib.pyplot as plt\n",
    "from scipy.signal import stft\n",
    "import numpy as np\n",
    "import pandas as pd\n",
    "from pathlib import Path\n",
    "\n",
    "from sklearn.model_selection import train_test_split\n",
    "\n",
    "from tensorflow import keras\n",
    "from tensorflow.keras.models import Sequential\n",
    "from tensorflow.keras.layers import Dense, Conv2D, MaxPooling2D, Flatten\n",
    "from IPython.display import clear_output"
   ]
  },
  {
   "cell_type": "code",
   "execution_count": 2,
   "id": "bb2c24e5-fc48-4cda-a1ef-6435c5e4d418",
   "metadata": {},
   "outputs": [],
   "source": [
    "BASEDIR = Path(\"/store/projects/fallki/\")\n",
    "FAKEDIR = BASEDIR / \"Fake-Events\" / \"2. Fake-Events Messung\"\n",
    "\n",
    "# BASEDIR = pathlib.Path('/store/projects/fallki/')\n",
    "# FAKEDIR = pathlib.Path('Fake-Events/2. Fake-Events Messung/')\n",
    "df_fake = pd.read_parquet(BASEDIR / FAKEDIR / 'gSensoren_FakeEvents.parquet')"
   ]
  },
  {
   "cell_type": "markdown",
   "id": "1364d827-3e9a-44a9-aebe-0643cab97776",
   "metadata": {},
   "source": [
    "### Positive evennts"
   ]
  },
  {
   "cell_type": "code",
   "execution_count": 3,
   "id": "0c570cfe-0c1a-429f-813b-a77ee5f5cb4a",
   "metadata": {},
   "outputs": [
    {
     "name": "stderr",
     "output_type": "stream",
     "text": [
      "/home/ing2146/Final/SNEHA/lib/data_preparation.py:202: VisibleDeprecationWarning: Creating an ndarray from ragged nested sequences (which is a list-or-tuple of lists-or-tuples-or ndarrays with different lengths or shapes) is deprecated. If you meant to do this, you must specify 'dtype=object' when creating the ndarray.\n",
      "  All_Events_Data = np.array(All_Events_Data)[shuffler]\n",
      "/home/ing2146/Final/SNEHA/lib/data_preparation.py:226: VisibleDeprecationWarning: Creating an ndarray from ragged nested sequences (which is a list-or-tuple of lists-or-tuples-or ndarrays with different lengths or shapes) is deprecated. If you meant to do this, you must specify 'dtype=object' when creating the ndarray.\n",
      "  df_fake_dummy_Data = np.array(df_fake_dummy_Data)\n"
     ]
    }
   ],
   "source": [
    "F = data_preparation.fake_lab_data()\n",
    "Positive_events = F[3]\n",
    "Positive_labels = F[4]"
   ]
  },
  {
   "cell_type": "code",
   "execution_count": null,
   "id": "bb551bbb-8efe-4fe3-8ba7-8fdfb382f3ce",
   "metadata": {},
   "outputs": [],
   "source": [
    "Positive_events"
   ]
  },
  {
   "cell_type": "code",
   "execution_count": null,
   "id": "3f004ef6-26ee-47df-a4c9-a2a950265fe6",
   "metadata": {},
   "outputs": [],
   "source": [
    "Positive_labels"
   ]
  },
  {
   "cell_type": "markdown",
   "id": "a0782fbe-4b6c-4a57-ad07-f8fd3ba34dd2",
   "metadata": {},
   "source": [
    "### Augmented positive data preparation from different DA techniques"
   ]
  },
  {
   "cell_type": "code",
   "execution_count": 4,
   "id": "7f4709bb-8b9a-4bde-af9d-c4df46a7c553",
   "metadata": {},
   "outputs": [
    {
     "name": "stderr",
     "output_type": "stream",
     "text": [
      "/tmp/ipykernel_2397517/1342348093.py:60: VisibleDeprecationWarning: Creating an ndarray from ragged nested sequences (which is a list-or-tuple of lists-or-tuples-or ndarrays with different lengths or shapes) is deprecated. If you meant to do this, you must specify 'dtype=object' when creating the ndarray.\n",
      "  augmented_dummy_array = np.array(augmented_dummy)\n"
     ]
    }
   ],
   "source": [
    "augmented_dummy = []\n",
    "augmented_dummy_label = []\n",
    "\n",
    "for i, event in enumerate(Positive_events): \n",
    "    \n",
    "    #Jittering\n",
    "    Noise_dummy = Augmentation_methods.add_white_noise(event, 0.15) \n",
    "    augmented_dummy.append(Noise_dummy)\n",
    "    augmented_dummy_label.append(Positive_labels[i])\n",
    "    \n",
    "    #Magnitude Warping\n",
    "    magnitude_warped_dummy =  Augmentation_methods.magnitudewarping(event,0.1, 20) \n",
    "    augmented_dummy.append(magnitude_warped_dummy[1])\n",
    "    augmented_dummy_label.append(Positive_labels[i])\n",
    "    \n",
    "    #Time Warping\n",
    "    Time_warped_dummy = Augmentation_methods.DA_TimeWarp(event, 0.3, 4) \n",
    "    augmented_dummy.append(Time_warped_dummy[2])\n",
    "    augmented_dummy_label.append(Positive_labels[i])\n",
    "    \n",
    "    #Window Warping\n",
    "    window_warped_dummy = Augmentation_methods.windowWarp(event, window_ratio=0.1, scales=[0.5, 2.]) \n",
    "    augmented_dummy.append(window_warped_dummy)\n",
    "    augmented_dummy_label.append(Positive_labels[i])\n",
    "    \n",
    "    #Permutation\n",
    "    permutated_dummy = Augmentation_methods.Permutation(event, nPerm=4, minSegLength=10) \n",
    "    augmented_dummy.append(permutated_dummy[1])\n",
    "    augmented_dummy_label.append(Positive_labels[i])\n",
    "    \n",
    "    #Jittering + Magnitude warping\n",
    "    curve_JMW, jittered_magnitude_warped_dummy  =  Augmentation_methods.magnitudewarping((Augmentation_methods.add_white_noise(event, 0.50)),0.1, 10)\n",
    "    augmented_dummy.append(jittered_magnitude_warped_dummy)\n",
    "    augmented_dummy_label.append(Positive_labels[i])\n",
    "    \n",
    "    #Jittering + Time warping\n",
    "    jittered_time_curve,Jittered_Time_warped_dummy, Jittered_Time_warped_dummy_stft = Augmentation_methods.DA_TimeWarp((Augmentation_methods.add_white_noise(event, 0.50)), 0.3, 4)\n",
    "    augmented_dummy.append(Jittered_Time_warped_dummy_stft)\n",
    "    augmented_dummy_label.append(Positive_labels[i])\n",
    "    \n",
    "    #Jittering + window warping\n",
    "    Jittered_window_warped_dummy = Augmentation_methods.windowWarp((Augmentation_methods.add_white_noise(event, 0.50)), window_ratio=0.1, scales=[0.5, 2.])\n",
    "    augmented_dummy.append(Jittered_window_warped_dummy)\n",
    "    augmented_dummy_label.append(Positive_labels[i])\n",
    "    \n",
    "    #magnitude warping + window warping\n",
    "    mag_warped  =  Augmentation_methods.magnitudewarping(event,0.1, 10)\n",
    "    mag_window_warped_dummy = Augmentation_methods.windowWarp(mag_warped[1] , window_ratio=0.1, scales=[0.5, 2.])\n",
    "    augmented_dummy.append(mag_window_warped_dummy)\n",
    "    augmented_dummy_label.append(Positive_labels[i])\n",
    "    \n",
    "    #Time warping + window warping\n",
    "    t_warped = Augmentation_methods.DA_TimeWarp(event, 0.3, 4)\n",
    "    time_window_warped_dummy = Augmentation_methods.windowWarp(t_warped[2] , window_ratio=0.1, scales=[0.5, 2.])\n",
    "    augmented_dummy.append(time_window_warped_dummy)\n",
    "    augmented_dummy_label.append(Positive_labels[i])\n",
    "    \n",
    "    \n",
    "    \n",
    "augmented_dummy_array = np.array(augmented_dummy)  \n",
    "augmented_dummy_label = np.array(augmented_dummy_label)"
   ]
  },
  {
   "cell_type": "code",
   "execution_count": 5,
   "id": "f3443bd4-b989-49e7-bea5-4a6360442e4c",
   "metadata": {},
   "outputs": [],
   "source": [
    "augmented_dummy_array_df =pd.DataFrame(augmented_dummy_array,columns=['z'])\n",
    "augmented_dummy_array_df['event'] = augmented_dummy_label\n",
    "#augmented_dummy_array_df"
   ]
  },
  {
   "cell_type": "markdown",
   "id": "2537cbda-4a3b-4100-95a7-3e4784f9633b",
   "metadata": {},
   "source": [
    "## Data Preparation  "
   ]
  },
  {
   "cell_type": "code",
   "execution_count": 6,
   "id": "7a1c9487-b42a-4f0b-8e15-43c6f5d995e0",
   "metadata": {},
   "outputs": [],
   "source": [
    "def SignalToSpectrum(signal, samplerate=1600):\n",
    "    SIGNAL_LENGTH = samplerate * 10\n",
    "    F = stft(signal[:SIGNAL_LENGTH], 1600, nperseg=128)[2]\n",
    "    F = F[2:,]\n",
    "    return np.expand_dims(np.abs(F), axis=2) # Add extra dimension for TF Conv2D"
   ]
  },
  {
   "cell_type": "markdown",
   "id": "1623b07c-1ed0-4eca-9392-f6bd26479796",
   "metadata": {},
   "source": [
    "### Augmented dummy data "
   ]
  },
  {
   "cell_type": "code",
   "execution_count": 7,
   "id": "d1739e3c-18a3-4bfe-b857-78c2a480a347",
   "metadata": {},
   "outputs": [],
   "source": [
    "M = []\n",
    "for i in range(len(augmented_dummy_array_df)):\n",
    "    M.append({\"event\": augmented_dummy_array_df.event[i] ,\n",
    "              \"istSturz\": int((augmented_dummy_array_df.event[i]) == \"Dummy\"),\n",
    "              \"signalLenght\": len(augmented_dummy_array_df.z[i]),\n",
    "              \"spectrum\": SignalToSpectrum(augmented_dummy_array_df.z[i])})\n",
    "augmented_df = pd.DataFrame.from_dict(M)"
   ]
  },
  {
   "cell_type": "code",
   "execution_count": null,
   "id": "ba422069-f9e2-4e4a-8cdf-bc1c6cd20a65",
   "metadata": {},
   "outputs": [],
   "source": [
    "augmented_df"
   ]
  },
  {
   "cell_type": "code",
   "execution_count": 8,
   "id": "e6b8b254-5b6a-4c8b-9fc7-8e547e30ab74",
   "metadata": {},
   "outputs": [],
   "source": [
    "#shuffle the final dataframe\n",
    "augmented_df = augmented_df.sample(frac=1).reset_index(drop=True)"
   ]
  },
  {
   "cell_type": "code",
   "execution_count": null,
   "id": "423a508e-ae93-4c9c-a8b3-87f7c84beaeb",
   "metadata": {},
   "outputs": [],
   "source": [
    "augmented_df.head(50)"
   ]
  },
  {
   "cell_type": "code",
   "execution_count": 9,
   "id": "fe3efa7a-b4f4-479e-8502-750d043bc9c4",
   "metadata": {},
   "outputs": [],
   "source": [
    "# normalize the spectrum to facilitate training\n",
    "augmented_df[\"normalizedSpectrum\"] = augmented_df[\"spectrum\"] / augmented_df[\"spectrum\"].map(np.max).max()"
   ]
  },
  {
   "cell_type": "code",
   "execution_count": null,
   "id": "bbd409c3-8b03-4513-974d-7483d0280f9a",
   "metadata": {},
   "outputs": [],
   "source": [
    "augmented_df"
   ]
  },
  {
   "cell_type": "markdown",
   "id": "3950d14f-d800-4728-a256-1abf10a486a4",
   "metadata": {},
   "source": [
    "## Model"
   ]
  },
  {
   "cell_type": "code",
   "execution_count": 10,
   "id": "b09d5bc7-7c93-42d3-adb9-3fa522113a27",
   "metadata": {},
   "outputs": [
    {
     "name": "stdout",
     "output_type": "stream",
     "text": [
      "Model: \"sequential\"\n",
      "_________________________________________________________________\n",
      " Layer (type)                Output Shape              Param #   \n",
      "=================================================================\n",
      " conv2d (Conv2D)             (None, 1, 247, 8)         2528      \n",
      "                                                                 \n",
      " max_pooling2d (MaxPooling2D  (None, 1, 61, 8)         0         \n",
      " )                                                               \n",
      "                                                                 \n",
      " flatten (Flatten)           (None, 488)               0         \n",
      "                                                                 \n",
      " dense (Dense)               (None, 1)                 489       \n",
      "                                                                 \n",
      "=================================================================\n",
      "Total params: 3,017\n",
      "Trainable params: 3,017\n",
      "Non-trainable params: 0\n",
      "_________________________________________________________________\n"
     ]
    },
    {
     "name": "stderr",
     "output_type": "stream",
     "text": [
      "2022-12-10 16:13:56.526755: I tensorflow/core/platform/cpu_feature_guard.cc:193] This TensorFlow binary is optimized with oneAPI Deep Neural Network Library (oneDNN) to use the following CPU instructions in performance-critical operations:  SSE4.1 SSE4.2 AVX AVX2 AVX512F FMA\n",
      "To enable them in other operations, rebuild TensorFlow with the appropriate compiler flags.\n"
     ]
    }
   ],
   "source": [
    "# initialize a sequential network model https://www.tensorflow.org/api_docs/python/tf/keras/Sequential\n",
    "mdl = Sequential()\n",
    "# as a first layer add a convolutional layer https://www.tensorflow.org/api_docs/python/tf/keras/layers/Conv2D\n",
    "# the input shape is our image size 63x251 px the additional,1 is the channel feature we do not need and therefore leave at 1\n",
    "# the Integer 8 here is the dimensionality of the output space (i.e. the number of output filters in the convolution).\n",
    "# (63, 5) specifies the kernel size. the first dimension gives the entire length of the images rows, we chose this because we want \n",
    "# to have information about all the different frequencies at the same time, the 5 can be varied but specifies how long the time interval is\n",
    "# which is brought into context with one another\n",
    "mdl.add(Conv2D(8, (63, 5), activation=\"relu\", input_shape=(63, 251, 1)))\n",
    "# https://www.tensorflow.org/api_docs/python/tf/keras/layers/MaxPool2D The pooling layer just keeps the max value px in a (1, 4) window\n",
    "mdl.add(MaxPooling2D((1, 4)))\n",
    "# removes the 2 dimensionality of the data -> just a vector now https://www.tensorflow.org/api_docs/python/tf/keras/layers/Flatten\n",
    "mdl.add(Flatten())\n",
    "# this is just your usual dense connected layer of a NN https://www.tensorflow.org/api_docs/python/tf/keras/layers/Dense, the 1 specifies the \n",
    "# number of output parameters we want, which is just 1\n",
    "mdl.add(Dense(1))\n",
    "# configures the model for training https://www.tensorflow.org/api_docs/python/tf/keras/Model#compile\n",
    "mdl.compile(optimizer=\"adam\", loss=\"binary_crossentropy\", metrics=[\"accuracy\"])\n",
    "# this just prints the model summery below\n",
    "mdl.summary()\n"
   ]
  },
  {
   "cell_type": "code",
   "execution_count": 11,
   "id": "8e2d0d69-5091-46ce-9432-bd20bf6d8a93",
   "metadata": {},
   "outputs": [
    {
     "data": {
      "text/plain": [
       "Getränkeflasche        165\n",
       "Pflegeartikel          165\n",
       "Springen               150\n",
       "Schlüsselbund          147\n",
       "Dummy                  144\n",
       "Stuhl kippt            143\n",
       "Handy                  143\n",
       "Krücken                142\n",
       "Möbel verrücken        142\n",
       "Hantel                 142\n",
       "1.5L Flasche           140\n",
       "Wasserkasten           137\n",
       "Tablett mit Besteck    136\n",
       "Koffer                 134\n",
       "2 Bücher               128\n",
       "Name: event, dtype: int64"
      ]
     },
     "execution_count": 11,
     "metadata": {},
     "output_type": "execute_result"
    }
   ],
   "source": [
    "X = np.stack(augmented_df[\"normalizedSpectrum\"].to_list())\n",
    "y = augmented_df[\"istSturz\"].to_numpy()\n",
    "\n",
    "# split data in train and test set\n",
    "train, test = train_test_split(range(len(y)), test_size=0.2,stratify= y)\n",
    "# how many of the respective events are contained in the test set\n",
    "augmented_df[\"event\"][test].value_counts()"
   ]
  },
  {
   "cell_type": "markdown",
   "id": "f1175b69-70d4-471f-b95b-158d00ce3b34",
   "metadata": {},
   "source": [
    "### To plot accuracy and loss curve after each epoch"
   ]
  },
  {
   "cell_type": "code",
   "execution_count": 12,
   "id": "8bba1a82-6f55-43fe-879d-9019c3e0cc9e",
   "metadata": {},
   "outputs": [],
   "source": [
    "class PlotLearning(keras.callbacks.Callback):\n",
    "    \"\"\"\n",
    "    Callback to plot the learning curves of the model during training.\n",
    "    \"\"\"\n",
    "    def on_train_begin(self, logs={}):   \n",
    "        self.metrics = {}\n",
    "        for metric in logs:\n",
    "            self.metrics[metric] = []\n",
    "            \n",
    "\n",
    "    def on_epoch_end(self, epoch, logs={}):\n",
    "        # Storing metrics\n",
    "        for metric in logs:\n",
    "            if metric in self.metrics:\n",
    "                self.metrics[metric].append(logs.get(metric))\n",
    "            else:\n",
    "                self.metrics[metric] = [logs.get(metric)]\n",
    "        \n",
    "        # Plotting\n",
    "        metrics = [x for x in logs if 'val' not in x]\n",
    "        \n",
    "        f, axs = plt.subplots(1, len(metrics), figsize=(15,5))\n",
    "        clear_output(wait=True)\n",
    "\n",
    "        for i, metric in enumerate(metrics):\n",
    "            axs[i].plot(range(1, epoch + 2), \n",
    "                        self.metrics[metric], \n",
    "                        label=metric)\n",
    "            if logs['val_' + metric]:\n",
    "                axs[i].plot(range(1, epoch + 2), \n",
    "                            self.metrics['val_' + metric], \n",
    "                            label='val_' + metric)\n",
    "                \n",
    "            axs[i].legend()\n",
    "            axs[i].grid()\n",
    "\n",
    "        plt.tight_layout()\n",
    "        plt.show()"
   ]
  },
  {
   "cell_type": "code",
   "execution_count": 13,
   "id": "99b5b134-584f-44c5-b344-26908955f1fe",
   "metadata": {},
   "outputs": [
    {
     "data": {
      "image/png": "[encoded data removed]",
      "text/plain": [
       "<Figure size 1500x500 with 2 Axes>"
      ]
     },
     "metadata": {},
     "output_type": "display_data"
    },
    {
     "name": "stdout",
     "output_type": "stream",
     "text": [
      "270/270 [==============================] - 3s 11ms/step - loss: 0.0677 - accuracy: 0.9718 - val_loss: 0.1584 - val_accuracy: 0.9676\n"
     ]
    }
   ],
   "source": [
    "# actual training..\n",
    "callbacks_list = [PlotLearning()]\n",
    "history = mdl.fit(X[train, ], y[train], epochs=75, validation_data=(X[test,], y[test]),callbacks=callbacks_list)"
   ]
  },
  {
   "cell_type": "code",
   "execution_count": 14,
   "id": "26f92503-ab0d-46b9-ade3-85bba2f0b0ba",
   "metadata": {},
   "outputs": [
    {
     "data": {
      "text/plain": [
       "720"
      ]
     },
     "execution_count": 14,
     "metadata": {},
     "output_type": "execute_result"
    }
   ],
   "source": [
    "augmented_df.istSturz.sum()"
   ]
  },
  {
   "cell_type": "code",
   "execution_count": 17,
   "id": "5eec15ff-765b-4d54-b2d6-a2abc70a4182",
   "metadata": {},
   "outputs": [
    {
     "name": "stdout",
     "output_type": "stream",
     "text": [
      "338/338 [==============================] - 1s 3ms/step\n"
     ]
    },
    {
     "data": {
      "text/html": [
       "<div>\n",
       "<style scoped>\n",
       "    .dataframe tbody tr th:only-of-type {\n",
       "        vertical-align: middle;\n",
       "    }\n",
       "\n",
       "    .dataframe tbody tr th {\n",
       "        vertical-align: top;\n",
       "    }\n",
       "\n",
       "    .dataframe thead th {\n",
       "        text-align: right;\n",
       "    }\n",
       "</style>\n",
       "<table border=\"1\" class=\"dataframe\">\n",
       "  <thead>\n",
       "    <tr style=\"text-align: right;\">\n",
       "      <th>col_0</th>\n",
       "      <th>False</th>\n",
       "      <th>True</th>\n",
       "    </tr>\n",
       "    <tr>\n",
       "      <th>event</th>\n",
       "      <th></th>\n",
       "      <th></th>\n",
       "    </tr>\n",
       "  </thead>\n",
       "  <tbody>\n",
       "    <tr>\n",
       "      <th>1.5L Flasche</th>\n",
       "      <td>657</td>\n",
       "      <td>63</td>\n",
       "    </tr>\n",
       "    <tr>\n",
       "      <th>2 Bücher</th>\n",
       "      <td>706</td>\n",
       "      <td>14</td>\n",
       "    </tr>\n",
       "    <tr>\n",
       "      <th>Dummy</th>\n",
       "      <td>35</td>\n",
       "      <td>685</td>\n",
       "    </tr>\n",
       "    <tr>\n",
       "      <th>Getränkeflasche</th>\n",
       "      <td>717</td>\n",
       "      <td>3</td>\n",
       "    </tr>\n",
       "    <tr>\n",
       "      <th>Handy</th>\n",
       "      <td>719</td>\n",
       "      <td>1</td>\n",
       "    </tr>\n",
       "    <tr>\n",
       "      <th>Hantel</th>\n",
       "      <td>701</td>\n",
       "      <td>9</td>\n",
       "    </tr>\n",
       "    <tr>\n",
       "      <th>Koffer</th>\n",
       "      <td>693</td>\n",
       "      <td>27</td>\n",
       "    </tr>\n",
       "    <tr>\n",
       "      <th>Krücken</th>\n",
       "      <td>713</td>\n",
       "      <td>7</td>\n",
       "    </tr>\n",
       "    <tr>\n",
       "      <th>Möbel verrücken</th>\n",
       "      <td>598</td>\n",
       "      <td>122</td>\n",
       "    </tr>\n",
       "    <tr>\n",
       "      <th>Pflegeartikel</th>\n",
       "      <td>719</td>\n",
       "      <td>1</td>\n",
       "    </tr>\n",
       "    <tr>\n",
       "      <th>Schlüsselbund</th>\n",
       "      <td>720</td>\n",
       "      <td>0</td>\n",
       "    </tr>\n",
       "    <tr>\n",
       "      <th>Springen</th>\n",
       "      <td>720</td>\n",
       "      <td>0</td>\n",
       "    </tr>\n",
       "    <tr>\n",
       "      <th>Stuhl kippt</th>\n",
       "      <td>624</td>\n",
       "      <td>96</td>\n",
       "    </tr>\n",
       "    <tr>\n",
       "      <th>Tablett mit Besteck</th>\n",
       "      <td>713</td>\n",
       "      <td>7</td>\n",
       "    </tr>\n",
       "    <tr>\n",
       "      <th>Wasserkasten</th>\n",
       "      <td>615</td>\n",
       "      <td>105</td>\n",
       "    </tr>\n",
       "  </tbody>\n",
       "</table>\n",
       "</div>"
      ],
      "text/plain": [
       "col_0                False  True \n",
       "event                            \n",
       "1.5L Flasche           657     63\n",
       "2 Bücher               706     14\n",
       "Dummy                   35    685\n",
       "Getränkeflasche        717      3\n",
       "Handy                  719      1\n",
       "Hantel                 701      9\n",
       "Koffer                 693     27\n",
       "Krücken                713      7\n",
       "Möbel verrücken        598    122\n",
       "Pflegeartikel          719      1\n",
       "Schlüsselbund          720      0\n",
       "Springen               720      0\n",
       "Stuhl kippt            624     96\n",
       "Tablett mit Besteck    713      7\n",
       "Wasserkasten           615    105"
      ]
     },
     "execution_count": 17,
     "metadata": {},
     "output_type": "execute_result"
    }
   ],
   "source": [
    "# here we evaluate our trained model on all of the data, by adjusting the threshold  value we can manually test how clear the separation between positive and negative events really is\n",
    "# in the current state the model is heavily overfitted\n",
    "ypred = mdl.predict(X).ravel()\n",
    "threshold = 0.10\n",
    "pd.crosstab(augmented_df['event'], ypred >= threshold)"
   ]
  },
  {
   "cell_type": "markdown",
   "id": "caef9ab4-7779-42a7-a874-3e9a42710875",
   "metadata": {},
   "source": [
    "#### Next Steps\n",
    "\n",
    "- Increase the final df with augmented dummy data from combination of traditional DA techniques - Done\n",
    "- Test the classificator on the combination as well as the augmented positive events - Done\n",
    "- Test the trained classificator with the real data as the test data \n",
    "- Implementation of VAE \n",
    "- Developing modules  - Done\n",
    "- Comparison based on metrics(CNN, VAE, Trad.)"
   ]
  },
  {
   "cell_type": "code",
   "execution_count": null,
   "id": "1b65b3fd-26ad-4471-9919-49c5974d26ce",
   "metadata": {},
   "outputs": [],
   "source": []
  }
 ],
 "metadata": {
  "kernelspec": {
   "display_name": "Python 3.9 / pyspotseven",
   "language": "python",
   "name": "py39-pyspotseven"
  },
  "language_info": {
   "codemirror_mode": {
    "name": "ipython",
    "version": 3
   },
   "file_extension": ".py",
   "mimetype": "text/x-python",
   "name": "python",
   "nbconvert_exporter": "python",
   "pygments_lexer": "ipython3",
   "version": "3.9.13"
  }
 },
 "nbformat": 4,
 "nbformat_minor": 5
}
