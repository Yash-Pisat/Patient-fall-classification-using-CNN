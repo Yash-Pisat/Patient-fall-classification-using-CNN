{
 "cells": [
  {
   "cell_type": "code",
   "execution_count": 31,
   "id": "e32f04af-6c9e-4d95-9bd2-fad122995765",
   "metadata": {},
   "outputs": [],
   "source": [
    "from lib import Augmentation_methods\n",
    "from lib import data_preparation\n",
    "from lib import vae_augmentation\n",
    "\n",
    "import matplotlib.pyplot as plt\n",
    "from scipy.signal import stft\n",
    "import numpy as np\n",
    "import pandas as pd\n",
    "from pathlib import Path\n",
    "from tensorflow.keras import layers\n",
    "\n",
    "from sklearn.model_selection import train_test_split\n",
    "\n",
    "import tensorflow as tf\n",
    "from tensorflow.keras import backend as K\n",
    "from tensorflow import keras\n",
    "from tensorflow.keras.models import Sequential\n",
    "from tensorflow.keras.regularizers import l2\n",
    "from IPython.display import clear_output\n",
    "from tensorflow.keras.layers import MaxPooling2D ,Conv2D, Conv2DTranspose, Input, Flatten, Dense, Lambda, Reshape\n",
    "import warnings\n",
    "warnings.filterwarnings('ignore')\n",
    "\n",
    "import tensorflow as tf\n",
    "from tensorflow import keras\n",
    "from tensorflow.keras import layers\n",
    "import pandas as pd\n",
    "from tensorflow.keras.models import Model\n",
    "from tensorflow.keras import backend as K\n",
    "from tensorflow.keras.optimizers import Adam, SGD\n",
    "import numpy as np\n",
    "import matplotlib.pyplot as plt\n",
    "from pathlib import Path\n",
    "from scipy.signal import stft\n",
    "from sklearn.model_selection import train_test_split\n",
    "from tensorflow.keras.models import Sequential\n",
    "from tensorflow.keras.layers import MaxPooling2D ,Conv2D, Conv2DTranspose, Input, Flatten, Dense, Lambda, Reshape\n",
    "import warnings\n",
    "from IPython.display import clear_output\n",
    "warnings.filterwarnings('ignore')"
   ]
  },
  {
   "cell_type": "code",
   "execution_count": 2,
   "id": "c79b34c2-25ea-4b3c-a450-6457c69bc0c4",
   "metadata": {},
   "outputs": [],
   "source": [
    "from sklearn.metrics import roc_curve\n",
    "from sklearn.metrics import roc_auc_score\n",
    "from sklearn.metrics import precision_recall_curve, classification_report\n",
    "from sklearn.metrics import f1_score\n",
    "from sklearn.metrics import auc\n",
    "from matplotlib import pyplot\n",
    "from numpy import sqrt\n",
    "from numpy import argmax\n",
    "from sklearn.metrics import confusion_matrix\n",
    "import seaborn as sns"
   ]
  },
  {
   "cell_type": "code",
   "execution_count": 3,
   "id": "aa1eaf3f-da9e-4e6c-9f0c-194f8c01ad98",
   "metadata": {},
   "outputs": [],
   "source": [
    "BASEDIR = Path(\"/store/projects/fallki/\")\n",
    "FAKEDIR = BASEDIR / \"Fake-Events\" / \"2. Fake-Events Messung\"\n",
    "\n",
    "# BASEDIR = pathlib.Path('/store/projects/fallki/')\n",
    "# FAKEDIR = pathlib.Path('Fake-Events/2. Fake-Events Messung/')\n",
    "df_fake = pd.read_parquet(BASEDIR / FAKEDIR / 'gSensoren_FakeEvents.parquet')"
   ]
  },
  {
   "cell_type": "code",
   "execution_count": 4,
   "id": "f9261159-1867-429f-9c6f-aee2e63610f6",
   "metadata": {},
   "outputs": [],
   "source": [
    "def SignalToSpectrum(signal, samplerate=1600):\n",
    "    SIGNAL_LENGTH = samplerate * 10\n",
    "    F = stft(signal[:SIGNAL_LENGTH], 1600, nperseg=128)[2]\n",
    "    F = F[2:,]\n",
    "    return np.expand_dims(np.abs(F), axis=2) # Add extra dimension for TF Conv2D"
   ]
  },
  {
   "cell_type": "code",
   "execution_count": 5,
   "id": "e5cf7f27-bf2c-4955-b496-5735b9d1c0e4",
   "metadata": {},
   "outputs": [
    {
     "name": "stderr",
     "output_type": "stream",
     "text": [
      "/home/ing2146/Final/SNEHA/lib/data_preparation.py:202: VisibleDeprecationWarning: Creating an ndarray from ragged nested sequences (which is a list-or-tuple of lists-or-tuples-or ndarrays with different lengths or shapes) is deprecated. If you meant to do this, you must specify 'dtype=object' when creating the ndarray.\n",
      "  All_Events_Data = np.array(All_Events_Data)[shuffler]\n",
      "/home/ing2146/Final/SNEHA/lib/data_preparation.py:226: VisibleDeprecationWarning: Creating an ndarray from ragged nested sequences (which is a list-or-tuple of lists-or-tuples-or ndarrays with different lengths or shapes) is deprecated. If you meant to do this, you must specify 'dtype=object' when creating the ndarray.\n",
      "  df_fake_dummy_Data = np.array(df_fake_dummy_Data)\n"
     ]
    }
   ],
   "source": [
    "#To obtain the dummy data\n",
    "dummy_lab_data = data_preparation.fake_lab_data()\n",
    "dummy_data = dummy_lab_data[0]\n",
    "dummy_dataframe =pd.DataFrame(dummy_data,columns=['z'])"
   ]
  },
  {
   "cell_type": "code",
   "execution_count": 6,
   "id": "d0a79239-8a73-4900-b817-d6ed1dde7c1d",
   "metadata": {},
   "outputs": [],
   "source": [
    "# Drop unrealistic negative values\n",
    "index_list = []\n",
    "for index,row in dummy_dataframe.iterrows():\n",
    "    if row[\"z\"][0] < 0:\n",
    "        index_list.append(index)\n",
    "\n",
    "dummy_data_df = dummy_dataframe.drop(index_list)"
   ]
  },
  {
   "cell_type": "code",
   "execution_count": 7,
   "id": "18448b6a-595f-4086-a367-925f90249136",
   "metadata": {},
   "outputs": [],
   "source": [
    "#To divide the extracted dummy df in the ratio specified\n",
    "train_part = dummy_data_df.sample(frac = 0.60) \n",
    "test_part = dummy_data_df.drop(train_part.index) #test data"
   ]
  },
  {
   "cell_type": "code",
   "execution_count": 8,
   "id": "9887ba32-ac32-44f6-b8d9-8e728c1dbe0b",
   "metadata": {},
   "outputs": [],
   "source": [
    "#reset the index\n",
    "train_part.reset_index(drop=True, inplace=True)\n",
    "test_part.reset_index(drop=True, inplace=True)"
   ]
  },
  {
   "cell_type": "markdown",
   "id": "13012dc7-2a54-406e-9f2d-682c9d172aac",
   "metadata": {},
   "source": [
    "#### Augmentation of (n-k) dummy event using traditional methods"
   ]
  },
  {
   "cell_type": "code",
   "execution_count": 9,
   "id": "41754eb4-fd24-46ed-944f-34b33dd92988",
   "metadata": {},
   "outputs": [
    {
     "name": "stderr",
     "output_type": "stream",
     "text": [
      "/tmp/ipykernel_1396149/3983658721.py:51: VisibleDeprecationWarning: Creating an ndarray from ragged nested sequences (which is a list-or-tuple of lists-or-tuples-or ndarrays with different lengths or shapes) is deprecated. If you meant to do this, you must specify 'dtype=object' when creating the ndarray.\n",
      "  augmented_dummy_array = np.array(augmented_dummy)\n"
     ]
    }
   ],
   "source": [
    "augmented_dummy = []\n",
    "\n",
    "for i, event in enumerate(train_part.to_numpy().ravel()): \n",
    "    \n",
    "    #Jittering\n",
    "    Noise_dummy = Augmentation_methods.add_white_noise(event, 0.15) \n",
    "    augmented_dummy.append(Noise_dummy)\n",
    "    \n",
    "    #Jittering\n",
    "    Noise_dummy1 = Augmentation_methods.add_white_noise(event, 0.12) \n",
    "    augmented_dummy.append(Noise_dummy1)\n",
    "    \n",
    "    #Jittering\n",
    "    Noise_dummy2 = Augmentation_methods.add_white_noise(event, 0.08) \n",
    "    augmented_dummy.append(Noise_dummy2)\n",
    "    \n",
    "    #Jittering\n",
    "    Noise_dummy2 = Augmentation_methods.add_white_noise(event, 0.05) \n",
    "    augmented_dummy.append(Noise_dummy2)\n",
    "    \n",
    "    #Magnitude Warping\n",
    "    magnitude_warped_dummy =  Augmentation_methods.magnitudewarping(event,0.1, 20) \n",
    "    augmented_dummy.append(magnitude_warped_dummy[1])\n",
    "    \n",
    "    #Magnitude Warping\n",
    "    magnitude_warped_dummy1 =  Augmentation_methods.magnitudewarping(event,0.1, 15) \n",
    "    augmented_dummy.append(magnitude_warped_dummy1[1])\n",
    "    \n",
    "    #Magnitude Warping\n",
    "    magnitude_warped_dummy2 =  Augmentation_methods.magnitudewarping(event,0.1, 10) \n",
    "    augmented_dummy.append(magnitude_warped_dummy2[1])\n",
    "    \n",
    "    #Window Warping\n",
    "    window_warped_dummy = Augmentation_methods.windowWarp(event, window_ratio=0.1, scales=[0.5, 2.]) \n",
    "    augmented_dummy.append(window_warped_dummy)\n",
    "    \n",
    "    #Jittering + Magnitude warping\n",
    "    curve_JMW, jittered_magnitude_warped_dummy  =  Augmentation_methods.magnitudewarping((Augmentation_methods.add_white_noise(event, 0.50)),0.1, 10)\n",
    "    augmented_dummy.append(jittered_magnitude_warped_dummy)\n",
    "    \n",
    "    #Jittering + window warping\n",
    "    Jittered_window_warped_dummy = Augmentation_methods.windowWarp((Augmentation_methods.add_white_noise(event, 0.50)), window_ratio=0.1, scales=[0.5, 2.])\n",
    "    augmented_dummy.append(Jittered_window_warped_dummy)\n",
    "    \n",
    "    #magnitude warping + window warping\n",
    "    mag_warped  =  Augmentation_methods.magnitudewarping(event,0.1, 10)\n",
    "    mag_window_warped_dummy = Augmentation_methods.windowWarp(mag_warped[1] , window_ratio=0.1, scales=[0.5, 2.])\n",
    "    augmented_dummy.append(mag_window_warped_dummy)\n",
    "          \n",
    "    \n",
    "augmented_dummy_array = np.array(augmented_dummy)    "
   ]
  },
  {
   "cell_type": "code",
   "execution_count": 10,
   "id": "5b7c66c8-a6f9-4939-b2e3-9614f37c5935",
   "metadata": {},
   "outputs": [],
   "source": [
    "augmented_dummy_array_df =pd.DataFrame(augmented_dummy_array,columns=['z'])"
   ]
  },
  {
   "cell_type": "markdown",
   "id": "be946c84-996a-4a69-94b3-4bae611a9404",
   "metadata": {},
   "source": [
    "## Data Preparation"
   ]
  },
  {
   "cell_type": "markdown",
   "id": "3ceea799-cd6b-4b01-9e8b-f2d63804bc48",
   "metadata": {},
   "source": [
    "### Traditional Augmented data "
   ]
  },
  {
   "cell_type": "code",
   "execution_count": 11,
   "id": "389c46d4-e526-4e68-931f-f67df2f7d51e",
   "metadata": {},
   "outputs": [],
   "source": [
    "M = []\n",
    "for i in range(len(augmented_dummy_array_df)):\n",
    "    M.append({\"event\": \"Dummy\" ,\n",
    "              \"istSturz\": 1,\n",
    "              \"signalLenght\": len(augmented_dummy_array_df.z[i]),\n",
    "              \"spectrum\": SignalToSpectrum(augmented_dummy_array_df.z[i])})\n",
    "augmented_df = pd.DataFrame.from_dict(M)"
   ]
  },
  {
   "cell_type": "code",
   "execution_count": 12,
   "id": "b9cf6857-80fc-4e87-86f4-36fc4d54cad6",
   "metadata": {},
   "outputs": [],
   "source": [
    "# normalize the spectrum to facilitate training \n",
    "augmented_df[\"normalizedSpectrum\"] = augmented_df[\"spectrum\"] / augmented_df[\"spectrum\"].map(np.max).max()\n",
    "\n",
    "# shuffle the final dataframe\n",
    "augmented_df = augmented_df.sample(frac=1).reset_index(drop=True)"
   ]
  },
  {
   "cell_type": "markdown",
   "id": "60503aa2-b8e7-4b04-af02-dc712b139c7f",
   "metadata": {},
   "source": [
    "### Dummy events (n-k) for training"
   ]
  },
  {
   "cell_type": "code",
   "execution_count": 13,
   "id": "e6bbfa4d-444e-493b-a107-71d43ba45b7d",
   "metadata": {},
   "outputs": [],
   "source": [
    "T = []\n",
    "for i in range(len(train_part)):\n",
    "    T.append({\"event\": \"Dummy\" ,\n",
    "              \"istSturz\": 1,\n",
    "              \"signalLenght\": len(train_part.z[i]),\n",
    "              \"spectrum\": SignalToSpectrum(train_part.z[i])})\n",
    "train_part_df = pd.DataFrame.from_dict(T)"
   ]
  },
  {
   "cell_type": "code",
   "execution_count": 14,
   "id": "03f8799e-a0a2-49e6-8462-e843e0d6b2ed",
   "metadata": {},
   "outputs": [],
   "source": [
    "# normalize the spectrum to facilitate training \n",
    "train_part_df[\"normalizedSpectrum\"] = train_part_df[\"spectrum\"] / train_part_df[\"spectrum\"].map(np.max).max()"
   ]
  },
  {
   "cell_type": "markdown",
   "id": "e35464ee-530e-478c-a9ac-b1bac1b94f41",
   "metadata": {},
   "source": [
    "### VAE Augmentation"
   ]
  },
  {
   "cell_type": "code",
   "execution_count": 17,
   "id": "3a746cd6-e911-4e59-89ed-f03710d9743e",
   "metadata": {},
   "outputs": [],
   "source": [
    "normalization_factor = train_part_df[\"spectrum\"].map(np.max).max()"
   ]
  },
  {
   "cell_type": "code",
   "execution_count": 18,
   "id": "f67899ce-9ce0-48cb-92e7-00fb9f1eaff5",
   "metadata": {},
   "outputs": [],
   "source": [
    "X_train_vae = np.stack(train_part_df[\"normalizedSpectrum\"])\n",
    "y_train_vae = train_part_df[\"istSturz\"]"
   ]
  },
  {
   "cell_type": "code",
   "execution_count": 21,
   "id": "65487a55-a588-4a62-9431-fb04225d5f2f",
   "metadata": {},
   "outputs": [],
   "source": [
    "def sample_z(args):\n",
    "        z_mean, z_log_var = args\n",
    "        eps = K.random_normal(shape=(K.shape(z_mean)[0], K.int_shape(z_mean)[1]))\n",
    "        return z_mean + K.exp(z_log_var / 2) * eps"
   ]
  },
  {
   "cell_type": "code",
   "execution_count": 32,
   "id": "0bbcd9ce-9eb0-48b7-8268-c5c75b9396fd",
   "metadata": {},
   "outputs": [],
   "source": [
    "latent_dim = 2 # Number of latent dim parameters\n",
    "\n",
    "# Encoder \n",
    "input_data = Input(shape=(63,251,1), name='encoder_input')\n",
    "x = layers.Conv2D(32,3, padding='same', activation='relu')(input_data)\n",
    "x = layers.Conv2D(64,3, padding='same', activation='relu')(x)\n",
    "conv_shape = K.int_shape(x) #Shape of conv to be provided to decoder\n",
    "x = layers.Flatten()(x)\n",
    "x = layers.Dense(16, activation='relu')(x)\n",
    "z_mean = layers.Dense(latent_dim, name='latent_mu')(x)   #Mean values of encoded input\n",
    "z_log_var = layers.Dense(latent_dim, name='latent_sigma')(x) \n",
    "z = Lambda(sample_z, output_shape=(latent_dim, ), name='z')([z_mean, z_log_var])\n",
    "encoder = Model(input_data, [z_mean, z_log_var, z], name='encoder')\n",
    "\n",
    "# Decoder\n",
    "decoder_input = Input(shape=(latent_dim, ), name='decoder_input')\n",
    "x = Dense(conv_shape[1]*conv_shape[2]*conv_shape[3], activation='relu')(decoder_input)\n",
    "x = Reshape((conv_shape[1], conv_shape[2],conv_shape[3]))(x)\n",
    "x = Conv2DTranspose(64,3, padding='same', activation='relu')(x)\n",
    "x = Conv2DTranspose(32,3, padding='same', activation='sigmoid')(x)\n",
    "decoder_output = Conv2DTranspose(1, 3, activation=\"sigmoid\", padding=\"same\", name='decoder_output')(x)\n",
    "decoder = Model(decoder_input, decoder_output, name='decoder')"
   ]
  },
  {
   "cell_type": "code",
   "execution_count": 33,
   "id": "2e3da36b-3200-4104-97c0-edcfe30679ac",
   "metadata": {},
   "outputs": [
    {
     "name": "stdout",
     "output_type": "stream",
     "text": [
      "Epoch 1/30\n",
      "5/5 [==============================] - 2s 328ms/step - loss: 8418.9583 - reconstruction_loss: 5969.3267 - kl_loss: 3959.6406\n",
      "Epoch 2/30\n",
      "5/5 [==============================] - 2s 330ms/step - loss: 3103.2696 - reconstruction_loss: 2654.2651 - kl_loss: 73.6684\n",
      "Epoch 3/30\n",
      "5/5 [==============================] - 2s 331ms/step - loss: 1469.5013 - reconstruction_loss: 1305.0718 - kl_loss: 1.0387\n",
      "Epoch 4/30\n",
      "5/5 [==============================] - 2s 329ms/step - loss: 626.0328 - reconstruction_loss: 518.9088 - kl_loss: 0.3220\n",
      "Epoch 5/30\n",
      "5/5 [==============================] - 2s 330ms/step - loss: 242.3720 - reconstruction_loss: 222.8680 - kl_loss: 3.5813\n",
      "Epoch 6/30\n",
      "5/5 [==============================] - 2s 342ms/step - loss: 221.5294 - reconstruction_loss: 214.1823 - kl_loss: 12.2670\n",
      "Epoch 7/30\n",
      "5/5 [==============================] - 2s 335ms/step - loss: 227.8330 - reconstruction_loss: 206.5026 - kl_loss: 17.8072\n",
      "Epoch 8/30\n",
      "5/5 [==============================] - 2s 339ms/step - loss: 221.4631 - reconstruction_loss: 203.3213 - kl_loss: 16.2771\n",
      "Epoch 9/30\n",
      "5/5 [==============================] - 2s 333ms/step - loss: 219.1508 - reconstruction_loss: 210.2148 - kl_loss: 11.7130\n",
      "Epoch 10/30\n",
      "5/5 [==============================] - 2s 336ms/step - loss: 211.7449 - reconstruction_loss: 205.8044 - kl_loss: 7.4760\n",
      "Epoch 11/30\n",
      "5/5 [==============================] - 2s 345ms/step - loss: 211.0886 - reconstruction_loss: 207.9754 - kl_loss: 4.7627\n",
      "Epoch 12/30\n",
      "5/5 [==============================] - 2s 354ms/step - loss: 205.8920 - reconstruction_loss: 206.1242 - kl_loss: 3.1700\n",
      "Epoch 13/30\n",
      "5/5 [==============================] - 2s 340ms/step - loss: 218.8356 - reconstruction_loss: 207.1565 - kl_loss: 2.2461\n",
      "Epoch 14/30\n",
      "5/5 [==============================] - 2s 343ms/step - loss: 205.8148 - reconstruction_loss: 203.7214 - kl_loss: 1.6809\n",
      "Epoch 15/30\n",
      "5/5 [==============================] - 2s 338ms/step - loss: 204.1342 - reconstruction_loss: 198.2697 - kl_loss: 1.3047\n",
      "Epoch 16/30\n",
      "5/5 [==============================] - 2s 341ms/step - loss: 200.8242 - reconstruction_loss: 201.6561 - kl_loss: 1.1151\n",
      "Epoch 17/30\n",
      "5/5 [==============================] - 2s 354ms/step - loss: 197.8661 - reconstruction_loss: 199.3754 - kl_loss: 1.0526\n",
      "Epoch 18/30\n",
      "5/5 [==============================] - 2s 337ms/step - loss: 206.8588 - reconstruction_loss: 206.7679 - kl_loss: 0.9639\n",
      "Epoch 19/30\n",
      "5/5 [==============================] - 2s 339ms/step - loss: 198.1890 - reconstruction_loss: 196.3723 - kl_loss: 1.1938\n",
      "Epoch 20/30\n",
      "5/5 [==============================] - 2s 332ms/step - loss: 197.9418 - reconstruction_loss: 195.6828 - kl_loss: 1.5360\n",
      "Epoch 21/30\n",
      "5/5 [==============================] - 2s 332ms/step - loss: 200.1933 - reconstruction_loss: 205.6020 - kl_loss: 1.5322\n",
      "Epoch 22/30\n",
      "5/5 [==============================] - 2s 330ms/step - loss: 189.8263 - reconstruction_loss: 191.4082 - kl_loss: 1.1578\n",
      "Epoch 23/30\n",
      "5/5 [==============================] - 2s 326ms/step - loss: 195.7772 - reconstruction_loss: 200.2094 - kl_loss: 0.8902\n",
      "Epoch 24/30\n",
      "5/5 [==============================] - 2s 340ms/step - loss: 195.6821 - reconstruction_loss: 199.5316 - kl_loss: 0.9983\n",
      "Epoch 25/30\n",
      "5/5 [==============================] - 2s 331ms/step - loss: 193.7502 - reconstruction_loss: 195.6919 - kl_loss: 1.2097\n",
      "Epoch 26/30\n",
      "5/5 [==============================] - 2s 340ms/step - loss: 195.6202 - reconstruction_loss: 192.2012 - kl_loss: 1.1897\n",
      "Epoch 27/30\n",
      "5/5 [==============================] - 2s 328ms/step - loss: 198.5525 - reconstruction_loss: 194.8645 - kl_loss: 1.1632\n",
      "Epoch 28/30\n",
      "5/5 [==============================] - 2s 332ms/step - loss: 194.4288 - reconstruction_loss: 192.8575 - kl_loss: 1.1571\n",
      "Epoch 29/30\n",
      "5/5 [==============================] - 2s 331ms/step - loss: 186.2385 - reconstruction_loss: 188.9738 - kl_loss: 1.1677\n",
      "Epoch 30/30\n",
      "5/5 [==============================] - 2s 332ms/step - loss: 192.2550 - reconstruction_loss: 187.2527 - kl_loss: 1.1851\n"
     ]
    },
    {
     "data": {
      "text/plain": [
       "<keras.callbacks.History at 0x75aea3e16f80>"
      ]
     },
     "execution_count": 33,
     "metadata": {},
     "output_type": "execute_result"
    }
   ],
   "source": [
    "# Training VAE model with train data \n",
    "vae = vae_augmentation.VAE(encoder, decoder)\n",
    "vae.compile(optimizer = keras.optimizers.Adam())\n",
    "vae.fit(X_train_vae, epochs = 30,batch_size=9)"
   ]
  },
  {
   "cell_type": "code",
   "execution_count": 36,
   "id": "9a822833-bfb2-4815-bf71-6ff9411f2341",
   "metadata": {},
   "outputs": [
    {
     "name": "stdout",
     "output_type": "stream",
     "text": [
      "2/2 [==============================] - 0s 21ms/step\n"
     ]
    },
    {
     "data": {
      "image/png": "[encoded data removed]",
      "text/plain": [
       "<Figure size 800x500 with 2 Axes>"
      ]
     },
     "metadata": {},
     "output_type": "display_data"
    }
   ],
   "source": [
    "# predicting the distribution\n",
    "z_mean, z_log_var, z = vae.encoder.predict(X_train_vae)\n",
    "plt.figure(figsize=(8, 5))\n",
    "plt.scatter(z_mean[:, 0], z_mean[:, 1], c=train_part_df[\"istSturz\"])\n",
    "plt.colorbar()\n",
    "plt.xlabel(\"z[0]\")\n",
    "plt.ylabel(\"z[1]\")\n",
    "plt.show()"
   ]
  },
  {
   "cell_type": "code",
   "execution_count": null,
   "id": "001f8bf4-9dc4-468c-a43e-54f25913224d",
   "metadata": {},
   "outputs": [],
   "source": [
    "# predicting usinbg decoder - Augmentation\n",
    "augmented_data= vae_augmentation.plot_latent_space(vae, z_mean, decoder, n = 20)"
   ]
  },
  {
   "cell_type": "code",
   "execution_count": 39,
   "id": "c863e0b4-b719-4fbd-be45-f5d5ec88d4fa",
   "metadata": {},
   "outputs": [],
   "source": [
    "augmented_data = np.expand_dims(np.array(augmented_data), axis=3)"
   ]
  },
  {
   "cell_type": "code",
   "execution_count": 40,
   "id": "39aaa572-1978-4882-87f2-4b83877d153f",
   "metadata": {},
   "outputs": [],
   "source": [
    "V = []\n",
    "for i in range(len(augmented_data)):\n",
    "    V.append({\"event\": \"Dummy\" ,\n",
    "              \"istSturz\": 1,\n",
    "              \"signalLenght\": 16000,\n",
    "              \"spectrum\": normalization_factor * augmented_data[i],\n",
    "              \"normalizedSpectrum\":augmented_data[i]})\n",
    "vae_df = pd.DataFrame.from_dict(V)"
   ]
  },
  {
   "cell_type": "code",
   "execution_count": 42,
   "id": "750652bc-6675-4b0f-8969-69b4906a5e10",
   "metadata": {},
   "outputs": [
    {
     "data": {
      "text/html": [
       "<div>\n",
       "<style scoped>\n",
       "    .dataframe tbody tr th:only-of-type {\n",
       "        vertical-align: middle;\n",
       "    }\n",
       "\n",
       "    .dataframe tbody tr th {\n",
       "        vertical-align: top;\n",
       "    }\n",
       "\n",
       "    .dataframe thead th {\n",
       "        text-align: right;\n",
       "    }\n",
       "</style>\n",
       "<table border=\"1\" class=\"dataframe\">\n",
       "  <thead>\n",
       "    <tr style=\"text-align: right;\">\n",
       "      <th></th>\n",
       "      <th>event</th>\n",
       "      <th>istSturz</th>\n",
       "      <th>signalLenght</th>\n",
       "      <th>spectrum</th>\n",
       "      <th>normalizedSpectrum</th>\n",
       "    </tr>\n",
       "  </thead>\n",
       "  <tbody>\n",
       "    <tr>\n",
       "      <th>0</th>\n",
       "      <td>Dummy</td>\n",
       "      <td>1</td>\n",
       "      <td>16000</td>\n",
       "      <td>[[[87.29768], [26.930946], [14.435013], [7.653...</td>\n",
       "      <td>[[[0.24366497], [0.075169556], [0.040290955], ...</td>\n",
       "    </tr>\n",
       "    <tr>\n",
       "      <th>1</th>\n",
       "      <td>Dummy</td>\n",
       "      <td>1</td>\n",
       "      <td>16000</td>\n",
       "      <td>[[[87.31337], [26.92654], [14.428718], [7.6463...</td>\n",
       "      <td>[[[0.24370876], [0.07515726], [0.040273383], [...</td>\n",
       "    </tr>\n",
       "    <tr>\n",
       "      <th>2</th>\n",
       "      <td>Dummy</td>\n",
       "      <td>1</td>\n",
       "      <td>16000</td>\n",
       "      <td>[[[87.32767], [26.920841], [14.421605], [7.638...</td>\n",
       "      <td>[[[0.24374866], [0.075141355], [0.04025353], [...</td>\n",
       "    </tr>\n",
       "    <tr>\n",
       "      <th>3</th>\n",
       "      <td>Dummy</td>\n",
       "      <td>1</td>\n",
       "      <td>16000</td>\n",
       "      <td>[[[87.340385], [26.91452], [14.413931], [7.630...</td>\n",
       "      <td>[[[0.24378416], [0.07512371], [0.04023211], [0...</td>\n",
       "    </tr>\n",
       "    <tr>\n",
       "      <th>4</th>\n",
       "      <td>Dummy</td>\n",
       "      <td>1</td>\n",
       "      <td>16000</td>\n",
       "      <td>[[[87.35201], [26.907541], [14.405913], [7.622...</td>\n",
       "      <td>[[[0.24381661], [0.07510423], [0.040209733], [...</td>\n",
       "    </tr>\n",
       "    <tr>\n",
       "      <th>...</th>\n",
       "      <td>...</td>\n",
       "      <td>...</td>\n",
       "      <td>...</td>\n",
       "      <td>...</td>\n",
       "      <td>...</td>\n",
       "    </tr>\n",
       "    <tr>\n",
       "      <th>395</th>\n",
       "      <td>Dummy</td>\n",
       "      <td>1</td>\n",
       "      <td>16000</td>\n",
       "      <td>[[[84.39665], [28.8931], [17.482698], [10.3589...</td>\n",
       "      <td>[[[0.23556763], [0.080646314], [0.04879764], [...</td>\n",
       "    </tr>\n",
       "    <tr>\n",
       "      <th>396</th>\n",
       "      <td>Dummy</td>\n",
       "      <td>1</td>\n",
       "      <td>16000</td>\n",
       "      <td>[[[84.70055], [29.053034], [17.53809], [10.348...</td>\n",
       "      <td>[[[0.23641586], [0.08109272], [0.04895225], [0...</td>\n",
       "    </tr>\n",
       "    <tr>\n",
       "      <th>397</th>\n",
       "      <td>Dummy</td>\n",
       "      <td>1</td>\n",
       "      <td>16000</td>\n",
       "      <td>[[[84.96627], [29.191408], [17.582392], [10.33...</td>\n",
       "      <td>[[[0.23715754], [0.08147895], [0.049075905], [...</td>\n",
       "    </tr>\n",
       "    <tr>\n",
       "      <th>398</th>\n",
       "      <td>Dummy</td>\n",
       "      <td>1</td>\n",
       "      <td>16000</td>\n",
       "      <td>[[[85.195465], [29.31012], [17.617525], [10.31...</td>\n",
       "      <td>[[[0.23779728], [0.081810296], [0.04917397], [...</td>\n",
       "    </tr>\n",
       "    <tr>\n",
       "      <th>399</th>\n",
       "      <td>Dummy</td>\n",
       "      <td>1</td>\n",
       "      <td>16000</td>\n",
       "      <td>[[[85.38803], [29.40773], [17.642414], [10.300...</td>\n",
       "      <td>[[[0.23833476], [0.08208275], [0.04924344], [0...</td>\n",
       "    </tr>\n",
       "  </tbody>\n",
       "</table>\n",
       "<p>400 rows × 5 columns</p>\n",
       "</div>"
      ],
      "text/plain": [
       "     event  istSturz  signalLenght  \\\n",
       "0    Dummy         1         16000   \n",
       "1    Dummy         1         16000   \n",
       "2    Dummy         1         16000   \n",
       "3    Dummy         1         16000   \n",
       "4    Dummy         1         16000   \n",
       "..     ...       ...           ...   \n",
       "395  Dummy         1         16000   \n",
       "396  Dummy         1         16000   \n",
       "397  Dummy         1         16000   \n",
       "398  Dummy         1         16000   \n",
       "399  Dummy         1         16000   \n",
       "\n",
       "                                              spectrum  \\\n",
       "0    [[[87.29768], [26.930946], [14.435013], [7.653...   \n",
       "1    [[[87.31337], [26.92654], [14.428718], [7.6463...   \n",
       "2    [[[87.32767], [26.920841], [14.421605], [7.638...   \n",
       "3    [[[87.340385], [26.91452], [14.413931], [7.630...   \n",
       "4    [[[87.35201], [26.907541], [14.405913], [7.622...   \n",
       "..                                                 ...   \n",
       "395  [[[84.39665], [28.8931], [17.482698], [10.3589...   \n",
       "396  [[[84.70055], [29.053034], [17.53809], [10.348...   \n",
       "397  [[[84.96627], [29.191408], [17.582392], [10.33...   \n",
       "398  [[[85.195465], [29.31012], [17.617525], [10.31...   \n",
       "399  [[[85.38803], [29.40773], [17.642414], [10.300...   \n",
       "\n",
       "                                    normalizedSpectrum  \n",
       "0    [[[0.24366497], [0.075169556], [0.040290955], ...  \n",
       "1    [[[0.24370876], [0.07515726], [0.040273383], [...  \n",
       "2    [[[0.24374866], [0.075141355], [0.04025353], [...  \n",
       "3    [[[0.24378416], [0.07512371], [0.04023211], [0...  \n",
       "4    [[[0.24381661], [0.07510423], [0.040209733], [...  \n",
       "..                                                 ...  \n",
       "395  [[[0.23556763], [0.080646314], [0.04879764], [...  \n",
       "396  [[[0.23641586], [0.08109272], [0.04895225], [0...  \n",
       "397  [[[0.23715754], [0.08147895], [0.049075905], [...  \n",
       "398  [[[0.23779728], [0.081810296], [0.04917397], [...  \n",
       "399  [[[0.23833476], [0.08208275], [0.04924344], [0...  \n",
       "\n",
       "[400 rows x 5 columns]"
      ]
     },
     "execution_count": 42,
     "metadata": {},
     "output_type": "execute_result"
    }
   ],
   "source": [
    "vae_df"
   ]
  },
  {
   "cell_type": "markdown",
   "id": "d8b7c717-c0e4-44ce-bd99-3d2b67d048ee",
   "metadata": {},
   "source": [
    "### Dummy events(k) for test"
   ]
  },
  {
   "cell_type": "code",
   "execution_count": 43,
   "id": "3b0df5d9-23f1-4026-acb4-11d518341462",
   "metadata": {},
   "outputs": [],
   "source": [
    "R = []\n",
    "for i in range(len(test_part)):\n",
    "    R.append({\"event\": \"Dummy\" ,\n",
    "              \"istSturz\": 1,\n",
    "              \"signalLenght\": len(test_part.z[i]),\n",
    "              \"spectrum\": SignalToSpectrum(test_part.z[i])})\n",
    "test_part_df = pd.DataFrame.from_dict(R)"
   ]
  },
  {
   "cell_type": "code",
   "execution_count": 44,
   "id": "5618d878-d434-4450-82a6-fdfd70c55a43",
   "metadata": {},
   "outputs": [],
   "source": [
    "# normalize the spectrum to facilitate training\n",
    "test_part_df[\"normalizedSpectrum\"] = test_part_df[\"spectrum\"] / test_part_df[\"spectrum\"].map(np.max).max()"
   ]
  },
  {
   "cell_type": "markdown",
   "id": "05abde32-bb31-4334-8350-fe54ee88aa38",
   "metadata": {},
   "source": [
    "### Positive events"
   ]
  },
  {
   "cell_type": "code",
   "execution_count": 45,
   "id": "32138fdd-fd6c-4998-bb00-0d95d151ff27",
   "metadata": {},
   "outputs": [],
   "source": [
    "L = []\n",
    "for (teensy, event, run, rep), ss in df_fake.groupby([\"teensy\", \"experiment\", \"run\", \"rep\"]):\n",
    "    L.append({\"event\": event,\n",
    "              \"run\": run,\n",
    "              \"istSturz\": int(event == \"Dummy\"),\n",
    "              \"signalLenght\": len(ss[\"z\"]),\n",
    "              \"spectrum\": SignalToSpectrum(ss[\"z\"])})\n",
    "df = pd.DataFrame.from_dict(L)\n",
    "df.drop('run', inplace=True, axis=1)"
   ]
  },
  {
   "cell_type": "code",
   "execution_count": 46,
   "id": "703e8511-fc02-4b38-8292-b2fa375e5f3d",
   "metadata": {},
   "outputs": [],
   "source": [
    "# normalize the spectrum to facilitate training\n",
    "df[\"normalizedSpectrum\"] = df[\"spectrum\"] / df[\"spectrum\"].map(np.max).max()"
   ]
  },
  {
   "cell_type": "code",
   "execution_count": 47,
   "id": "cc35afb9-b266-4298-9d58-049bcc649383",
   "metadata": {},
   "outputs": [],
   "source": [
    "# Dropping dummy events from the dataframe\n",
    "df_drop = []\n",
    "df_drop = df.drop(df[(df['event'] == \"Dummy\")].index)"
   ]
  },
  {
   "cell_type": "markdown",
   "id": "74d99ecf-1b4c-462f-9255-043ca1b49a59",
   "metadata": {},
   "source": [
    "### Append dataframe for training"
   ]
  },
  {
   "cell_type": "code",
   "execution_count": 48,
   "id": "6db93cdc-8b87-493b-9ddb-e6f836f3beff",
   "metadata": {},
   "outputs": [],
   "source": [
    "final_df = []\n",
    "final_df = df_drop.append(train_part_df)"
   ]
  },
  {
   "cell_type": "code",
   "execution_count": 49,
   "id": "ffbec973-a4c2-4f6e-bcb6-1854a17926fd",
   "metadata": {},
   "outputs": [],
   "source": [
    "final_df = final_df.append(augmented_df)\n",
    "final_df = final_df.append(vae_df)"
   ]
  },
  {
   "cell_type": "code",
   "execution_count": 50,
   "id": "289bfb97-3471-4efb-9b3b-c6383ab9dfa2",
   "metadata": {},
   "outputs": [],
   "source": [
    "#shuffle the final dataframe\n",
    "final_df = final_df.sample(frac=1).reset_index(drop=True)"
   ]
  },
  {
   "cell_type": "code",
   "execution_count": 51,
   "id": "7fc231f2-7d94-4666-a5ef-c9286beef89d",
   "metadata": {},
   "outputs": [
    {
     "data": {
      "text/html": [
       "<div>\n",
       "<style scoped>\n",
       "    .dataframe tbody tr th:only-of-type {\n",
       "        vertical-align: middle;\n",
       "    }\n",
       "\n",
       "    .dataframe tbody tr th {\n",
       "        vertical-align: top;\n",
       "    }\n",
       "\n",
       "    .dataframe thead th {\n",
       "        text-align: right;\n",
       "    }\n",
       "</style>\n",
       "<table border=\"1\" class=\"dataframe\">\n",
       "  <thead>\n",
       "    <tr style=\"text-align: right;\">\n",
       "      <th></th>\n",
       "      <th>event</th>\n",
       "      <th>istSturz</th>\n",
       "      <th>signalLenght</th>\n",
       "      <th>spectrum</th>\n",
       "      <th>normalizedSpectrum</th>\n",
       "    </tr>\n",
       "  </thead>\n",
       "  <tbody>\n",
       "    <tr>\n",
       "      <th>0</th>\n",
       "      <td>Springen</td>\n",
       "      <td>0</td>\n",
       "      <td>15950</td>\n",
       "      <td>[[[220.3715931219728], [0.06188681574306957], ...</td>\n",
       "      <td>[[[0.3221387598147719], [9.04660250893741e-05]...</td>\n",
       "    </tr>\n",
       "    <tr>\n",
       "      <th>1</th>\n",
       "      <td>Tablett mit Besteck</td>\n",
       "      <td>0</td>\n",
       "      <td>16001</td>\n",
       "      <td>[[[220.16589846062215], [0.24253744764581425],...</td>\n",
       "      <td>[[[0.32183807576484835], [0.000354540762202587...</td>\n",
       "    </tr>\n",
       "    <tr>\n",
       "      <th>2</th>\n",
       "      <td>2 Bücher</td>\n",
       "      <td>0</td>\n",
       "      <td>16118</td>\n",
       "      <td>[[[220.16253390625465], [0.065043099908749], [...</td>\n",
       "      <td>[[[0.32183315746591556], [9.507987505229655e-0...</td>\n",
       "    </tr>\n",
       "    <tr>\n",
       "      <th>3</th>\n",
       "      <td>Dummy</td>\n",
       "      <td>1</td>\n",
       "      <td>16058</td>\n",
       "      <td>[[[241.2626527570181], [0.33681374907070183], ...</td>\n",
       "      <td>[[[0.6255337495738916], [0.0008732738571702009...</td>\n",
       "    </tr>\n",
       "    <tr>\n",
       "      <th>4</th>\n",
       "      <td>Dummy</td>\n",
       "      <td>1</td>\n",
       "      <td>16000</td>\n",
       "      <td>[[[88.05285], [29.733976], [16.95067], [9.2774...</td>\n",
       "      <td>[[[0.2457728], [0.082993366], [0.047312647], [...</td>\n",
       "    </tr>\n",
       "    <tr>\n",
       "      <th>...</th>\n",
       "      <td>...</td>\n",
       "      <td>...</td>\n",
       "      <td>...</td>\n",
       "      <td>...</td>\n",
       "      <td>...</td>\n",
       "    </tr>\n",
       "    <tr>\n",
       "      <th>1882</th>\n",
       "      <td>Dummy</td>\n",
       "      <td>1</td>\n",
       "      <td>15977</td>\n",
       "      <td>[[[245.48293657378773], [3.470578802117125], [...</td>\n",
       "      <td>[[[0.6364758905559386], [0.008998343284679147]...</td>\n",
       "    </tr>\n",
       "    <tr>\n",
       "      <th>1883</th>\n",
       "      <td>Handy</td>\n",
       "      <td>0</td>\n",
       "      <td>16001</td>\n",
       "      <td>[[[220.6650806811581], [0.33359086783699604], ...</td>\n",
       "      <td>[[[0.32256777934944797], [0.000487642472099678...</td>\n",
       "    </tr>\n",
       "    <tr>\n",
       "      <th>1884</th>\n",
       "      <td>Tablett mit Besteck</td>\n",
       "      <td>0</td>\n",
       "      <td>15990</td>\n",
       "      <td>[[[218.15697043459983], [0.16806012761482833],...</td>\n",
       "      <td>[[[0.31890142874200916], [0.000245669962798644...</td>\n",
       "    </tr>\n",
       "    <tr>\n",
       "      <th>1885</th>\n",
       "      <td>Tablett mit Besteck</td>\n",
       "      <td>0</td>\n",
       "      <td>16004</td>\n",
       "      <td>[[[218.24846747045763], [0.24544584378717796],...</td>\n",
       "      <td>[[[0.31903517892841204], [0.000358792249940893...</td>\n",
       "    </tr>\n",
       "    <tr>\n",
       "      <th>1886</th>\n",
       "      <td>Tablett mit Besteck</td>\n",
       "      <td>0</td>\n",
       "      <td>16012</td>\n",
       "      <td>[[[218.23970151158025], [0.12017468538916518],...</td>\n",
       "      <td>[[[0.319022364867029], [0.00017567111787846886...</td>\n",
       "    </tr>\n",
       "  </tbody>\n",
       "</table>\n",
       "<p>1887 rows × 5 columns</p>\n",
       "</div>"
      ],
      "text/plain": [
       "                    event  istSturz  signalLenght  \\\n",
       "0                Springen         0         15950   \n",
       "1     Tablett mit Besteck         0         16001   \n",
       "2                2 Bücher         0         16118   \n",
       "3                   Dummy         1         16058   \n",
       "4                   Dummy         1         16000   \n",
       "...                   ...       ...           ...   \n",
       "1882                Dummy         1         15977   \n",
       "1883                Handy         0         16001   \n",
       "1884  Tablett mit Besteck         0         15990   \n",
       "1885  Tablett mit Besteck         0         16004   \n",
       "1886  Tablett mit Besteck         0         16012   \n",
       "\n",
       "                                               spectrum  \\\n",
       "0     [[[220.3715931219728], [0.06188681574306957], ...   \n",
       "1     [[[220.16589846062215], [0.24253744764581425],...   \n",
       "2     [[[220.16253390625465], [0.065043099908749], [...   \n",
       "3     [[[241.2626527570181], [0.33681374907070183], ...   \n",
       "4     [[[88.05285], [29.733976], [16.95067], [9.2774...   \n",
       "...                                                 ...   \n",
       "1882  [[[245.48293657378773], [3.470578802117125], [...   \n",
       "1883  [[[220.6650806811581], [0.33359086783699604], ...   \n",
       "1884  [[[218.15697043459983], [0.16806012761482833],...   \n",
       "1885  [[[218.24846747045763], [0.24544584378717796],...   \n",
       "1886  [[[218.23970151158025], [0.12017468538916518],...   \n",
       "\n",
       "                                     normalizedSpectrum  \n",
       "0     [[[0.3221387598147719], [9.04660250893741e-05]...  \n",
       "1     [[[0.32183807576484835], [0.000354540762202587...  \n",
       "2     [[[0.32183315746591556], [9.507987505229655e-0...  \n",
       "3     [[[0.6255337495738916], [0.0008732738571702009...  \n",
       "4     [[[0.2457728], [0.082993366], [0.047312647], [...  \n",
       "...                                                 ...  \n",
       "1882  [[[0.6364758905559386], [0.008998343284679147]...  \n",
       "1883  [[[0.32256777934944797], [0.000487642472099678...  \n",
       "1884  [[[0.31890142874200916], [0.000245669962798644...  \n",
       "1885  [[[0.31903517892841204], [0.000358792249940893...  \n",
       "1886  [[[0.319022364867029], [0.00017567111787846886...  \n",
       "\n",
       "[1887 rows x 5 columns]"
      ]
     },
     "execution_count": 51,
     "metadata": {},
     "output_type": "execute_result"
    }
   ],
   "source": [
    "final_df"
   ]
  },
  {
   "cell_type": "markdown",
   "id": "ab84c622-1b36-4959-b7cd-099fadc7bf77",
   "metadata": {},
   "source": [
    "### Input and target split for train and test"
   ]
  },
  {
   "cell_type": "markdown",
   "id": "a2935121-2384-4ddc-a190-37b97742b187",
   "metadata": {},
   "source": [
    "#### Input and target for Train"
   ]
  },
  {
   "cell_type": "code",
   "execution_count": 52,
   "id": "fc276ca8-71bd-4e2a-8bbf-8a0ca3297034",
   "metadata": {},
   "outputs": [],
   "source": [
    "X = np.stack(final_df[\"normalizedSpectrum\"].to_list())\n",
    "y = final_df[\"istSturz\"].to_numpy()"
   ]
  },
  {
   "cell_type": "markdown",
   "id": "932ca642-3da4-4ff6-8c2e-abc729a06d28",
   "metadata": {},
   "source": [
    "#### Input and target for test"
   ]
  },
  {
   "cell_type": "code",
   "execution_count": 53,
   "id": "e542b447-d6b1-45f9-9825-294d75032d30",
   "metadata": {},
   "outputs": [],
   "source": [
    "X_tst = np.stack(test_part_df[\"normalizedSpectrum\"].to_list())\n",
    "y_tst = test_part_df[\"istSturz\"].to_numpy()"
   ]
  },
  {
   "cell_type": "markdown",
   "id": "19ccb994-ef9a-4978-b885-3cd672269b73",
   "metadata": {},
   "source": [
    "### Model"
   ]
  },
  {
   "cell_type": "markdown",
   "id": "17fdaf67-c732-4e7e-bf63-cac5b774d21a",
   "metadata": {},
   "source": [
    "#### Cross-validation"
   ]
  },
  {
   "cell_type": "code",
   "execution_count": 54,
   "id": "15230f8b-32da-421b-9100-b2e51f1af00b",
   "metadata": {},
   "outputs": [],
   "source": [
    "# https://github.com/christianversloot/machine-learning-articles/blob/main/how-to-use-k-fold-cross-validation-with-keras.md\n",
    "# https://www.kaggle.com/code/franklemuchahary/basic-cnn-keras-with-cross-validation\n",
    "# https://machinelearningmastery.com/k-fold-cross-validation/\n",
    "# https://stats.stackexchange.com/questions/186337/average-roc-for-repeated-10-fold-cross-validation-with-probability-estimates"
   ]
  },
  {
   "cell_type": "code",
   "execution_count": 55,
   "id": "a6f22e34-2a7d-4d80-bec4-6baa866c76ca",
   "metadata": {},
   "outputs": [],
   "source": [
    "from sklearn.model_selection import StratifiedKFold\n",
    "from sklearn.metrics import confusion_matrix"
   ]
  },
  {
   "cell_type": "code",
   "execution_count": 56,
   "id": "57ead5d1-b6d3-4cd9-9224-82bba07c6ab5",
   "metadata": {},
   "outputs": [],
   "source": [
    "# Model configuration\n",
    "#batch_size = 50\n",
    "loss_function = \"binary_crossentropy\"\n",
    "no_epochs = 75\n",
    "optimizer = \"adam\"\n",
    "verbosity = 0\n",
    "num_folds = 5"
   ]
  },
  {
   "cell_type": "code",
   "execution_count": 57,
   "id": "960947ef-11ec-4ffe-b9bb-738b2847c853",
   "metadata": {},
   "outputs": [],
   "source": [
    "# Define per-fold score containers <-- these are new\n",
    "acc_per_fold = []\n",
    "loss_per_fold = []"
   ]
  },
  {
   "cell_type": "code",
   "execution_count": 58,
   "id": "f437ddad-90e1-4685-8e88-a6059ec6cee7",
   "metadata": {},
   "outputs": [],
   "source": [
    "# defind array fot ROC, Precision-recall curve and confusion martrix\n",
    "roc_values = []\n",
    "precision_recall_values = []\n",
    "auc = []\n",
    "confusion_matrices = []"
   ]
  },
  {
   "cell_type": "code",
   "execution_count": 59,
   "id": "c8951754-7560-469f-aa69-62d06d65553b",
   "metadata": {},
   "outputs": [
    {
     "name": "stdout",
     "output_type": "stream",
     "text": [
      "------------------------------------------------------------------------\n",
      "Training for fold 1 ...\n",
      "Score for fold 1: loss of 0.002340869512408972; accuracy of 100.0%\n",
      "12/12 [==============================] - 0s 3ms/step\n",
      "------------------------------------------------------------------------\n",
      "Training for fold 2 ...\n",
      "Score for fold 2: loss of 0.0032338756136596203; accuracy of 100.0%\n",
      "12/12 [==============================] - 0s 3ms/step\n",
      "------------------------------------------------------------------------\n",
      "Training for fold 3 ...\n",
      "Score for fold 3: loss of 0.004742891062051058; accuracy of 100.0%\n",
      "12/12 [==============================] - 0s 3ms/step\n",
      "------------------------------------------------------------------------\n",
      "Training for fold 4 ...\n",
      "Score for fold 4: loss of 0.007078093010932207; accuracy of 99.73474740982056%\n",
      "12/12 [==============================] - 0s 3ms/step\n",
      "------------------------------------------------------------------------\n",
      "Training for fold 5 ...\n",
      "Score for fold 5: loss of 0.011146034114062786; accuracy of 99.46949481964111%\n",
      "12/12 [==============================] - 0s 3ms/step\n"
     ]
    }
   ],
   "source": [
    "# Define the K-fold Cross Validator\n",
    "skfold = StratifiedKFold(n_splits=num_folds, shuffle=True)\n",
    "\n",
    "# K-fold Cross Validation model evaluation\n",
    "fold_no = 1\n",
    "for train, test in skfold.split(X, y):\n",
    "    mdl = Sequential()\n",
    "    mdl.add(Conv2D(8, (63, 5), activation=\"relu\", input_shape=(63, 251, 1)))\n",
    "    mdl.add(MaxPooling2D((1, 4)))\n",
    "    mdl.add(Flatten())\n",
    "    mdl.add(Dense(1,activation=\"sigmoid\"))\n",
    "    #mdl.compile(optimizer=\"adam\", loss=\"binary_crossentropy\", metrics=[\"accuracy\"])\n",
    "    #mdl.summary()\n",
    "\n",
    "    # Compile the model\n",
    "    mdl.compile(loss=loss_function,\n",
    "                    optimizer=optimizer,\n",
    "                    metrics=['accuracy'])\n",
    "\n",
    "\n",
    "      # Generate a print\n",
    "    print('------------------------------------------------------------------------')\n",
    "    print(f'Training for fold {fold_no} ...')\n",
    "\n",
    "    # Fit data to model\n",
    "    history = mdl.fit(X[train], y[train],\n",
    "                  epochs=no_epochs,\n",
    "                  verbose=verbosity)\n",
    "\n",
    "    # Generate generalization metrics\n",
    "    scores = mdl.evaluate(X[test], y[test], verbose=0)\n",
    "    print(f'Score for fold {fold_no}: {mdl.metrics_names[0]} of {scores[0]}; {mdl.metrics_names[1]} of {scores[1]*100}%')\n",
    "    acc_per_fold.append(scores[1] * 100)\n",
    "    loss_per_fold.append(scores[0])\n",
    "    \n",
    "    # Confusion Matrix\n",
    "    # Predict the labels for the test set\n",
    "    y_pred = mdl.predict(X[test,])\n",
    "    \n",
    "    # Convert the predicted labels to a binary form\n",
    "    y_pred_binary = np.where(y_pred > 0.10, 1, 0)\n",
    "    \n",
    "    \n",
    "    # ROC AND PRECISION RECALL VALUES\n",
    "    fpr, tpr, thresholds = roc_curve(y[test], y_pred)\n",
    "    roc_values.append((fpr, tpr,thresholds))\n",
    "    \n",
    "    \n",
    "    precision, recall, thresholds_1 = precision_recall_curve(y[test], y_pred)\n",
    "    precision_recall_values.append((precision, recall,thresholds_1)) \n",
    "    \n",
    "    auc = roc_auc_score(y[test], y_pred)\n",
    "     \n",
    "    #confusion matrix\n",
    "    confusion_matrices.append(confusion_matrix(y[test], y_pred_binary))\n",
    "\n",
    "\n",
    "    # Increase fold number\n",
    "    fold_no = fold_no + 1"
   ]
  },
  {
   "cell_type": "code",
   "execution_count": 61,
   "id": "23294f97-b97b-4134-8fd9-850141a66d92",
   "metadata": {},
   "outputs": [
    {
     "name": "stdout",
     "output_type": "stream",
     "text": [
      "------------------------------------------------------------------------\n",
      "Score per fold\n",
      "------------------------------------------------------------------------\n",
      "> Fold 1 - Loss: 0.002340869512408972 - Accuracy: 100.0%\n",
      "------------------------------------------------------------------------\n",
      "> Fold 2 - Loss: 0.0032338756136596203 - Accuracy: 100.0%\n",
      "------------------------------------------------------------------------\n",
      "> Fold 3 - Loss: 0.004742891062051058 - Accuracy: 100.0%\n",
      "------------------------------------------------------------------------\n",
      "> Fold 4 - Loss: 0.007078093010932207 - Accuracy: 99.73474740982056%\n",
      "------------------------------------------------------------------------\n",
      "> Fold 5 - Loss: 0.011146034114062786 - Accuracy: 99.46949481964111%\n",
      "------------------------------------------------------------------------\n",
      "Average scores for all folds:\n",
      "> Accuracy: 99.84084844589233 (+- 0.2122020721435547)\n",
      "> Loss: 0.005708352662622929\n",
      "------------------------------------------------------------------------\n"
     ]
    }
   ],
   "source": [
    "# == Provide average scores ==\n",
    "print('------------------------------------------------------------------------')\n",
    "print('Score per fold')\n",
    "for i in range(0, len(acc_per_fold)):\n",
    "    print('------------------------------------------------------------------------')\n",
    "    print(f'> Fold {i+1} - Loss: {loss_per_fold[i]} - Accuracy: {acc_per_fold[i]}%')\n",
    "print('------------------------------------------------------------------------')\n",
    "print('Average scores for all folds:')\n",
    "print(f'> Accuracy: {np.mean(acc_per_fold)} (+- {np.std(acc_per_fold)})')\n",
    "print(f'> Loss: {np.mean(loss_per_fold)}')\n",
    "print('------------------------------------------------------------------------')"
   ]
  },
  {
   "cell_type": "code",
   "execution_count": 62,
   "id": "39fe4669-c885-4a66-8e8e-545d156c9373",
   "metadata": {},
   "outputs": [
    {
     "data": {
      "image/png": "[encoded data removed]",
      "text/plain": [
       "<Figure size 640x480 with 2 Axes>"
      ]
     },
     "metadata": {},
     "output_type": "display_data"
    },
    {
     "data": {
      "image/png": "[encoded data removed]",
      "text/plain": [
       "<Figure size 640x480 with 2 Axes>"
      ]
     },
     "metadata": {},
     "output_type": "display_data"
    },
    {
     "data": {
      "image/png": "[encoded data removed]",
      "text/plain": [
       "<Figure size 640x480 with 2 Axes>"
      ]
     },
     "metadata": {},
     "output_type": "display_data"
    },
    {
     "data": {
      "image/png": "[encoded data removed]",
      "text/plain": [
       "<Figure size 640x480 with 2 Axes>"
      ]
     },
     "metadata": {},
     "output_type": "display_data"
    },
    {
     "data": {
      "image/png": "[encoded data removed]",
      "text/plain": [
       "<Figure size 640x480 with 2 Axes>"
      ]
     },
     "metadata": {},
     "output_type": "display_data"
    }
   ],
   "source": [
    "# Plot the confusion matrix values for each fold on the same graph\n",
    "for cm in confusion_matrices:\n",
    "    ax= pyplot.subplot()\n",
    "    sns.heatmap(cm, annot=True, fmt='g', ax=ax);  #annot=True to annotate cells, ftm='g' to disable scientific notation\n",
    "    # labels, title and ticks\n",
    "    ax.set_xlabel('Predicted labels');ax.set_ylabel('True labels');\n",
    "    ax.set_title('Confusion Matrix');\n",
    "    ax.xaxis.set_ticklabels(['0', '1'])\n",
    "    ax.yaxis.set_ticklabels(['0', '1'])\n",
    "    pyplot.show() \n",
    "\n",
    "# Show the plot\n",
    "plt.show()"
   ]
  },
  {
   "cell_type": "code",
   "execution_count": 63,
   "id": "86ab8376-3727-465d-972f-4b14511ce6c7",
   "metadata": {},
   "outputs": [],
   "source": [
    "pyplot.rcParams.update({'font.size': 8})"
   ]
  },
  {
   "cell_type": "code",
   "execution_count": null,
   "id": "0b118479-e2ea-4a46-8181-68f674d436fb",
   "metadata": {},
   "outputs": [],
   "source": [
    "tprs = []\n",
    "base_fpr = np.linspace(0, 1, 101)\n",
    "pyplot.figure(figsize=(10, 10))\n",
    "pyplot.axes().set_aspect('equal', 'datalim')"
   ]
  },
  {
   "cell_type": "code",
   "execution_count": 73,
   "id": "6b60b41a-34b5-4943-bdd1-1cf4f0e917fa",
   "metadata": {},
   "outputs": [
    {
     "name": "stdout",
     "output_type": "stream",
     "text": [
      "For fold 1 optimal Threshold=0.799534, G-Mean=1.000\n",
      "For fold 2 optimal Threshold=0.925962, G-Mean=1.000\n",
      "For fold 3 optimal Threshold=0.799280, G-Mean=1.000\n",
      "For fold 4 optimal Threshold=0.237776, G-Mean=1.000\n",
      "For fold 5 optimal Threshold=0.164734, G-Mean=1.000\n",
      "mean Threshold=1.000000, G-Mean=0.995\n"
     ]
    },
    {
     "data": {
      "image/png": "[encoded data removed]",
      "text/plain": [
       "<Figure size 640x480 with 1 Axes>"
      ]
     },
     "metadata": {},
     "output_type": "display_data"
    }
   ],
   "source": [
    "# Plot the ROC and precision-recall values for each fold on the same graph\n",
    "tprs = []\n",
    "\n",
    "# Calculate the mean values of FPR and TPR for the ROC curve\n",
    "mean_fpr = sum(fpr[i] for i in range(len(roc_values))) / len(roc_values)\n",
    "mean_tpr = sum(tpr[i] for i in range(len(roc_values))) / len(roc_values)\n",
    "\n",
    "# Calculate the mean values of precision and recall for the precision-recall curve\n",
    "mean_precision = sum(precision[i] for i in range(len(precision_recall_values))) / len(precision_recall_values)\n",
    "mean_recall = sum(recall[i] for i in range(len(precision_recall_values))) / len(precision_recall_values)\n",
    "\n",
    "i = 1\n",
    "j = 1\n",
    "    \n",
    "# ROC CURVE\n",
    "for fpr, tpr,thresholds in roc_values:\n",
    "    \n",
    "    gmeans = sqrt(tpr * (1-fpr))\n",
    "    # locate the index of the largest g-mean\n",
    "    ix = argmax(gmeans)\n",
    "    print('For fold '  +str(i), 'optimal Threshold=%f, G-Mean=%.3f' % (thresholds[ix], gmeans[ix]))\n",
    "    \n",
    "    # plot the roc curve for the model\n",
    "    pyplot.plot(fpr, tpr,'b', alpha=0.15, marker='.', label='ROC for Fold' +str(i))\n",
    "    \n",
    "    tpr_new = np.interp(base_fpr, fpr, tpr)\n",
    "    tpr_new[0] = 0.0\n",
    "    tprs.append(tpr_new)\n",
    "    \n",
    "   \n",
    "    if i == num_folds:\n",
    "        pyplot.scatter(fpr[ix], tpr[ix],s=20,alpha=0.5, marker='o', color='black', label='G-mean')\n",
    "        pyplot.legend()\n",
    "    else:\n",
    "        pyplot.scatter(fpr[ix], tpr[ix],s=20,alpha=0.5, marker='o', color='black')  \n",
    "        pyplot.legend()\n",
    "        \n",
    "    i = i + 1\n",
    "     \n",
    "tprs = np.array(tprs)\n",
    "mean_tprs = tprs.mean(axis=0)\n",
    "std = tprs.std(axis=0)\n",
    "\n",
    "tprs_upper = np.minimum(mean_tprs + std, 1)\n",
    "tprs_lower = mean_tprs - std\n",
    "\n",
    "\n",
    "gmeans_new = sqrt(mean_tprs * (1-base_fpr))\n",
    "# locate the index of the largest g-mean\n",
    "iy = argmax(gmeans_new)\n",
    "print('mean Threshold=%f, G-Mean=%.3f' % (thresholds[iy], gmeans_new[iy]))\n",
    "\n",
    "pyplot.plot(base_fpr, mean_tprs, 'g',linewidth=3.0, label='Mean ROC')\n",
    "pyplot.scatter(base_fpr[ix], mean_tprs[ix],s=100,alpha=0.5, marker=\"*\", color='Red', label='Avg G-mean')\n",
    "pyplot.fill_between(base_fpr, tprs_lower, tprs_upper, color='grey', alpha=0.2)\n",
    "\n",
    "pyplot.plot([0, 1], [0, 1],'r--')\n",
    "pyplot.xlim([-0.01, 1.01])\n",
    "pyplot.ylim([-0.01, 1.01])\n",
    "pyplot.ylabel('True Positive Rate')\n",
    "pyplot.xlabel('False Positive Rate')\n",
    "pyplot.legend()\n",
    "pyplot.show()\n",
    "\n"
   ]
  },
  {
   "cell_type": "code",
   "execution_count": 66,
   "id": "cdf79e7c-9d77-43e3-abc0-06b7423ee372",
   "metadata": {},
   "outputs": [],
   "source": [
    "prc = []\n",
    "base_recall = np.linspace(0, 1, 101)"
   ]
  },
  {
   "cell_type": "code",
   "execution_count": 80,
   "id": "62c02350-5f01-43f0-8f7d-0109399c9469",
   "metadata": {},
   "outputs": [
    {
     "name": "stdout",
     "output_type": "stream",
     "text": [
      "For fold 1 Best Threshold=0.799534, F-Score=1.000\n",
      "For fold 2 Best Threshold=0.925962, F-Score=1.000\n",
      "For fold 3 Best Threshold=0.799280, F-Score=1.000\n",
      "For fold 4 Best Threshold=0.237776, F-Score=1.000\n",
      "For fold 5 Best Threshold=0.164734, F-Score=1.000\n"
     ]
    },
    {
     "data": {
      "image/png": "[encoded data removed]",
      "text/plain": [
       "<Figure size 640x480 with 1 Axes>"
      ]
     },
     "metadata": {},
     "output_type": "display_data"
    }
   ],
   "source": [
    "ix = 0 \n",
    "j = 1\n",
    "# PRECISION RECALL CURVE\n",
    "for precision, recall, thresholds_1 in precision_recall_values:\n",
    "    \n",
    "     # convert to f score\n",
    "    fscore = (2 * precision * recall) / (precision + recall)\n",
    "    # locate the index of the largest f score\n",
    "    ix = argmax(fscore)\n",
    "    print('For fold '  +str(j),'Best Threshold=%f, F-Score=%.3f' % (thresholds_1[ix], fscore[ix]))\n",
    "\n",
    "    pyplot.plot(recall, precision, marker='.', label='Fold' + str(j))\n",
    "    \n",
    "    pyplot.scatter(recall[ix], precision[ix],s=20, marker='o', color='black', label='Best')\n",
    "    # axis labels\n",
    "\n",
    "    j = j + 1\n",
    "\n",
    "pyplot.xlabel('Recall')\n",
    "pyplot.ylabel('Precision')\n",
    "pyplot.legend()\n",
    "    \n",
    "# Show the plot\n",
    "pyplot.show()"
   ]
  },
  {
   "cell_type": "code",
   "execution_count": 81,
   "id": "8d127041-41be-493b-b94e-cc749b9752ef",
   "metadata": {},
   "outputs": [
    {
     "name": "stdout",
     "output_type": "stream",
     "text": [
      "1/1 [==============================] - 0s 22ms/step\n"
     ]
    },
    {
     "data": {
      "text/html": [
       "<div>\n",
       "<style scoped>\n",
       "    .dataframe tbody tr th:only-of-type {\n",
       "        vertical-align: middle;\n",
       "    }\n",
       "\n",
       "    .dataframe tbody tr th {\n",
       "        vertical-align: top;\n",
       "    }\n",
       "\n",
       "    .dataframe thead th {\n",
       "        text-align: right;\n",
       "    }\n",
       "</style>\n",
       "<table border=\"1\" class=\"dataframe\">\n",
       "  <thead>\n",
       "    <tr style=\"text-align: right;\">\n",
       "      <th>col_0</th>\n",
       "      <th>True</th>\n",
       "    </tr>\n",
       "    <tr>\n",
       "      <th>event</th>\n",
       "      <th></th>\n",
       "    </tr>\n",
       "  </thead>\n",
       "  <tbody>\n",
       "    <tr>\n",
       "      <th>Dummy</th>\n",
       "      <td>26</td>\n",
       "    </tr>\n",
       "  </tbody>\n",
       "</table>\n",
       "</div>"
      ],
      "text/plain": [
       "col_0  True\n",
       "event      \n",
       "Dummy    26"
      ]
     },
     "execution_count": 81,
     "metadata": {},
     "output_type": "execute_result"
    }
   ],
   "source": [
    "ypred = mdl.predict(X_tst).ravel()\n",
    "threshold = 0.10\n",
    "pd.crosstab(test_part_df['event'], ypred >= threshold)"
   ]
  },
  {
   "cell_type": "code",
   "execution_count": null,
   "id": "d44f9fac-2b68-4b35-a71c-35d104af5c6b",
   "metadata": {},
   "outputs": [],
   "source": []
  }
 ],
 "metadata": {
  "kernelspec": {
   "display_name": "Python 3.10 / pyspotseven",
   "language": "python",
   "name": "py310-pyspotseven"
  },
  "language_info": {
   "codemirror_mode": {
    "name": "ipython",
    "version": 3
   },
   "file_extension": ".py",
   "mimetype": "text/x-python",
   "name": "python",
   "nbconvert_exporter": "python",
   "pygments_lexer": "ipython3",
   "version": "3.10.8"
  }
 },
 "nbformat": 4,
 "nbformat_minor": 5
}
