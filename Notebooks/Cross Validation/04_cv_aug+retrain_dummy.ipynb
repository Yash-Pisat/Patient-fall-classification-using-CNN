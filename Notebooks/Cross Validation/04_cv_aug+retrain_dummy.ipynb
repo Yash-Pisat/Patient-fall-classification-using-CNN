{
 "cells": [
  {
   "cell_type": "markdown",
   "id": "f4187d23-511b-4151-ad06-759b533a27ff",
   "metadata": {},
   "source": [
    "- Training with 50 % postive and (m) augmented data and retraining with 50 % postive and (n-k) dummy data\n",
    "- Testing with (k) dummy data"
   ]
  },
  {
   "cell_type": "code",
   "execution_count": 1,
   "id": "e32f04af-6c9e-4d95-9bd2-fad122995765",
   "metadata": {},
   "outputs": [
    {
     "name": "stderr",
     "output_type": "stream",
     "text": [
      "2023-01-06 22:08:23.967574: I tensorflow/core/platform/cpu_feature_guard.cc:193] This TensorFlow binary is optimized with oneAPI Deep Neural Network Library (oneDNN) to use the following CPU instructions in performance-critical operations:  SSE4.1 SSE4.2 AVX AVX2 AVX512F FMA\n",
      "To enable them in other operations, rebuild TensorFlow with the appropriate compiler flags.\n"
     ]
    }
   ],
   "source": [
    "from lib import Augmentation_methods\n",
    "from lib import data_preparation\n",
    "\n",
    "import matplotlib.pyplot as plt\n",
    "from scipy.signal import stft\n",
    "import numpy as np\n",
    "import pandas as pd\n",
    "from pathlib import Path\n",
    "\n",
    "from sklearn.model_selection import train_test_split\n",
    "\n",
    "import tensorflow as tf\n",
    "from tensorflow import keras\n",
    "from tensorflow.keras.models import Sequential\n",
    "from tensorflow.keras.layers import Dense, Conv2D, MaxPooling2D, Flatten\n",
    "from tensorflow.keras.regularizers import l2\n",
    "from IPython.display import clear_output"
   ]
  },
  {
   "cell_type": "code",
   "execution_count": 2,
   "id": "c79b34c2-25ea-4b3c-a450-6457c69bc0c4",
   "metadata": {},
   "outputs": [],
   "source": [
    "from sklearn.metrics import roc_curve\n",
    "from sklearn.metrics import roc_auc_score\n",
    "from sklearn.metrics import precision_recall_curve, classification_report\n",
    "from sklearn.metrics import f1_score\n",
    "from sklearn.metrics import auc\n",
    "from matplotlib import pyplot\n",
    "from numpy import sqrt\n",
    "from numpy import argmax\n",
    "from sklearn.metrics import confusion_matrix\n",
    "import seaborn as sns"
   ]
  },
  {
   "cell_type": "code",
   "execution_count": 3,
   "id": "aa1eaf3f-da9e-4e6c-9f0c-194f8c01ad98",
   "metadata": {},
   "outputs": [],
   "source": [
    "BASEDIR = Path(\"/store/projects/fallki/\")\n",
    "FAKEDIR = BASEDIR / \"Fake-Events\" / \"2. Fake-Events Messung\"\n",
    "\n",
    "# BASEDIR = pathlib.Path('/store/projects/fallki/')\n",
    "# FAKEDIR = pathlib.Path('Fake-Events/2. Fake-Events Messung/')\n",
    "df_fake = pd.read_parquet(BASEDIR / FAKEDIR / 'gSensoren_FakeEvents.parquet')"
   ]
  },
  {
   "cell_type": "code",
   "execution_count": 4,
   "id": "f9261159-1867-429f-9c6f-aee2e63610f6",
   "metadata": {},
   "outputs": [],
   "source": [
    "def SignalToSpectrum(signal, samplerate=1600):\n",
    "    SIGNAL_LENGTH = samplerate * 10\n",
    "    F = stft(signal[:SIGNAL_LENGTH], 1600, nperseg=128)[2]\n",
    "    F = F[2:,]\n",
    "    return np.expand_dims(np.abs(F), axis=2) # Add extra dimension for TF Conv2D"
   ]
  },
  {
   "cell_type": "code",
   "execution_count": 5,
   "id": "e5cf7f27-bf2c-4955-b496-5735b9d1c0e4",
   "metadata": {},
   "outputs": [
    {
     "name": "stderr",
     "output_type": "stream",
     "text": [
      "/home/ing2146/Final/SNEHA/lib/data_preparation.py:202: VisibleDeprecationWarning: Creating an ndarray from ragged nested sequences (which is a list-or-tuple of lists-or-tuples-or ndarrays with different lengths or shapes) is deprecated. If you meant to do this, you must specify 'dtype=object' when creating the ndarray.\n",
      "  All_Events_Data = np.array(All_Events_Data)[shuffler]\n",
      "/home/ing2146/Final/SNEHA/lib/data_preparation.py:226: VisibleDeprecationWarning: Creating an ndarray from ragged nested sequences (which is a list-or-tuple of lists-or-tuples-or ndarrays with different lengths or shapes) is deprecated. If you meant to do this, you must specify 'dtype=object' when creating the ndarray.\n",
      "  df_fake_dummy_Data = np.array(df_fake_dummy_Data)\n"
     ]
    }
   ],
   "source": [
    "#To obtain the dummy data\n",
    "dummy_lab_data = data_preparation.fake_lab_data()\n",
    "dummy_data = dummy_lab_data[0]\n",
    "dummy_data_df =pd.DataFrame(dummy_data,columns=['z'])"
   ]
  },
  {
   "cell_type": "code",
   "execution_count": 6,
   "id": "18448b6a-595f-4086-a367-925f90249136",
   "metadata": {},
   "outputs": [],
   "source": [
    "#To divide the extracted dummy df into 85 and 15% ratio\n",
    "train_part = dummy_data_df.sample(frac = 0.60) \n",
    "test_part = dummy_data_df.drop(train_part.index) #test data"
   ]
  },
  {
   "cell_type": "code",
   "execution_count": 7,
   "id": "9887ba32-ac32-44f6-b8d9-8e728c1dbe0b",
   "metadata": {},
   "outputs": [],
   "source": [
    "#reset the index\n",
    "train_part.reset_index(drop=True, inplace=True)\n",
    "test_part.reset_index(drop=True, inplace=True)"
   ]
  },
  {
   "cell_type": "markdown",
   "id": "13012dc7-2a54-406e-9f2d-682c9d172aac",
   "metadata": {},
   "source": [
    "#### Augmentation of (n-k) dummy event"
   ]
  },
  {
   "cell_type": "code",
   "execution_count": 8,
   "id": "41754eb4-fd24-46ed-944f-34b33dd92988",
   "metadata": {},
   "outputs": [
    {
     "name": "stderr",
     "output_type": "stream",
     "text": [
      "/tmp/ipykernel_471637/3983658721.py:51: VisibleDeprecationWarning: Creating an ndarray from ragged nested sequences (which is a list-or-tuple of lists-or-tuples-or ndarrays with different lengths or shapes) is deprecated. If you meant to do this, you must specify 'dtype=object' when creating the ndarray.\n",
      "  augmented_dummy_array = np.array(augmented_dummy)\n"
     ]
    }
   ],
   "source": [
    "augmented_dummy = []\n",
    "\n",
    "for i, event in enumerate(train_part.to_numpy().ravel()): \n",
    "    \n",
    "    #Jittering\n",
    "    Noise_dummy = Augmentation_methods.add_white_noise(event, 0.15) \n",
    "    augmented_dummy.append(Noise_dummy)\n",
    "    \n",
    "    #Jittering\n",
    "    Noise_dummy1 = Augmentation_methods.add_white_noise(event, 0.12) \n",
    "    augmented_dummy.append(Noise_dummy1)\n",
    "    \n",
    "    #Jittering\n",
    "    Noise_dummy2 = Augmentation_methods.add_white_noise(event, 0.08) \n",
    "    augmented_dummy.append(Noise_dummy2)\n",
    "    \n",
    "    #Jittering\n",
    "    Noise_dummy2 = Augmentation_methods.add_white_noise(event, 0.05) \n",
    "    augmented_dummy.append(Noise_dummy2)\n",
    "    \n",
    "    #Magnitude Warping\n",
    "    magnitude_warped_dummy =  Augmentation_methods.magnitudewarping(event,0.1, 20) \n",
    "    augmented_dummy.append(magnitude_warped_dummy[1])\n",
    "    \n",
    "    #Magnitude Warping\n",
    "    magnitude_warped_dummy1 =  Augmentation_methods.magnitudewarping(event,0.1, 15) \n",
    "    augmented_dummy.append(magnitude_warped_dummy1[1])\n",
    "    \n",
    "    #Magnitude Warping\n",
    "    magnitude_warped_dummy2 =  Augmentation_methods.magnitudewarping(event,0.1, 10) \n",
    "    augmented_dummy.append(magnitude_warped_dummy2[1])\n",
    "    \n",
    "    #Window Warping\n",
    "    window_warped_dummy = Augmentation_methods.windowWarp(event, window_ratio=0.1, scales=[0.5, 2.]) \n",
    "    augmented_dummy.append(window_warped_dummy)\n",
    "    \n",
    "    #Jittering + Magnitude warping\n",
    "    curve_JMW, jittered_magnitude_warped_dummy  =  Augmentation_methods.magnitudewarping((Augmentation_methods.add_white_noise(event, 0.50)),0.1, 10)\n",
    "    augmented_dummy.append(jittered_magnitude_warped_dummy)\n",
    "    \n",
    "    #Jittering + window warping\n",
    "    Jittered_window_warped_dummy = Augmentation_methods.windowWarp((Augmentation_methods.add_white_noise(event, 0.50)), window_ratio=0.1, scales=[0.5, 2.])\n",
    "    augmented_dummy.append(Jittered_window_warped_dummy)\n",
    "    \n",
    "    #magnitude warping + window warping\n",
    "    mag_warped  =  Augmentation_methods.magnitudewarping(event,0.1, 10)\n",
    "    mag_window_warped_dummy = Augmentation_methods.windowWarp(mag_warped[1] , window_ratio=0.1, scales=[0.5, 2.])\n",
    "    augmented_dummy.append(mag_window_warped_dummy)\n",
    "          \n",
    "    \n",
    "augmented_dummy_array = np.array(augmented_dummy)    "
   ]
  },
  {
   "cell_type": "code",
   "execution_count": 9,
   "id": "5b7c66c8-a6f9-4939-b2e3-9614f37c5935",
   "metadata": {},
   "outputs": [],
   "source": [
    "augmented_dummy_array_df =pd.DataFrame(augmented_dummy_array,columns=['z'])"
   ]
  },
  {
   "cell_type": "markdown",
   "id": "be946c84-996a-4a69-94b3-4bae611a9404",
   "metadata": {},
   "source": [
    "## Data Preparation"
   ]
  },
  {
   "cell_type": "markdown",
   "id": "d6c12a48-0fb2-4cb5-94f1-6eb890909c99",
   "metadata": {},
   "source": [
    "### Positive events"
   ]
  },
  {
   "cell_type": "code",
   "execution_count": 10,
   "id": "32138fdd-fd6c-4998-bb00-0d95d151ff27",
   "metadata": {},
   "outputs": [],
   "source": [
    "L = []\n",
    "for (teensy, event, run, rep), ss in df_fake.groupby([\"teensy\", \"experiment\", \"run\", \"rep\"]):\n",
    "    L.append({\"event\": event,\n",
    "              \"run\": run,\n",
    "              \"istSturz\": int(event == \"Dummy\"),\n",
    "              \"signalLenght\": len(ss[\"z\"]),\n",
    "              \"spectrum\": SignalToSpectrum(ss[\"z\"])})\n",
    "df = pd.DataFrame.from_dict(L)\n",
    "df.drop('run', inplace=True, axis=1)"
   ]
  },
  {
   "cell_type": "code",
   "execution_count": 11,
   "id": "703e8511-fc02-4b38-8292-b2fa375e5f3d",
   "metadata": {},
   "outputs": [],
   "source": [
    "# normalize the spectrum to facilitate training\n",
    "df[\"normalizedSpectrum\"] = df[\"spectrum\"] / df[\"spectrum\"].map(np.max).max()"
   ]
  },
  {
   "cell_type": "code",
   "execution_count": 12,
   "id": "cc35afb9-b266-4298-9d58-049bcc649383",
   "metadata": {},
   "outputs": [],
   "source": [
    "# Dropping dummy events from the dataframe\n",
    "df_drop = []\n",
    "df_drop = df.drop(df[(df['event'] == \"Dummy\")].index)"
   ]
  },
  {
   "cell_type": "code",
   "execution_count": 13,
   "id": "5280aa8a-06dd-47d0-b366-a436cd4d314f",
   "metadata": {},
   "outputs": [],
   "source": [
    "#shuffle the final dataframe\n",
    "df_drop = df_drop.sample(frac=1).reset_index(drop=True)"
   ]
  },
  {
   "cell_type": "code",
   "execution_count": 14,
   "id": "1e365218-a833-41c7-b085-71266be4fab2",
   "metadata": {},
   "outputs": [],
   "source": [
    "#To divide the extracted dummy df into \n",
    "pos_train_part = df_drop.sample(frac = 0.50) \n",
    "pos_retrain_part = df_drop.drop(pos_train_part.index) #test data"
   ]
  },
  {
   "cell_type": "markdown",
   "id": "3ceea799-cd6b-4b01-9e8b-f2d63804bc48",
   "metadata": {},
   "source": [
    "### Augmented data for train "
   ]
  },
  {
   "cell_type": "code",
   "execution_count": 15,
   "id": "389c46d4-e526-4e68-931f-f67df2f7d51e",
   "metadata": {},
   "outputs": [],
   "source": [
    "M = []\n",
    "for i in range(len(augmented_dummy_array_df)):\n",
    "    M.append({\"event\": \"Dummy\" ,\n",
    "              \"istSturz\": 1,\n",
    "              \"signalLenght\": len(augmented_dummy_array_df.z[i]),\n",
    "              \"spectrum\": SignalToSpectrum(augmented_dummy_array_df.z[i])})\n",
    "augmented_df = pd.DataFrame.from_dict(M)"
   ]
  },
  {
   "cell_type": "code",
   "execution_count": 16,
   "id": "b9cf6857-80fc-4e87-86f4-36fc4d54cad6",
   "metadata": {},
   "outputs": [],
   "source": [
    "# normalize the spectrum to facilitate training \n",
    "augmented_df[\"normalizedSpectrum\"] = augmented_df[\"spectrum\"] / augmented_df[\"spectrum\"].map(np.max).max()\n",
    "\n",
    "# shuffle the final dataframe\n",
    "augmented_df = augmented_df.sample(frac=1).reset_index(drop=True)"
   ]
  },
  {
   "cell_type": "markdown",
   "id": "60503aa2-b8e7-4b04-af02-dc712b139c7f",
   "metadata": {},
   "source": [
    "### Dummy events (n-k) for re-train"
   ]
  },
  {
   "cell_type": "code",
   "execution_count": 17,
   "id": "e6bbfa4d-444e-493b-a107-71d43ba45b7d",
   "metadata": {},
   "outputs": [],
   "source": [
    "T = []\n",
    "for i in range(len(train_part)):\n",
    "    T.append({\"event\": \"Dummy\" ,\n",
    "              \"istSturz\": 1,\n",
    "              \"signalLenght\": len(train_part.z[i]),\n",
    "              \"spectrum\": SignalToSpectrum(train_part.z[i])})\n",
    "train_part_df = pd.DataFrame.from_dict(T)"
   ]
  },
  {
   "cell_type": "code",
   "execution_count": 18,
   "id": "03f8799e-a0a2-49e6-8462-e843e0d6b2ed",
   "metadata": {},
   "outputs": [],
   "source": [
    "# normalize the spectrum to facilitate training \n",
    "train_part_df[\"normalizedSpectrum\"] = train_part_df[\"spectrum\"] / train_part_df[\"spectrum\"].map(np.max).max()"
   ]
  },
  {
   "cell_type": "markdown",
   "id": "d8b7c717-c0e4-44ce-bd99-3d2b67d048ee",
   "metadata": {},
   "source": [
    "### Dummy events(k) for test"
   ]
  },
  {
   "cell_type": "code",
   "execution_count": 19,
   "id": "3b0df5d9-23f1-4026-acb4-11d518341462",
   "metadata": {},
   "outputs": [],
   "source": [
    "R = []\n",
    "for i in range(len(test_part)):\n",
    "    R.append({\"event\": \"Dummy\" ,\n",
    "              \"istSturz\": 1,\n",
    "              \"signalLenght\": len(test_part.z[i]),\n",
    "              \"spectrum\": SignalToSpectrum(test_part.z[i])})\n",
    "test_part_df = pd.DataFrame.from_dict(R)"
   ]
  },
  {
   "cell_type": "code",
   "execution_count": 20,
   "id": "5618d878-d434-4450-82a6-fdfd70c55a43",
   "metadata": {},
   "outputs": [],
   "source": [
    "# normalize the spectrum to facilitate training\n",
    "test_part_df[\"normalizedSpectrum\"] = test_part_df[\"spectrum\"] / test_part_df[\"spectrum\"].map(np.max).max()"
   ]
  },
  {
   "cell_type": "markdown",
   "id": "74d99ecf-1b4c-462f-9255-043ca1b49a59",
   "metadata": {},
   "source": [
    "### Append dataframe for train"
   ]
  },
  {
   "cell_type": "code",
   "execution_count": 21,
   "id": "6db93cdc-8b87-493b-9ddb-e6f836f3beff",
   "metadata": {},
   "outputs": [
    {
     "name": "stderr",
     "output_type": "stream",
     "text": [
      "/tmp/ipykernel_471637/2410801057.py:2: FutureWarning: The frame.append method is deprecated and will be removed from pandas in a future version. Use pandas.concat instead.\n",
      "  final_df_train = pos_train_part.append(augmented_df)\n"
     ]
    }
   ],
   "source": [
    "final_df_train = []\n",
    "final_df_train = pos_train_part.append(augmented_df)"
   ]
  },
  {
   "cell_type": "code",
   "execution_count": 22,
   "id": "289bfb97-3471-4efb-9b3b-c6383ab9dfa2",
   "metadata": {},
   "outputs": [],
   "source": [
    "#shuffle the final dataframe\n",
    "final_df_train = final_df_train.sample(frac=1).reset_index(drop=True)"
   ]
  },
  {
   "cell_type": "markdown",
   "id": "f2a60b65-86cc-4117-bab5-87831a063f0d",
   "metadata": {},
   "source": [
    "### Append dataframe for re-train"
   ]
  },
  {
   "cell_type": "code",
   "execution_count": 23,
   "id": "ffbec973-a4c2-4f6e-bcb6-1854a17926fd",
   "metadata": {},
   "outputs": [
    {
     "name": "stderr",
     "output_type": "stream",
     "text": [
      "/tmp/ipykernel_471637/1519865301.py:2: FutureWarning: The frame.append method is deprecated and will be removed from pandas in a future version. Use pandas.concat instead.\n",
      "  final_df_retrain = pos_retrain_part.append(train_part_df)\n"
     ]
    }
   ],
   "source": [
    "final_df_retrain=[]\n",
    "final_df_retrain = pos_retrain_part.append(train_part_df)"
   ]
  },
  {
   "cell_type": "code",
   "execution_count": 24,
   "id": "0de1360a-9f3a-4ed1-962c-a8b13b68bf9b",
   "metadata": {},
   "outputs": [],
   "source": [
    "#shuffle the final dataframe\n",
    "final_df_retrain = final_df_retrain.sample(frac=1).reset_index(drop=True)"
   ]
  },
  {
   "cell_type": "markdown",
   "id": "ab84c622-1b36-4959-b7cd-099fadc7bf77",
   "metadata": {},
   "source": [
    "### Input and target split for train and test"
   ]
  },
  {
   "cell_type": "markdown",
   "id": "a2935121-2384-4ddc-a190-37b97742b187",
   "metadata": {},
   "source": [
    "#### Input and target for Train"
   ]
  },
  {
   "cell_type": "code",
   "execution_count": 25,
   "id": "fc276ca8-71bd-4e2a-8bbf-8a0ca3297034",
   "metadata": {},
   "outputs": [],
   "source": [
    "X = np.stack(final_df_train[\"normalizedSpectrum\"].to_list())\n",
    "y = final_df_train[\"istSturz\"].to_numpy()"
   ]
  },
  {
   "cell_type": "markdown",
   "id": "abd60487-1b08-4808-873e-f90af6d2710a",
   "metadata": {},
   "source": [
    "#### Input and target for re-train"
   ]
  },
  {
   "cell_type": "code",
   "execution_count": 26,
   "id": "2b4ac6d2-d3ec-4f7f-8953-d96f4103dfb8",
   "metadata": {},
   "outputs": [],
   "source": [
    "X_retrain = np.stack(final_df_retrain[\"normalizedSpectrum\"].to_list())\n",
    "y_retrain = final_df_retrain[\"istSturz\"].to_numpy()"
   ]
  },
  {
   "cell_type": "markdown",
   "id": "932ca642-3da4-4ff6-8c2e-abc729a06d28",
   "metadata": {},
   "source": [
    "#### Input and target for test"
   ]
  },
  {
   "cell_type": "code",
   "execution_count": 27,
   "id": "e542b447-d6b1-45f9-9825-294d75032d30",
   "metadata": {},
   "outputs": [],
   "source": [
    "X_tst = np.stack(test_part_df[\"normalizedSpectrum\"].to_list())\n",
    "y_tst = test_part_df[\"istSturz\"].to_numpy()"
   ]
  },
  {
   "cell_type": "raw",
   "id": "0310ccef-8ce7-41e0-b0c4-ce2d911dfdd4",
   "metadata": {},
   "source": [
    "# split data in train and test set\n",
    "train, test = train_test_split(range(len(y)), test_size=0.2, stratify = y)\n",
    "# how many of the respective events are contained in the test set\n",
    "final_df[\"event\"][test].value_counts()"
   ]
  },
  {
   "cell_type": "markdown",
   "id": "19ccb994-ef9a-4978-b885-3cd672269b73",
   "metadata": {},
   "source": [
    "### Model"
   ]
  },
  {
   "cell_type": "markdown",
   "id": "17fdaf67-c732-4e7e-bf63-cac5b774d21a",
   "metadata": {},
   "source": [
    "#### Cross-validation"
   ]
  },
  {
   "cell_type": "code",
   "execution_count": 28,
   "id": "15230f8b-32da-421b-9100-b2e51f1af00b",
   "metadata": {},
   "outputs": [],
   "source": [
    "# https://github.com/christianversloot/machine-learning-articles/blob/main/how-to-use-k-fold-cross-validation-with-keras.md\n",
    "# https://www.kaggle.com/code/franklemuchahary/basic-cnn-keras-with-cross-validation\n",
    "# https://machinelearningmastery.com/k-fold-cross-validation/\n",
    "# https://stats.stackexchange.com/questions/186337/average-roc-for-repeated-10-fold-cross-validation-with-probability-estimates"
   ]
  },
  {
   "cell_type": "code",
   "execution_count": 29,
   "id": "a6f22e34-2a7d-4d80-bec4-6baa866c76ca",
   "metadata": {},
   "outputs": [],
   "source": [
    "from sklearn.model_selection import StratifiedKFold\n",
    "from sklearn.metrics import confusion_matrix"
   ]
  },
  {
   "cell_type": "code",
   "execution_count": 30,
   "id": "57ead5d1-b6d3-4cd9-9224-82bba07c6ab5",
   "metadata": {},
   "outputs": [],
   "source": [
    "# Model configuration\n",
    "#batch_size = 50\n",
    "loss_function = \"binary_crossentropy\"\n",
    "no_epochs = 75\n",
    "optimizer = \"adam\"\n",
    "verbosity = 0\n",
    "num_folds = 5"
   ]
  },
  {
   "cell_type": "code",
   "execution_count": 31,
   "id": "960947ef-11ec-4ffe-b9bb-738b2847c853",
   "metadata": {},
   "outputs": [],
   "source": [
    "# Define per-fold score containers <-- these are new\n",
    "acc_per_fold = []\n",
    "loss_per_fold = []"
   ]
  },
  {
   "cell_type": "code",
   "execution_count": 32,
   "id": "f437ddad-90e1-4685-8e88-a6059ec6cee7",
   "metadata": {},
   "outputs": [],
   "source": [
    "# defind array fot ROC, Precision-recall curve and confusion martrix\n",
    "roc_values = []\n",
    "precision_recall_values = []\n",
    "auc = []\n",
    "confusion_matrices = []"
   ]
  },
  {
   "cell_type": "markdown",
   "id": "e47485ae-0b69-4a0d-8368-713d569cbfe8",
   "metadata": {},
   "source": [
    "### Train on m augmentations"
   ]
  },
  {
   "cell_type": "code",
   "execution_count": 33,
   "id": "c8951754-7560-469f-aa69-62d06d65553b",
   "metadata": {},
   "outputs": [
    {
     "name": "stderr",
     "output_type": "stream",
     "text": [
      "2023-01-06 22:10:53.407465: I tensorflow/core/platform/cpu_feature_guard.cc:193] This TensorFlow binary is optimized with oneAPI Deep Neural Network Library (oneDNN) to use the following CPU instructions in performance-critical operations:  SSE4.1 SSE4.2 AVX AVX2 AVX512F FMA\n",
      "To enable them in other operations, rebuild TensorFlow with the appropriate compiler flags.\n"
     ]
    },
    {
     "name": "stdout",
     "output_type": "stream",
     "text": [
      "------------------------------------------------------------------------\n",
      "Training for fold 1 ...\n",
      "Score for fold 1: loss of 0.07319439947605133; accuracy of 98.97959232330322%\n",
      "------------------------------------------------------------------------\n",
      "Training for fold 2 ...\n",
      "Score for fold 2: loss of 0.1432565599679947; accuracy of 95.91836929321289%\n",
      "------------------------------------------------------------------------\n",
      "Training for fold 3 ...\n",
      "Score for fold 3: loss of 0.14522913098335266; accuracy of 96.4102566242218%\n",
      "------------------------------------------------------------------------\n",
      "Training for fold 4 ...\n",
      "Score for fold 4: loss of 0.08034253865480423; accuracy of 96.92307710647583%\n",
      "------------------------------------------------------------------------\n",
      "Training for fold 5 ...\n",
      "Score for fold 5: loss of 0.15996970236301422; accuracy of 96.4102566242218%\n"
     ]
    }
   ],
   "source": [
    "# Define the K-fold Cross Validator\n",
    "skfold = StratifiedKFold(n_splits=num_folds, shuffle=True)\n",
    "\n",
    "# K-fold Cross Validation model evaluation\n",
    "fold_no = 1\n",
    "for train, test in skfold.split(X, y):\n",
    "    mdl = Sequential()\n",
    "    mdl.add(Conv2D(8, (63, 5), activation=\"relu\", input_shape=(63, 251, 1)))\n",
    "    mdl.add(MaxPooling2D((1, 4)))\n",
    "    mdl.add(Flatten())\n",
    "    mdl.add(Dense(1,activation=\"sigmoid\"))\n",
    "    #mdl.compile(optimizer=\"adam\", loss=\"binary_crossentropy\", metrics=[\"accuracy\"])\n",
    "    #mdl.summary()\n",
    "\n",
    "    # Compile the model\n",
    "    mdl.compile(loss=loss_function,\n",
    "                    optimizer=optimizer,\n",
    "                    metrics=['accuracy'])\n",
    "\n",
    "\n",
    "      # Generate a print\n",
    "    print('------------------------------------------------------------------------')\n",
    "    print(f'Training for fold {fold_no} ...')\n",
    "\n",
    "    # Fit data to model\n",
    "    history = mdl.fit(X[train], y[train],\n",
    "                  epochs=no_epochs,\n",
    "                  verbose=verbosity)\n",
    "\n",
    "    # Generate generalization metrics\n",
    "    scores = mdl.evaluate(X[test], y[test], verbose=0)\n",
    "    print(f'Score for fold {fold_no}: {mdl.metrics_names[0]} of {scores[0]}; {mdl.metrics_names[1]} of {scores[1]*100}%')\n",
    "    acc_per_fold.append(scores[1] * 100)\n",
    "    loss_per_fold.append(scores[0])\n",
    "    \n",
    "#     # Confusion Matrix\n",
    "#     # Predict the labels for the test set\n",
    "#     y_pred = mdl.predict(X[test,])\n",
    "    \n",
    "#     # Convert the predicted labels to a binary form\n",
    "#     y_pred_binary = np.where(y_pred > 0.10, 1, 0)\n",
    "    \n",
    "    \n",
    "#     # ROC AND PRECISION RECALL VALUES\n",
    "#     fpr, tpr, thresholds = roc_curve(y[test], y_pred)\n",
    "#     roc_values.append((fpr, tpr,thresholds))\n",
    "    \n",
    "    \n",
    "#     precision, recall, thresholds_1 = precision_recall_curve(y[test], y_pred)\n",
    "#     precision_recall_values.append((precision, recall,thresholds_1)) \n",
    "    \n",
    "#     auc = roc_auc_score(y[test], y_pred)\n",
    "     \n",
    "#     #confusion matrix\n",
    "#     confusion_matrices.append(confusion_matrix(y[test], y_pred_binary))\n",
    "\n",
    "\n",
    "    # Increase fold number\n",
    "    fold_no = fold_no + 1"
   ]
  },
  {
   "cell_type": "code",
   "execution_count": 34,
   "id": "dab86a66-5edb-455d-9d8a-b090f2b24899",
   "metadata": {},
   "outputs": [
    {
     "name": "stdout",
     "output_type": "stream",
     "text": [
      "------------------------------------------------------------------------\n",
      "Score per fold\n",
      "------------------------------------------------------------------------\n",
      "> Fold 1 - Loss: 0.07319439947605133 - Accuracy: 98.97959232330322%\n",
      "------------------------------------------------------------------------\n",
      "> Fold 2 - Loss: 0.1432565599679947 - Accuracy: 95.91836929321289%\n",
      "------------------------------------------------------------------------\n",
      "> Fold 3 - Loss: 0.14522913098335266 - Accuracy: 96.4102566242218%\n",
      "------------------------------------------------------------------------\n",
      "> Fold 4 - Loss: 0.08034253865480423 - Accuracy: 96.92307710647583%\n",
      "------------------------------------------------------------------------\n",
      "> Fold 5 - Loss: 0.15996970236301422 - Accuracy: 96.4102566242218%\n",
      "------------------------------------------------------------------------\n",
      "Average scores for all folds:\n",
      "> Accuracy: 96.92831039428711 (+- 1.0737341742355178)\n",
      "> Loss: 0.12039846628904342\n",
      "------------------------------------------------------------------------\n"
     ]
    }
   ],
   "source": [
    "# == Provide average scores ==\n",
    "print('------------------------------------------------------------------------')\n",
    "print('Score per fold')\n",
    "for i in range(0, len(acc_per_fold)):\n",
    "    print('------------------------------------------------------------------------')\n",
    "    print(f'> Fold {i+1} - Loss: {loss_per_fold[i]} - Accuracy: {acc_per_fold[i]}%')\n",
    "print('------------------------------------------------------------------------')\n",
    "print('Average scores for all folds:')\n",
    "print(f'> Accuracy: {np.mean(acc_per_fold)} (+- {np.std(acc_per_fold)})')\n",
    "print(f'> Loss: {np.mean(loss_per_fold)}')\n",
    "print('------------------------------------------------------------------------')"
   ]
  },
  {
   "cell_type": "markdown",
   "id": "4a5e34d6-e0e6-4c0b-b850-03acd21baa34",
   "metadata": {},
   "source": [
    "### Retrain on only (n-k) dummy data"
   ]
  },
  {
   "cell_type": "code",
   "execution_count": 35,
   "id": "1c6c688e-7cb7-4c24-b86b-51dafb763d21",
   "metadata": {},
   "outputs": [],
   "source": [
    "# Define per-fold score containers <-- these are new\n",
    "acc_per_fold_new = []\n",
    "loss_per_fold_new = []"
   ]
  },
  {
   "cell_type": "code",
   "execution_count": 36,
   "id": "9bb2f6ba-3731-4a13-be44-fd795b51956d",
   "metadata": {},
   "outputs": [
    {
     "name": "stdout",
     "output_type": "stream",
     "text": [
      "------------------------------------------------------------------------\n",
      "Training for fold 1 ...\n",
      "Score for fold 1: loss of 0.00354472897015512; accuracy of 100.0%\n",
      "4/4 [==============================] - 0s 3ms/step\n",
      "------------------------------------------------------------------------\n",
      "Training for fold 2 ...\n",
      "Score for fold 2: loss of 0.0029707348439842463; accuracy of 100.0%\n",
      "4/4 [==============================] - 0s 3ms/step\n",
      "------------------------------------------------------------------------\n",
      "Training for fold 3 ...\n",
      "Score for fold 3: loss of 0.00034030480310320854; accuracy of 100.0%\n",
      "4/4 [==============================] - 0s 3ms/step\n",
      "------------------------------------------------------------------------\n",
      "Training for fold 4 ...\n",
      "Score for fold 4: loss of 2.353241688979324e-05; accuracy of 100.0%\n",
      "4/4 [==============================] - 0s 3ms/step\n",
      "------------------------------------------------------------------------\n",
      "Training for fold 5 ...\n",
      "Score for fold 5: loss of 8.115804121189285e-06; accuracy of 100.0%\n",
      "4/4 [==============================] - 0s 3ms/step\n"
     ]
    }
   ],
   "source": [
    "# Define the K-fold Cross Validator\n",
    "skfold = StratifiedKFold(n_splits=num_folds, shuffle=True)\n",
    "\n",
    "# K-fold Cross Validation model evaluation\n",
    "fold_no = 1\n",
    "for train, test in skfold.split(X_retrain, y_retrain):\n",
    "    # Compile the model\n",
    "    mdl.compile(loss=loss_function,\n",
    "                    optimizer=optimizer,\n",
    "                    metrics=['accuracy'])\n",
    "\n",
    "\n",
    "      # Generate a print\n",
    "    print('------------------------------------------------------------------------')\n",
    "    print(f'Training for fold {fold_no} ...')\n",
    "\n",
    "    # Fit data to model\n",
    "    history = mdl.fit(X_retrain[train], y_retrain[train],\n",
    "                  epochs=no_epochs,\n",
    "                  verbose=verbosity)\n",
    "\n",
    "    # Generate generalization metrics\n",
    "    scores = mdl.evaluate(X_retrain[test], y_retrain[test], verbose=0)\n",
    "    print(f'Score for fold {fold_no}: {mdl.metrics_names[0]} of {scores[0]}; {mdl.metrics_names[1]} of {scores[1]*100}%')\n",
    "    acc_per_fold_new.append(scores[1] * 100)\n",
    "    loss_per_fold_new.append(scores[0])\n",
    "    \n",
    "    # Confusion Matrix\n",
    "    # Predict the labels for the test set\n",
    "    y_pred = mdl.predict(X_retrain[test,])\n",
    "    \n",
    "    # Convert the predicted labels to a binary form\n",
    "    y_pred_binary = np.where(y_pred > 0.10, 1, 0)\n",
    "    \n",
    "    \n",
    "    # ROC AND PRECISION RECALL VALUES\n",
    "    fpr, tpr, thresholds = roc_curve(y_retrain[test], y_pred)\n",
    "    roc_values.append((fpr, tpr,thresholds))\n",
    "    \n",
    "    \n",
    "    precision, recall, thresholds_1 = precision_recall_curve(y_retrain[test], y_pred)\n",
    "    precision_recall_values.append((precision, recall,thresholds_1)) \n",
    "    \n",
    "    auc = roc_auc_score(y_retrain[test], y_pred)\n",
    "     \n",
    "    #confusion matrix\n",
    "    confusion_matrices.append(confusion_matrix(y_retrain[test], y_pred_binary))\n",
    "    \n",
    "    # Increase fold number\n",
    "    fold_no = fold_no + 1"
   ]
  },
  {
   "cell_type": "code",
   "execution_count": 37,
   "id": "2879e99f-0cc4-42c1-a433-2c52a810de61",
   "metadata": {},
   "outputs": [
    {
     "name": "stdout",
     "output_type": "stream",
     "text": [
      "------------------------------------------------------------------------\n",
      "Score per fold\n",
      "------------------------------------------------------------------------\n",
      "> Fold 1 - Loss: 0.00354472897015512 - Accuracy: 100.0%\n",
      "------------------------------------------------------------------------\n",
      "> Fold 2 - Loss: 0.0029707348439842463 - Accuracy: 100.0%\n",
      "------------------------------------------------------------------------\n",
      "> Fold 3 - Loss: 0.00034030480310320854 - Accuracy: 100.0%\n",
      "------------------------------------------------------------------------\n",
      "> Fold 4 - Loss: 2.353241688979324e-05 - Accuracy: 100.0%\n",
      "------------------------------------------------------------------------\n",
      "> Fold 5 - Loss: 8.115804121189285e-06 - Accuracy: 100.0%\n",
      "------------------------------------------------------------------------\n",
      "Average scores for all folds:\n",
      "> Accuracy: 100.0 (+- 0.0)\n",
      "> Loss: 0.0013774833676507114\n",
      "------------------------------------------------------------------------\n"
     ]
    }
   ],
   "source": [
    "# == Provide average scores ==\n",
    "print('------------------------------------------------------------------------')\n",
    "print('Score per fold')\n",
    "for i in range(0, len(acc_per_fold_new)):\n",
    "    print('------------------------------------------------------------------------')\n",
    "    print(f'> Fold {i+1} - Loss: {loss_per_fold_new[i]} - Accuracy: {acc_per_fold_new[i]}%')\n",
    "print('------------------------------------------------------------------------')\n",
    "print('Average scores for all folds:')\n",
    "print(f'> Accuracy: {np.mean(acc_per_fold_new)} (+- {np.std(acc_per_fold_new)})')\n",
    "print(f'> Loss: {np.mean(loss_per_fold_new)}')\n",
    "print('------------------------------------------------------------------------')"
   ]
  },
  {
   "cell_type": "code",
   "execution_count": 38,
   "id": "39fe4669-c885-4a66-8e8e-545d156c9373",
   "metadata": {},
   "outputs": [
    {
     "data": {
      "image/png": "[encoded data removed]",
      "text/plain": [
       "<Figure size 640x480 with 2 Axes>"
      ]
     },
     "metadata": {},
     "output_type": "display_data"
    },
    {
     "data": {
      "image/png": "[encoded data removed]",
      "text/plain": [
       "<Figure size 640x480 with 2 Axes>"
      ]
     },
     "metadata": {},
     "output_type": "display_data"
    },
    {
     "data": {
      "image/png": "[encoded data removed]",
      "text/plain": [
       "<Figure size 640x480 with 2 Axes>"
      ]
     },
     "metadata": {},
     "output_type": "display_data"
    },
    {
     "data": {
      "image/png": "[encoded data removed]",
      "text/plain": [
       "<Figure size 640x480 with 2 Axes>"
      ]
     },
     "metadata": {},
     "output_type": "display_data"
    },
    {
     "data": {
      "image/png": "[encoded data removed]",
      "text/plain": [
       "<Figure size 640x480 with 2 Axes>"
      ]
     },
     "metadata": {},
     "output_type": "display_data"
    }
   ],
   "source": [
    "# Plot the confusion matrix values for each fold on the same graph\n",
    "for cm in confusion_matrices:\n",
    "    ax= pyplot.subplot()\n",
    "    sns.heatmap(cm, annot=True, fmt='g', ax=ax);  #annot=True to annotate cells, ftm='g' to disable scientific notation\n",
    "    # labels, title and ticks\n",
    "    ax.set_xlabel('Predicted labels');ax.set_ylabel('True labels');\n",
    "    ax.set_title('Confusion Matrix');\n",
    "    ax.xaxis.set_ticklabels(['0', '1'])\n",
    "    ax.yaxis.set_ticklabels(['0', '1'])\n",
    "    pyplot.show() \n",
    "\n",
    "# Show the plot\n",
    "plt.show()"
   ]
  },
  {
   "cell_type": "code",
   "execution_count": 39,
   "id": "86ab8376-3727-465d-972f-4b14511ce6c7",
   "metadata": {},
   "outputs": [],
   "source": [
    "pyplot.rcParams.update({'font.size': 8})"
   ]
  },
  {
   "cell_type": "code",
   "execution_count": 40,
   "id": "0b118479-e2ea-4a46-8181-68f674d436fb",
   "metadata": {},
   "outputs": [
    {
     "data": {
      "image/png": "[encoded data removed]",
      "text/plain": [
       "<Figure size 500x500 with 1 Axes>"
      ]
     },
     "metadata": {},
     "output_type": "display_data"
    }
   ],
   "source": [
    "tprs = []\n",
    "base_fpr = np.linspace(0, 1, 101)\n",
    "pyplot.figure(figsize=(5, 5))\n",
    "pyplot.axes().set_aspect('equal', 'datalim')"
   ]
  },
  {
   "cell_type": "code",
   "execution_count": 41,
   "id": "6b60b41a-34b5-4943-bdd1-1cf4f0e917fa",
   "metadata": {},
   "outputs": [
    {
     "name": "stdout",
     "output_type": "stream",
     "text": [
      "For fold 1 optimal Threshold=0.922078, G-Mean=1.000\n",
      "For fold 2 optimal Threshold=0.782937, G-Mean=1.000\n",
      "For fold 3 optimal Threshold=0.996891, G-Mean=1.000\n",
      "For fold 4 optimal Threshold=0.999515, G-Mean=1.000\n",
      "For fold 5 optimal Threshold=0.999293, G-Mean=1.000\n",
      "mean Threshold=1.000000, G-Mean=0.995\n"
     ]
    },
    {
     "data": {
      "image/png": "[encoded data removed]",
      "text/plain": [
       "<Figure size 640x480 with 1 Axes>"
      ]
     },
     "metadata": {},
     "output_type": "display_data"
    }
   ],
   "source": [
    "# Plot the ROC and precision-recall values for each fold on the same graph\n",
    "tprs = []\n",
    "i = 1\n",
    "j = 1\n",
    "    \n",
    "# ROC CURVE\n",
    "for fpr, tpr,thresholds in roc_values:\n",
    "    \n",
    "    gmeans = sqrt(tpr * (1-fpr))\n",
    "    # locate the index of the largest g-mean\n",
    "    ix = argmax(gmeans)\n",
    "    print('For fold '  +str(i), 'optimal Threshold=%f, G-Mean=%.3f' % (thresholds[ix], gmeans[ix]))\n",
    "    \n",
    "    # plot the roc curve for the model\n",
    "    pyplot.plot(fpr, tpr,'b', alpha=0.15, marker='.', label='ROC for Fold' +str(i))\n",
    "    \n",
    "    tpr_new = np.interp(base_fpr, fpr, tpr)\n",
    "    tpr_new[0] = 0.0\n",
    "    tprs.append(tpr_new)\n",
    "    \n",
    "   \n",
    "    if i == num_folds:\n",
    "        pyplot.scatter(fpr[ix], tpr[ix],s=20,alpha=0.5, marker='o', color='black', label='G-mean')\n",
    "        pyplot.legend()\n",
    "    else:\n",
    "        pyplot.scatter(fpr[ix], tpr[ix],s=20,alpha=0.5, marker='o', color='black')  \n",
    "        pyplot.legend()\n",
    "        \n",
    "    i = i + 1\n",
    "     \n",
    "tprs = np.array(tprs)\n",
    "mean_tprs = tprs.mean(axis=0)\n",
    "std = tprs.std(axis=0)\n",
    "\n",
    "tprs_upper = np.minimum(mean_tprs + std, 1)\n",
    "tprs_lower = mean_tprs - std\n",
    "\n",
    "\n",
    "gmeans_new = sqrt(mean_tprs * (1-base_fpr))\n",
    "# locate the index of the largest g-mean\n",
    "iy = argmax(gmeans_new)\n",
    "print('mean Threshold=%f, G-Mean=%.3f' % (thresholds[iy], gmeans_new[iy]))\n",
    "\n",
    "pyplot.plot(base_fpr, mean_tprs, 'g',linewidth=3.0, label='Mean ROC')\n",
    "pyplot.scatter(base_fpr[ix], mean_tprs[ix],s=100,alpha=0.5, marker=\"*\", color='Red', label='Avg G-mean')\n",
    "pyplot.fill_between(base_fpr, tprs_lower, tprs_upper, color='grey', alpha=0.2)\n",
    "\n",
    "pyplot.plot([0, 1], [0, 1],'r--')\n",
    "pyplot.xlim([-0.01, 1.01])\n",
    "pyplot.ylim([-0.01, 1.01])\n",
    "pyplot.ylabel('True Positive Rate')\n",
    "pyplot.xlabel('False Positive Rate')\n",
    "pyplot.legend()\n",
    "pyplot.show()\n",
    "\n"
   ]
  },
  {
   "cell_type": "code",
   "execution_count": 42,
   "id": "cdf79e7c-9d77-43e3-abc0-06b7423ee372",
   "metadata": {},
   "outputs": [],
   "source": [
    "prc = []\n",
    "base_recall = np.linspace(0, 1, 101)"
   ]
  },
  {
   "cell_type": "code",
   "execution_count": 43,
   "id": "62c02350-5f01-43f0-8f7d-0109399c9469",
   "metadata": {},
   "outputs": [
    {
     "name": "stdout",
     "output_type": "stream",
     "text": [
      "For fold 1 Best Threshold=0.922078, F-Score=1.000\n",
      "For fold 2 Best Threshold=0.782937, F-Score=1.000\n",
      "For fold 3 Best Threshold=0.996891, F-Score=1.000\n",
      "For fold 4 Best Threshold=0.999515, F-Score=1.000\n",
      "For fold 5 Best Threshold=0.999293, F-Score=1.000\n"
     ]
    },
    {
     "data": {
      "image/png": "[encoded data removed]",
      "text/plain": [
       "<Figure size 640x480 with 1 Axes>"
      ]
     },
     "metadata": {},
     "output_type": "display_data"
    }
   ],
   "source": [
    "ix = 0 \n",
    "j = 1\n",
    "# PRECISION RECALL CURVE\n",
    "for precision, recall, thresholds_1 in precision_recall_values:\n",
    "    \n",
    "     # convert to f score\n",
    "    fscore = (2 * precision * recall) / (precision + recall)\n",
    "    # locate the index of the largest f score\n",
    "    ix = argmax(fscore)\n",
    "    print('For fold '  +str(j),'Best Threshold=%f, F-Score=%.3f' % (thresholds_1[ix], fscore[ix]))\n",
    "\n",
    "    pyplot.plot(recall, precision, marker='.', label='Fold' + str(j))\n",
    "    \n",
    "    \n",
    "    pyplot.scatter(recall[ix], precision[ix],s=20, marker='o', color='black', label='Best')\n",
    "    # axis labels\n",
    "    pyplot.xlabel('Recall')\n",
    "    pyplot.ylabel('Precision')\n",
    "    pyplot.legend()\n",
    "    \n",
    "    j = j + 1\n",
    "\n",
    "\n",
    "# Show the plot\n",
    "pyplot.show()"
   ]
  },
  {
   "cell_type": "raw",
   "id": "5821f930-b241-42e1-a4b4-c4cbbe921d59",
   "metadata": {},
   "source": [
    "import matplotlib.pyplot as plt\n",
    "\n",
    " \n",
    "\n",
    "# list of precision-recall curves\n",
    "#precision_recall_curves = [[(0.1, 0.5), (0.2, 0.6), (0.3, 0.7)], [(0.2, 0.4), (0.3, 0.5), (0.4, 0.6)], [(0.3, 0.3), (0.4, 0.4), (0.5, 0.5)]]\n",
    "\n",
    " \n",
    "\n",
    "# calculate the mean precision and recall values\n",
    "mean_precision = np.mean([curve[i][0] for curve in precision_recall_values for i in range(len(curve))])\n",
    "mean_recall = np.mean([curve[i][1] for curve in precision_recall_values for i in range(len(curve))])\n",
    "\n",
    " \n",
    "\n",
    "# plot the average precision-recall curve\n",
    "plt.plot(mean_recall, mean_precision)\n",
    "plt.xlabel('Recall')\n",
    "plt.ylabel('Precision')\n",
    "plt.title('Average Precision-Recall Curve')\n",
    "plt.show()"
   ]
  },
  {
   "cell_type": "code",
   "execution_count": 53,
   "id": "8d127041-41be-493b-b94e-cc749b9752ef",
   "metadata": {},
   "outputs": [
    {
     "name": "stdout",
     "output_type": "stream",
     "text": [
      "1/1 [==============================] - 0s 20ms/step\n"
     ]
    },
    {
     "data": {
      "text/html": [
       "<div>\n",
       "<style scoped>\n",
       "    .dataframe tbody tr th:only-of-type {\n",
       "        vertical-align: middle;\n",
       "    }\n",
       "\n",
       "    .dataframe tbody tr th {\n",
       "        vertical-align: top;\n",
       "    }\n",
       "\n",
       "    .dataframe thead th {\n",
       "        text-align: right;\n",
       "    }\n",
       "</style>\n",
       "<table border=\"1\" class=\"dataframe\">\n",
       "  <thead>\n",
       "    <tr style=\"text-align: right;\">\n",
       "      <th>col_0</th>\n",
       "      <th>True</th>\n",
       "    </tr>\n",
       "    <tr>\n",
       "      <th>event</th>\n",
       "      <th></th>\n",
       "    </tr>\n",
       "  </thead>\n",
       "  <tbody>\n",
       "    <tr>\n",
       "      <th>Dummy</th>\n",
       "      <td>29</td>\n",
       "    </tr>\n",
       "  </tbody>\n",
       "</table>\n",
       "</div>"
      ],
      "text/plain": [
       "col_0  True\n",
       "event      \n",
       "Dummy    29"
      ]
     },
     "execution_count": 53,
     "metadata": {},
     "output_type": "execute_result"
    }
   ],
   "source": [
    "ypred = mdl.predict(X_tst).ravel()\n",
    "threshold = 0.22\n",
    "pd.crosstab(test_part_df['event'], ypred >= threshold)"
   ]
  },
  {
   "cell_type": "code",
   "execution_count": null,
   "id": "d44f9fac-2b68-4b35-a71c-35d104af5c6b",
   "metadata": {},
   "outputs": [],
   "source": []
  }
 ],
 "metadata": {
  "kernelspec": {
   "display_name": "Python 3.10 / pyspotseven",
   "language": "python",
   "name": "py310-pyspotseven"
  },
  "language_info": {
   "codemirror_mode": {
    "name": "ipython",
    "version": 3
   },
   "file_extension": ".py",
   "mimetype": "text/x-python",
   "name": "python",
   "nbconvert_exporter": "python",
   "pygments_lexer": "ipython3",
   "version": "3.10.8"
  }
 },
 "nbformat": 4,
 "nbformat_minor": 5
}
