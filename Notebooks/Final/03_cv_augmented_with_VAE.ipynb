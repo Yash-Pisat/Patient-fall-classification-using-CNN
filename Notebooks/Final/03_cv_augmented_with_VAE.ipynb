{
 "cells": [
  {
   "cell_type": "code",
   "execution_count": 30,
   "id": "e32f04af-6c9e-4d95-9bd2-fad122995765",
   "metadata": {},
   "outputs": [],
   "source": [
    "from lib import Augmentation_methods\n",
    "from lib import data_preparation\n",
    "from lib import vae_augmentation\n",
    "\n",
    "import matplotlib.pyplot as plt\n",
    "from scipy.signal import stft\n",
    "import numpy as np\n",
    "import pandas as pd\n",
    "from pathlib import Path\n",
    "\n",
    "from sklearn.model_selection import train_test_split\n",
    "\n",
    "import tensorflow as tf\n",
    "from tensorflow import keras\n",
    "from tensorflow.keras.models import Sequential\n",
    "from tensorflow.keras.layers import Dense, Conv2D, MaxPooling2D, Flatten\n",
    "from tensorflow.keras.regularizers import l2\n",
    "from IPython.display import clear_output\n",
    "\n",
    "import tensorflow as tf\n",
    "from tensorflow import keras\n",
    "from tensorflow.keras import layers\n",
    "import pandas as pd\n",
    "from tensorflow.keras.models import Model\n",
    "from tensorflow.keras import backend as K\n",
    "from tensorflow.keras.optimizers import Adam, SGD\n",
    "import numpy as np\n",
    "import matplotlib.pyplot as plt\n",
    "from pathlib import Path\n",
    "from scipy.signal import stft\n",
    "from sklearn.model_selection import train_test_split\n",
    "from tensorflow.keras.models import Sequential\n",
    "from tensorflow.keras.layers import MaxPooling2D ,Conv2D, Conv2DTranspose, Input, Flatten, Dense, Lambda, Reshape\n",
    "import warnings\n",
    "from IPython.display import clear_output\n",
    "warnings.filterwarnings('ignore')"
   ]
  },
  {
   "cell_type": "code",
   "execution_count": 2,
   "id": "c79b34c2-25ea-4b3c-a450-6457c69bc0c4",
   "metadata": {},
   "outputs": [],
   "source": [
    "from sklearn.metrics import roc_curve\n",
    "from sklearn.metrics import roc_auc_score\n",
    "from sklearn.metrics import precision_recall_curve, classification_report\n",
    "from sklearn.metrics import f1_score\n",
    "from sklearn.metrics import auc\n",
    "from matplotlib import pyplot\n",
    "from numpy import sqrt\n",
    "from numpy import argmax\n",
    "from sklearn.metrics import confusion_matrix\n",
    "import seaborn as sns"
   ]
  },
  {
   "cell_type": "code",
   "execution_count": 3,
   "id": "aa1eaf3f-da9e-4e6c-9f0c-194f8c01ad98",
   "metadata": {},
   "outputs": [],
   "source": [
    "BASEDIR = Path(\"/store/projects/fallki/\")\n",
    "FAKEDIR = BASEDIR / \"Fake-Events\" / \"2. Fake-Events Messung\"\n",
    "\n",
    "# BASEDIR = pathlib.Path('/store/projects/fallki/')\n",
    "# FAKEDIR = pathlib.Path('Fake-Events/2. Fake-Events Messung/')\n",
    "df_fake = pd.read_parquet(BASEDIR / FAKEDIR / 'gSensoren_FakeEvents.parquet')"
   ]
  },
  {
   "cell_type": "code",
   "execution_count": 4,
   "id": "f9261159-1867-429f-9c6f-aee2e63610f6",
   "metadata": {},
   "outputs": [],
   "source": [
    "def SignalToSpectrum(signal, samplerate=1600):\n",
    "    SIGNAL_LENGTH = samplerate * 10\n",
    "    F = stft(signal[:SIGNAL_LENGTH], 1600, nperseg=128)[2]\n",
    "    F = F[2:,]\n",
    "    return np.expand_dims(np.abs(F), axis=2) # Add extra dimension for TF Conv2D"
   ]
  },
  {
   "cell_type": "code",
   "execution_count": 5,
   "id": "e5cf7f27-bf2c-4955-b496-5735b9d1c0e4",
   "metadata": {},
   "outputs": [
    {
     "name": "stderr",
     "output_type": "stream",
     "text": [
      "/home/ing2146/Final/SNEHA/lib/data_preparation.py:202: VisibleDeprecationWarning: Creating an ndarray from ragged nested sequences (which is a list-or-tuple of lists-or-tuples-or ndarrays with different lengths or shapes) is deprecated. If you meant to do this, you must specify 'dtype=object' when creating the ndarray.\n",
      "  All_Events_Data = np.array(All_Events_Data)[shuffler]\n",
      "/home/ing2146/Final/SNEHA/lib/data_preparation.py:226: VisibleDeprecationWarning: Creating an ndarray from ragged nested sequences (which is a list-or-tuple of lists-or-tuples-or ndarrays with different lengths or shapes) is deprecated. If you meant to do this, you must specify 'dtype=object' when creating the ndarray.\n",
      "  df_fake_dummy_Data = np.array(df_fake_dummy_Data)\n"
     ]
    }
   ],
   "source": [
    "#To obtain the dummy data\n",
    "dummy_lab_data = data_preparation.fake_lab_data()\n",
    "dummy_data = dummy_lab_data[0]\n",
    "dummy_dataframe =pd.DataFrame(dummy_data,columns=['z'])"
   ]
  },
  {
   "cell_type": "code",
   "execution_count": 7,
   "id": "68653636-b9fd-4ecc-882c-7f512a9830bb",
   "metadata": {},
   "outputs": [],
   "source": [
    "index_list = []\n",
    "for index,row in dummy_dataframe.iterrows():\n",
    "    if row[\"z\"][0] < 0:\n",
    "        index_list.append(index)\n",
    "\n",
    "dummy_data_df = dummy_dataframe.drop(index_list)"
   ]
  },
  {
   "cell_type": "code",
   "execution_count": 15,
   "id": "c19ff6ed-3c79-413a-9f65-672e801f219e",
   "metadata": {},
   "outputs": [],
   "source": [
    "dummy_data_df.reset_index(drop=True, inplace=True)"
   ]
  },
  {
   "cell_type": "markdown",
   "id": "13012dc7-2a54-406e-9f2d-682c9d172aac",
   "metadata": {},
   "source": [
    "#### Traditional Augmentation of dummy events"
   ]
  },
  {
   "cell_type": "code",
   "execution_count": 8,
   "id": "41754eb4-fd24-46ed-944f-34b33dd92988",
   "metadata": {},
   "outputs": [
    {
     "name": "stderr",
     "output_type": "stream",
     "text": [
      "/tmp/ipykernel_1477247/2480421356.py:51: VisibleDeprecationWarning: Creating an ndarray from ragged nested sequences (which is a list-or-tuple of lists-or-tuples-or ndarrays with different lengths or shapes) is deprecated. If you meant to do this, you must specify 'dtype=object' when creating the ndarray.\n",
      "  augmented_dummy_array = np.array(augmented_dummy)\n"
     ]
    }
   ],
   "source": [
    "augmented_dummy = []\n",
    "\n",
    "for i, event in enumerate(dummy_data_df.to_numpy().ravel()): \n",
    "    \n",
    "    #Jittering\n",
    "    Noise_dummy = Augmentation_methods.add_white_noise(event, 0.15) \n",
    "    augmented_dummy.append(Noise_dummy)\n",
    "    \n",
    "    #Jittering\n",
    "    Noise_dummy1 = Augmentation_methods.add_white_noise(event, 0.12) \n",
    "    augmented_dummy.append(Noise_dummy1)\n",
    "    \n",
    "    #Jittering\n",
    "    Noise_dummy2 = Augmentation_methods.add_white_noise(event, 0.08) \n",
    "    augmented_dummy.append(Noise_dummy2)\n",
    "    \n",
    "    #Jittering\n",
    "    Noise_dummy2 = Augmentation_methods.add_white_noise(event, 0.05) \n",
    "    augmented_dummy.append(Noise_dummy2)\n",
    "    \n",
    "    #Magnitude Warping\n",
    "    magnitude_warped_dummy =  Augmentation_methods.magnitudewarping(event,0.1, 20) \n",
    "    augmented_dummy.append(magnitude_warped_dummy[1])\n",
    "    \n",
    "    #Magnitude Warping\n",
    "    magnitude_warped_dummy1 =  Augmentation_methods.magnitudewarping(event,0.1, 15) \n",
    "    augmented_dummy.append(magnitude_warped_dummy1[1])\n",
    "    \n",
    "    #Magnitude Warping\n",
    "    magnitude_warped_dummy2 =  Augmentation_methods.magnitudewarping(event,0.1, 10) \n",
    "    augmented_dummy.append(magnitude_warped_dummy2[1])\n",
    "    \n",
    "    #Window Warping\n",
    "    window_warped_dummy = Augmentation_methods.windowWarp(event, window_ratio=0.1, scales=[0.5, 2.]) \n",
    "    augmented_dummy.append(window_warped_dummy)\n",
    "    \n",
    "    #Jittering + Magnitude warping\n",
    "    curve_JMW, jittered_magnitude_warped_dummy  =  Augmentation_methods.magnitudewarping((Augmentation_methods.add_white_noise(event, 0.50)),0.1, 10)\n",
    "    augmented_dummy.append(jittered_magnitude_warped_dummy)\n",
    "    \n",
    "    #Jittering + window warping\n",
    "    Jittered_window_warped_dummy = Augmentation_methods.windowWarp((Augmentation_methods.add_white_noise(event, 0.50)), window_ratio=0.1, scales=[0.5, 2.])\n",
    "    augmented_dummy.append(Jittered_window_warped_dummy)\n",
    "    \n",
    "    #magnitude warping + window warping\n",
    "    mag_warped  =  Augmentation_methods.magnitudewarping(event,0.1, 10)\n",
    "    mag_window_warped_dummy = Augmentation_methods.windowWarp(mag_warped[1] , window_ratio=0.1, scales=[0.5, 2.])\n",
    "    augmented_dummy.append(mag_window_warped_dummy)\n",
    "          \n",
    "    \n",
    "augmented_dummy_array = np.array(augmented_dummy)    "
   ]
  },
  {
   "cell_type": "code",
   "execution_count": 9,
   "id": "5b7c66c8-a6f9-4939-b2e3-9614f37c5935",
   "metadata": {},
   "outputs": [],
   "source": [
    "augmented_dummy_array_df =pd.DataFrame(augmented_dummy_array,columns=['z'])"
   ]
  },
  {
   "cell_type": "markdown",
   "id": "be946c84-996a-4a69-94b3-4bae611a9404",
   "metadata": {},
   "source": [
    "## Data Preparation"
   ]
  },
  {
   "cell_type": "markdown",
   "id": "3ceea799-cd6b-4b01-9e8b-f2d63804bc48",
   "metadata": {},
   "source": [
    "### Augmented data "
   ]
  },
  {
   "cell_type": "code",
   "execution_count": 10,
   "id": "389c46d4-e526-4e68-931f-f67df2f7d51e",
   "metadata": {},
   "outputs": [],
   "source": [
    "M = []\n",
    "for i in range(len(augmented_dummy_array_df)):\n",
    "    M.append({\"event\": \"Dummy\" ,\n",
    "              \"istSturz\": 1,\n",
    "              \"signalLenght\": len(augmented_dummy_array_df.z[i]),\n",
    "              \"spectrum\": SignalToSpectrum(augmented_dummy_array_df.z[i])})\n",
    "augmented_df = pd.DataFrame.from_dict(M)"
   ]
  },
  {
   "cell_type": "code",
   "execution_count": 11,
   "id": "b9cf6857-80fc-4e87-86f4-36fc4d54cad6",
   "metadata": {},
   "outputs": [],
   "source": [
    "# normalize the spectrum to facilitate training \n",
    "augmented_df[\"normalizedSpectrum\"] = augmented_df[\"spectrum\"] / augmented_df[\"spectrum\"].map(np.max).max()\n",
    "\n",
    "# shuffle the final dataframe\n",
    "augmented_df = augmented_df.sample(frac=1).reset_index(drop=True)"
   ]
  },
  {
   "cell_type": "markdown",
   "id": "d8b7c717-c0e4-44ce-bd99-3d2b67d048ee",
   "metadata": {},
   "source": [
    "### Dummy events(k) for test"
   ]
  },
  {
   "cell_type": "code",
   "execution_count": 17,
   "id": "3b0df5d9-23f1-4026-acb4-11d518341462",
   "metadata": {},
   "outputs": [],
   "source": [
    "R = []\n",
    "for i in range(len(dummy_data_df)):\n",
    "    R.append({\"event\": \"Dummy\" ,\n",
    "              \"istSturz\": 1,\n",
    "              \"signalLenght\": len(dummy_data_df.z[i]),\n",
    "              \"spectrum\": SignalToSpectrum(dummy_data_df.z[i])})\n",
    "test_part_df = pd.DataFrame.from_dict(R)"
   ]
  },
  {
   "cell_type": "code",
   "execution_count": 18,
   "id": "5618d878-d434-4450-82a6-fdfd70c55a43",
   "metadata": {},
   "outputs": [],
   "source": [
    "# normalize the spectrum to facilitate training\n",
    "test_part_df[\"normalizedSpectrum\"] = test_part_df[\"spectrum\"] / test_part_df[\"spectrum\"].map(np.max).max()"
   ]
  },
  {
   "cell_type": "markdown",
   "id": "d32113bd-d05d-43a4-9152-1e20798b8871",
   "metadata": {},
   "source": [
    "### VAE augmentation of dummy events"
   ]
  },
  {
   "cell_type": "code",
   "execution_count": 22,
   "id": "575a4a04-2cfd-4f41-94ab-64484c6c2fc3",
   "metadata": {},
   "outputs": [],
   "source": [
    "normalization_factor = test_part_df[\"spectrum\"].map(np.max).max()"
   ]
  },
  {
   "cell_type": "code",
   "execution_count": 24,
   "id": "aae18994-fb09-4804-8b98-d64b45db430d",
   "metadata": {},
   "outputs": [],
   "source": [
    "X_train_vae = np.stack(test_part_df[\"normalizedSpectrum\"])\n",
    "y_train_vae = test_part_df[\"istSturz\"]"
   ]
  },
  {
   "cell_type": "code",
   "execution_count": 25,
   "id": "8724e465-b01d-4094-9aa8-f097c1e2ae85",
   "metadata": {},
   "outputs": [],
   "source": [
    "def sample_z(args):\n",
    "        z_mean, z_log_var = args\n",
    "        eps = K.random_normal(shape=(K.shape(z_mean)[0], K.int_shape(z_mean)[1]))\n",
    "        return z_mean + K.exp(z_log_var / 2) * eps"
   ]
  },
  {
   "cell_type": "code",
   "execution_count": 28,
   "id": "5bf22c9d-3491-410d-ab21-9626182288ca",
   "metadata": {},
   "outputs": [
    {
     "name": "stderr",
     "output_type": "stream",
     "text": [
      "2023-01-09 22:20:50.209997: I tensorflow/core/platform/cpu_feature_guard.cc:193] This TensorFlow binary is optimized with oneAPI Deep Neural Network Library (oneDNN) to use the following CPU instructions in performance-critical operations:  SSE4.1 SSE4.2 AVX AVX2 AVX512F FMA\n",
      "To enable them in other operations, rebuild TensorFlow with the appropriate compiler flags.\n"
     ]
    }
   ],
   "source": [
    "latent_dim = 2 # Number of latent dim parameters\n",
    "\n",
    "# Encoder \n",
    "input_data = Input(shape=(63,251,1), name='encoder_input')\n",
    "x = layers.Conv2D(32,3, padding='same', activation='relu')(input_data)\n",
    "x = layers.Conv2D(64,3, padding='same', activation='relu')(x)\n",
    "conv_shape = K.int_shape(x) #Shape of conv to be provided to decoder\n",
    "x = layers.Flatten()(x)\n",
    "x = layers.Dense(16, activation='relu')(x)\n",
    "z_mean = layers.Dense(latent_dim, name='latent_mu')(x)   #Mean values of encoded input\n",
    "z_log_var = layers.Dense(latent_dim, name='latent_sigma')(x) \n",
    "z = Lambda(sample_z, output_shape=(latent_dim, ), name='z')([z_mean, z_log_var])\n",
    "encoder = Model(input_data, [z_mean, z_log_var, z], name='encoder')\n",
    "\n",
    "# Decoder\n",
    "decoder_input = Input(shape=(latent_dim, ), name='decoder_input')\n",
    "x = Dense(conv_shape[1]*conv_shape[2]*conv_shape[3], activation='relu')(decoder_input)\n",
    "x = Reshape((conv_shape[1], conv_shape[2],conv_shape[3]))(x)\n",
    "x = Conv2DTranspose(64,3, padding='same', activation='relu')(x)\n",
    "x = Conv2DTranspose(32,3, padding='same', activation='sigmoid')(x)\n",
    "decoder_output = Conv2DTranspose(1, 3, activation=\"sigmoid\", padding=\"same\", name='decoder_output')(x)\n",
    "decoder = Model(decoder_input, decoder_output, name='decoder')"
   ]
  },
  {
   "cell_type": "code",
   "execution_count": 31,
   "id": "89a750e4-63ea-4eae-b8a6-780fe6842b4e",
   "metadata": {},
   "outputs": [
    {
     "name": "stdout",
     "output_type": "stream",
     "text": [
      "Epoch 1/30\n",
      "8/8 [==============================] - 4s 386ms/step - loss: 4749.8401 - reconstruction_loss: 3330.3174 - kl_loss: 620.6042\n",
      "Epoch 2/30\n",
      "8/8 [==============================] - 3s 364ms/step - loss: 1308.0953 - reconstruction_loss: 1007.1058 - kl_loss: 1.0240\n",
      "Epoch 3/30\n",
      "8/8 [==============================] - 3s 388ms/step - loss: 347.8904 - reconstruction_loss: 295.5051 - kl_loss: 0.0730\n",
      "Epoch 4/30\n",
      "8/8 [==============================] - 3s 376ms/step - loss: 212.1020 - reconstruction_loss: 202.6568 - kl_loss: 0.0848\n",
      "Epoch 5/30\n",
      "8/8 [==============================] - 3s 389ms/step - loss: 206.3524 - reconstruction_loss: 205.9400 - kl_loss: 0.1043\n",
      "Epoch 6/30\n",
      "8/8 [==============================] - 3s 369ms/step - loss: 194.1655 - reconstruction_loss: 197.4539 - kl_loss: 0.0964\n",
      "Epoch 7/30\n",
      "8/8 [==============================] - 3s 366ms/step - loss: 194.7183 - reconstruction_loss: 198.4433 - kl_loss: 0.0846\n",
      "Epoch 8/30\n",
      "8/8 [==============================] - 3s 377ms/step - loss: 201.2555 - reconstruction_loss: 193.8360 - kl_loss: 0.0665\n",
      "Epoch 9/30\n",
      "8/8 [==============================] - 3s 381ms/step - loss: 193.9058 - reconstruction_loss: 192.1159 - kl_loss: 0.0580\n",
      "Epoch 10/30\n",
      "8/8 [==============================] - 3s 376ms/step - loss: 184.4079 - reconstruction_loss: 192.0043 - kl_loss: 0.0566\n",
      "Epoch 11/30\n",
      "8/8 [==============================] - 3s 375ms/step - loss: 193.9393 - reconstruction_loss: 187.8188 - kl_loss: 0.0521\n",
      "Epoch 12/30\n",
      "8/8 [==============================] - 3s 382ms/step - loss: 187.6160 - reconstruction_loss: 188.5776 - kl_loss: 0.0508\n",
      "Epoch 13/30\n",
      "8/8 [==============================] - 3s 383ms/step - loss: 185.3893 - reconstruction_loss: 189.7716 - kl_loss: 0.0488\n",
      "Epoch 14/30\n",
      "8/8 [==============================] - 3s 382ms/step - loss: 188.1601 - reconstruction_loss: 190.7018 - kl_loss: 0.0496\n",
      "Epoch 15/30\n",
      "8/8 [==============================] - 3s 378ms/step - loss: 190.6764 - reconstruction_loss: 185.3279 - kl_loss: 0.0445\n",
      "Epoch 16/30\n",
      "8/8 [==============================] - 3s 380ms/step - loss: 191.7978 - reconstruction_loss: 184.4109 - kl_loss: 0.0430\n",
      "Epoch 17/30\n",
      "8/8 [==============================] - 3s 376ms/step - loss: 191.9814 - reconstruction_loss: 184.3885 - kl_loss: 0.0413\n",
      "Epoch 18/30\n",
      "8/8 [==============================] - 3s 376ms/step - loss: 186.5362 - reconstruction_loss: 185.7755 - kl_loss: 0.0412\n",
      "Epoch 19/30\n",
      "8/8 [==============================] - 3s 377ms/step - loss: 185.4040 - reconstruction_loss: 184.3933 - kl_loss: 0.0407\n",
      "Epoch 20/30\n",
      "8/8 [==============================] - 3s 370ms/step - loss: 189.9162 - reconstruction_loss: 184.3256 - kl_loss: 0.0404\n",
      "Epoch 21/30\n",
      "8/8 [==============================] - 3s 362ms/step - loss: 190.1164 - reconstruction_loss: 185.7298 - kl_loss: 0.0399\n",
      "Epoch 22/30\n",
      "8/8 [==============================] - 3s 381ms/step - loss: 185.9537 - reconstruction_loss: 182.2115 - kl_loss: 0.0385\n",
      "Epoch 23/30\n",
      "8/8 [==============================] - 3s 381ms/step - loss: 183.4151 - reconstruction_loss: 187.0623 - kl_loss: 0.0403\n",
      "Epoch 24/30\n",
      "8/8 [==============================] - 3s 379ms/step - loss: 180.4942 - reconstruction_loss: 183.6445 - kl_loss: 0.0389\n",
      "Epoch 25/30\n",
      "8/8 [==============================] - 3s 378ms/step - loss: 181.3662 - reconstruction_loss: 184.6208 - kl_loss: 0.0382\n",
      "Epoch 26/30\n",
      "8/8 [==============================] - 3s 376ms/step - loss: 182.5970 - reconstruction_loss: 185.9170 - kl_loss: 0.0384\n",
      "Epoch 27/30\n",
      "8/8 [==============================] - 3s 380ms/step - loss: 181.6624 - reconstruction_loss: 181.9366 - kl_loss: 0.0363\n",
      "Epoch 28/30\n",
      "8/8 [==============================] - 3s 374ms/step - loss: 186.5149 - reconstruction_loss: 186.8239 - kl_loss: 0.0394\n",
      "Epoch 29/30\n",
      "8/8 [==============================] - 3s 383ms/step - loss: 186.6094 - reconstruction_loss: 181.7151 - kl_loss: 0.0348\n",
      "Epoch 30/30\n",
      "8/8 [==============================] - 3s 375ms/step - loss: 180.2181 - reconstruction_loss: 183.6069 - kl_loss: 0.0360\n"
     ]
    },
    {
     "data": {
      "text/plain": [
       "<keras.callbacks.History at 0x7db9a028b850>"
      ]
     },
     "execution_count": 31,
     "metadata": {},
     "output_type": "execute_result"
    }
   ],
   "source": [
    "# Training VAE model with train data \n",
    "vae = vae_augmentation.VAE(encoder, decoder)\n",
    "vae.compile(optimizer = keras.optimizers.Adam())\n",
    "vae.fit(X_train_vae, epochs = 30,batch_size=9)"
   ]
  },
  {
   "cell_type": "code",
   "execution_count": 33,
   "id": "d84ea61b-de43-4290-96db-6b35474d083e",
   "metadata": {},
   "outputs": [
    {
     "name": "stdout",
     "output_type": "stream",
     "text": [
      "3/3 [==============================] - 0s 48ms/step\n"
     ]
    },
    {
     "data": {
      "image/png": "[encoded data removed]",
      "text/plain": [
       "<Figure size 800x500 with 2 Axes>"
      ]
     },
     "metadata": {},
     "output_type": "display_data"
    }
   ],
   "source": [
    "# predicting the distribution\n",
    "z_mean, z_log_var, z = vae.encoder.predict(X_train_vae)\n",
    "plt.figure(figsize=(8, 5))\n",
    "plt.scatter(z_mean[:, 0], z_mean[:, 1], c=test_part_df[\"istSturz\"])\n",
    "plt.colorbar()\n",
    "plt.xlabel(\"z[0]\")\n",
    "plt.ylabel(\"z[1]\")\n",
    "plt.show()"
   ]
  },
  {
   "cell_type": "code",
   "execution_count": null,
   "id": "1586f002-800a-4d02-b6f6-32c821f40c6e",
   "metadata": {},
   "outputs": [],
   "source": [
    "# predicting usinbg decoder - Augmentation\n",
    "augmented_data= vae_augmentation.plot_latent_space(vae, z_mean, decoder, n = 20)"
   ]
  },
  {
   "cell_type": "code",
   "execution_count": 35,
   "id": "0501f324-406c-4f70-a0f0-942e1f7cc14e",
   "metadata": {},
   "outputs": [],
   "source": [
    "augmented_data = np.expand_dims(np.array(augmented_data), axis=3)"
   ]
  },
  {
   "cell_type": "code",
   "execution_count": 36,
   "id": "6059c796-151c-4b79-a5e3-aa4c1ef51732",
   "metadata": {},
   "outputs": [],
   "source": [
    "V = []\n",
    "for i in range(len(augmented_data)):\n",
    "    V.append({\"event\": \"Dummy\" ,\n",
    "              \"istSturz\": 1,\n",
    "              \"signalLenght\": 16000,\n",
    "              \"spectrum\": normalization_factor * augmented_data[i],\n",
    "              \"normalizedSpectrum\":augmented_data[i]})\n",
    "vae_df = pd.DataFrame.from_dict(V)"
   ]
  },
  {
   "cell_type": "code",
   "execution_count": 37,
   "id": "c6a9b559-9216-4c84-9de1-e223f3147897",
   "metadata": {},
   "outputs": [
    {
     "data": {
      "text/html": [
       "<div>\n",
       "<style scoped>\n",
       "    .dataframe tbody tr th:only-of-type {\n",
       "        vertical-align: middle;\n",
       "    }\n",
       "\n",
       "    .dataframe tbody tr th {\n",
       "        vertical-align: top;\n",
       "    }\n",
       "\n",
       "    .dataframe thead th {\n",
       "        text-align: right;\n",
       "    }\n",
       "</style>\n",
       "<table border=\"1\" class=\"dataframe\">\n",
       "  <thead>\n",
       "    <tr style=\"text-align: right;\">\n",
       "      <th></th>\n",
       "      <th>event</th>\n",
       "      <th>istSturz</th>\n",
       "      <th>signalLenght</th>\n",
       "      <th>spectrum</th>\n",
       "      <th>normalizedSpectrum</th>\n",
       "    </tr>\n",
       "  </thead>\n",
       "  <tbody>\n",
       "    <tr>\n",
       "      <th>0</th>\n",
       "      <td>Dummy</td>\n",
       "      <td>1</td>\n",
       "      <td>16000</td>\n",
       "      <td>[[[41.26008], [13.263667], [6.470637], [2.7136...</td>\n",
       "      <td>[[[0.11516498], [0.0370215], [0.018060818], [0...</td>\n",
       "    </tr>\n",
       "    <tr>\n",
       "      <th>1</th>\n",
       "      <td>Dummy</td>\n",
       "      <td>1</td>\n",
       "      <td>16000</td>\n",
       "      <td>[[[41.26008], [13.269875], [6.475111], [2.7158...</td>\n",
       "      <td>[[[0.11516498], [0.037038825], [0.018073305], ...</td>\n",
       "    </tr>\n",
       "    <tr>\n",
       "      <th>2</th>\n",
       "      <td>Dummy</td>\n",
       "      <td>1</td>\n",
       "      <td>16000</td>\n",
       "      <td>[[[41.26008], [13.276091], [6.479596], [2.7179...</td>\n",
       "      <td>[[[0.11516498], [0.037056174], [0.018085824], ...</td>\n",
       "    </tr>\n",
       "    <tr>\n",
       "      <th>3</th>\n",
       "      <td>Dummy</td>\n",
       "      <td>1</td>\n",
       "      <td>16000</td>\n",
       "      <td>[[[41.26008], [13.282319], [6.484093], [2.7201...</td>\n",
       "      <td>[[[0.11516498], [0.03707356], [0.018098377], [...</td>\n",
       "    </tr>\n",
       "    <tr>\n",
       "      <th>4</th>\n",
       "      <td>Dummy</td>\n",
       "      <td>1</td>\n",
       "      <td>16000</td>\n",
       "      <td>[[[41.26008], [13.28855], [6.4885974], [2.7223...</td>\n",
       "      <td>[[[0.11516498], [0.037090953], [0.01811095], [...</td>\n",
       "    </tr>\n",
       "    <tr>\n",
       "      <th>...</th>\n",
       "      <td>...</td>\n",
       "      <td>...</td>\n",
       "      <td>...</td>\n",
       "      <td>...</td>\n",
       "      <td>...</td>\n",
       "    </tr>\n",
       "    <tr>\n",
       "      <th>395</th>\n",
       "      <td>Dummy</td>\n",
       "      <td>1</td>\n",
       "      <td>16000</td>\n",
       "      <td>[[[41.26008], [13.251719], [6.448481], [2.7038...</td>\n",
       "      <td>[[[0.11516498], [0.03698815], [0.017998977], [...</td>\n",
       "    </tr>\n",
       "    <tr>\n",
       "      <th>396</th>\n",
       "      <td>Dummy</td>\n",
       "      <td>1</td>\n",
       "      <td>16000</td>\n",
       "      <td>[[[41.26008], [13.257914], [6.452909], [2.7060...</td>\n",
       "      <td>[[[0.11516498], [0.03700544], [0.018011335], [...</td>\n",
       "    </tr>\n",
       "    <tr>\n",
       "      <th>397</th>\n",
       "      <td>Dummy</td>\n",
       "      <td>1</td>\n",
       "      <td>16000</td>\n",
       "      <td>[[[41.26008], [13.26412], [6.4573483], [2.7081...</td>\n",
       "      <td>[[[0.11516498], [0.037022762], [0.018023727], ...</td>\n",
       "    </tr>\n",
       "    <tr>\n",
       "      <th>398</th>\n",
       "      <td>Dummy</td>\n",
       "      <td>1</td>\n",
       "      <td>16000</td>\n",
       "      <td>[[[41.26008], [13.270332], [6.4617996], [2.710...</td>\n",
       "      <td>[[[0.11516498], [0.037040103], [0.018036151], ...</td>\n",
       "    </tr>\n",
       "    <tr>\n",
       "      <th>399</th>\n",
       "      <td>Dummy</td>\n",
       "      <td>1</td>\n",
       "      <td>16000</td>\n",
       "      <td>[[[41.26008], [13.276555], [6.4662576], [2.712...</td>\n",
       "      <td>[[[0.11516498], [0.03705747], [0.018048594], [...</td>\n",
       "    </tr>\n",
       "  </tbody>\n",
       "</table>\n",
       "<p>400 rows × 5 columns</p>\n",
       "</div>"
      ],
      "text/plain": [
       "     event  istSturz  signalLenght  \\\n",
       "0    Dummy         1         16000   \n",
       "1    Dummy         1         16000   \n",
       "2    Dummy         1         16000   \n",
       "3    Dummy         1         16000   \n",
       "4    Dummy         1         16000   \n",
       "..     ...       ...           ...   \n",
       "395  Dummy         1         16000   \n",
       "396  Dummy         1         16000   \n",
       "397  Dummy         1         16000   \n",
       "398  Dummy         1         16000   \n",
       "399  Dummy         1         16000   \n",
       "\n",
       "                                              spectrum  \\\n",
       "0    [[[41.26008], [13.263667], [6.470637], [2.7136...   \n",
       "1    [[[41.26008], [13.269875], [6.475111], [2.7158...   \n",
       "2    [[[41.26008], [13.276091], [6.479596], [2.7179...   \n",
       "3    [[[41.26008], [13.282319], [6.484093], [2.7201...   \n",
       "4    [[[41.26008], [13.28855], [6.4885974], [2.7223...   \n",
       "..                                                 ...   \n",
       "395  [[[41.26008], [13.251719], [6.448481], [2.7038...   \n",
       "396  [[[41.26008], [13.257914], [6.452909], [2.7060...   \n",
       "397  [[[41.26008], [13.26412], [6.4573483], [2.7081...   \n",
       "398  [[[41.26008], [13.270332], [6.4617996], [2.710...   \n",
       "399  [[[41.26008], [13.276555], [6.4662576], [2.712...   \n",
       "\n",
       "                                    normalizedSpectrum  \n",
       "0    [[[0.11516498], [0.0370215], [0.018060818], [0...  \n",
       "1    [[[0.11516498], [0.037038825], [0.018073305], ...  \n",
       "2    [[[0.11516498], [0.037056174], [0.018085824], ...  \n",
       "3    [[[0.11516498], [0.03707356], [0.018098377], [...  \n",
       "4    [[[0.11516498], [0.037090953], [0.01811095], [...  \n",
       "..                                                 ...  \n",
       "395  [[[0.11516498], [0.03698815], [0.017998977], [...  \n",
       "396  [[[0.11516498], [0.03700544], [0.018011335], [...  \n",
       "397  [[[0.11516498], [0.037022762], [0.018023727], ...  \n",
       "398  [[[0.11516498], [0.037040103], [0.018036151], ...  \n",
       "399  [[[0.11516498], [0.03705747], [0.018048594], [...  \n",
       "\n",
       "[400 rows x 5 columns]"
      ]
     },
     "execution_count": 37,
     "metadata": {},
     "output_type": "execute_result"
    }
   ],
   "source": [
    "vae_df"
   ]
  },
  {
   "cell_type": "markdown",
   "id": "05abde32-bb31-4334-8350-fe54ee88aa38",
   "metadata": {},
   "source": [
    "### Positive events"
   ]
  },
  {
   "cell_type": "code",
   "execution_count": 38,
   "id": "32138fdd-fd6c-4998-bb00-0d95d151ff27",
   "metadata": {},
   "outputs": [],
   "source": [
    "L = []\n",
    "for (teensy, event, run, rep), ss in df_fake.groupby([\"teensy\", \"experiment\", \"run\", \"rep\"]):\n",
    "    L.append({\"event\": event,\n",
    "              \"run\": run,\n",
    "              \"istSturz\": int(event == \"Dummy\"),\n",
    "              \"signalLenght\": len(ss[\"z\"]),\n",
    "              \"spectrum\": SignalToSpectrum(ss[\"z\"])})\n",
    "df = pd.DataFrame.from_dict(L)\n",
    "df.drop('run', inplace=True, axis=1)"
   ]
  },
  {
   "cell_type": "code",
   "execution_count": 39,
   "id": "703e8511-fc02-4b38-8292-b2fa375e5f3d",
   "metadata": {},
   "outputs": [],
   "source": [
    "# normalize the spectrum to facilitate training\n",
    "df[\"normalizedSpectrum\"] = df[\"spectrum\"] / df[\"spectrum\"].map(np.max).max()"
   ]
  },
  {
   "cell_type": "code",
   "execution_count": 40,
   "id": "cc35afb9-b266-4298-9d58-049bcc649383",
   "metadata": {},
   "outputs": [],
   "source": [
    "# Dropping dummy events from the dataframe\n",
    "df_drop = []\n",
    "df_drop = df.drop(df[(df['event'] == \"Dummy\")].index)"
   ]
  },
  {
   "cell_type": "markdown",
   "id": "74d99ecf-1b4c-462f-9255-043ca1b49a59",
   "metadata": {},
   "source": [
    "### Append dataframe for training"
   ]
  },
  {
   "cell_type": "code",
   "execution_count": 41,
   "id": "6db93cdc-8b87-493b-9ddb-e6f836f3beff",
   "metadata": {},
   "outputs": [],
   "source": [
    "final_df = []\n",
    "final_df = df_drop.append(augmented_df)\n",
    "final_df = final_df.append(vae_df)"
   ]
  },
  {
   "cell_type": "code",
   "execution_count": 42,
   "id": "289bfb97-3471-4efb-9b3b-c6383ab9dfa2",
   "metadata": {},
   "outputs": [],
   "source": [
    "#shuffle the final dataframe\n",
    "final_df = final_df.sample(frac=1).reset_index(drop=True)"
   ]
  },
  {
   "cell_type": "code",
   "execution_count": 43,
   "id": "7fc231f2-7d94-4666-a5ef-c9286beef89d",
   "metadata": {},
   "outputs": [
    {
     "data": {
      "text/html": [
       "<div>\n",
       "<style scoped>\n",
       "    .dataframe tbody tr th:only-of-type {\n",
       "        vertical-align: middle;\n",
       "    }\n",
       "\n",
       "    .dataframe tbody tr th {\n",
       "        vertical-align: top;\n",
       "    }\n",
       "\n",
       "    .dataframe thead th {\n",
       "        text-align: right;\n",
       "    }\n",
       "</style>\n",
       "<table border=\"1\" class=\"dataframe\">\n",
       "  <thead>\n",
       "    <tr style=\"text-align: right;\">\n",
       "      <th></th>\n",
       "      <th>event</th>\n",
       "      <th>istSturz</th>\n",
       "      <th>signalLenght</th>\n",
       "      <th>spectrum</th>\n",
       "      <th>normalizedSpectrum</th>\n",
       "    </tr>\n",
       "  </thead>\n",
       "  <tbody>\n",
       "    <tr>\n",
       "      <th>0</th>\n",
       "      <td>Stuhl kippt</td>\n",
       "      <td>0</td>\n",
       "      <td>16008</td>\n",
       "      <td>[[[218.41911813800112], [0.33612656613106867],...</td>\n",
       "      <td>[[[0.3192846357373647], [0.0004913491508605156...</td>\n",
       "    </tr>\n",
       "    <tr>\n",
       "      <th>1</th>\n",
       "      <td>Dummy</td>\n",
       "      <td>1</td>\n",
       "      <td>15955</td>\n",
       "      <td>[[[209.17584485485304], [0.9310416616637168], ...</td>\n",
       "      <td>[[[0.5428714670678734], [0.0024163208381895824...</td>\n",
       "    </tr>\n",
       "    <tr>\n",
       "      <th>2</th>\n",
       "      <td>Getränkeflasche</td>\n",
       "      <td>0</td>\n",
       "      <td>16033</td>\n",
       "      <td>[[[220.4186696196278], [0.17126796130126076], ...</td>\n",
       "      <td>[[[0.3222075761461155], [0.0002503591677492456...</td>\n",
       "    </tr>\n",
       "    <tr>\n",
       "      <th>3</th>\n",
       "      <td>Dummy</td>\n",
       "      <td>1</td>\n",
       "      <td>15963</td>\n",
       "      <td>[[[220.53189153500256], [0.33248110214614945],...</td>\n",
       "      <td>[[[0.572343673696807], [0.000862884066846574],...</td>\n",
       "    </tr>\n",
       "    <tr>\n",
       "      <th>4</th>\n",
       "      <td>Dummy</td>\n",
       "      <td>1</td>\n",
       "      <td>15968</td>\n",
       "      <td>[[[240.52395654036062], [0.3216951970200443], ...</td>\n",
       "      <td>[[[0.6242288312144258], [0.0008348915414977383...</td>\n",
       "    </tr>\n",
       "    <tr>\n",
       "      <th>...</th>\n",
       "      <td>...</td>\n",
       "      <td>...</td>\n",
       "      <td>...</td>\n",
       "      <td>...</td>\n",
       "      <td>...</td>\n",
       "    </tr>\n",
       "    <tr>\n",
       "      <th>2128</th>\n",
       "      <td>Wasserkasten</td>\n",
       "      <td>0</td>\n",
       "      <td>16075</td>\n",
       "      <td>[[[220.43590661138143], [0.4942664043115013], ...</td>\n",
       "      <td>[[[0.32223277314663534], [0.000722517654146495...</td>\n",
       "    </tr>\n",
       "    <tr>\n",
       "      <th>2129</th>\n",
       "      <td>Dummy</td>\n",
       "      <td>1</td>\n",
       "      <td>16040</td>\n",
       "      <td>[[[220.3227535006939], [0.45225477744912995], ...</td>\n",
       "      <td>[[[0.5718009003589792], [0.0011737311958396881...</td>\n",
       "    </tr>\n",
       "    <tr>\n",
       "      <th>2130</th>\n",
       "      <td>Dummy</td>\n",
       "      <td>1</td>\n",
       "      <td>15963</td>\n",
       "      <td>[[[220.65838527293653], [1.0517484190050441], ...</td>\n",
       "      <td>[[[0.5726719613207187], [0.0027295895833851004...</td>\n",
       "    </tr>\n",
       "    <tr>\n",
       "      <th>2131</th>\n",
       "      <td>Dummy</td>\n",
       "      <td>1</td>\n",
       "      <td>16003</td>\n",
       "      <td>[[[217.99331415222784], [1.3117367467834482], ...</td>\n",
       "      <td>[[[0.565755335406559], [0.003404334055049706],...</td>\n",
       "    </tr>\n",
       "    <tr>\n",
       "      <th>2132</th>\n",
       "      <td>Handy</td>\n",
       "      <td>0</td>\n",
       "      <td>16044</td>\n",
       "      <td>[[[220.46947001706158], [0.10097045227872933],...</td>\n",
       "      <td>[[[0.3222818360668048], [0.0001475984078265636...</td>\n",
       "    </tr>\n",
       "  </tbody>\n",
       "</table>\n",
       "<p>2133 rows × 5 columns</p>\n",
       "</div>"
      ],
      "text/plain": [
       "                event  istSturz  signalLenght  \\\n",
       "0         Stuhl kippt         0         16008   \n",
       "1               Dummy         1         15955   \n",
       "2     Getränkeflasche         0         16033   \n",
       "3               Dummy         1         15963   \n",
       "4               Dummy         1         15968   \n",
       "...               ...       ...           ...   \n",
       "2128     Wasserkasten         0         16075   \n",
       "2129            Dummy         1         16040   \n",
       "2130            Dummy         1         15963   \n",
       "2131            Dummy         1         16003   \n",
       "2132            Handy         0         16044   \n",
       "\n",
       "                                               spectrum  \\\n",
       "0     [[[218.41911813800112], [0.33612656613106867],...   \n",
       "1     [[[209.17584485485304], [0.9310416616637168], ...   \n",
       "2     [[[220.4186696196278], [0.17126796130126076], ...   \n",
       "3     [[[220.53189153500256], [0.33248110214614945],...   \n",
       "4     [[[240.52395654036062], [0.3216951970200443], ...   \n",
       "...                                                 ...   \n",
       "2128  [[[220.43590661138143], [0.4942664043115013], ...   \n",
       "2129  [[[220.3227535006939], [0.45225477744912995], ...   \n",
       "2130  [[[220.65838527293653], [1.0517484190050441], ...   \n",
       "2131  [[[217.99331415222784], [1.3117367467834482], ...   \n",
       "2132  [[[220.46947001706158], [0.10097045227872933],...   \n",
       "\n",
       "                                     normalizedSpectrum  \n",
       "0     [[[0.3192846357373647], [0.0004913491508605156...  \n",
       "1     [[[0.5428714670678734], [0.0024163208381895824...  \n",
       "2     [[[0.3222075761461155], [0.0002503591677492456...  \n",
       "3     [[[0.572343673696807], [0.000862884066846574],...  \n",
       "4     [[[0.6242288312144258], [0.0008348915414977383...  \n",
       "...                                                 ...  \n",
       "2128  [[[0.32223277314663534], [0.000722517654146495...  \n",
       "2129  [[[0.5718009003589792], [0.0011737311958396881...  \n",
       "2130  [[[0.5726719613207187], [0.0027295895833851004...  \n",
       "2131  [[[0.565755335406559], [0.003404334055049706],...  \n",
       "2132  [[[0.3222818360668048], [0.0001475984078265636...  \n",
       "\n",
       "[2133 rows x 5 columns]"
      ]
     },
     "execution_count": 43,
     "metadata": {},
     "output_type": "execute_result"
    }
   ],
   "source": [
    "final_df"
   ]
  },
  {
   "cell_type": "markdown",
   "id": "ab84c622-1b36-4959-b7cd-099fadc7bf77",
   "metadata": {},
   "source": [
    "### Input and target split for train and test"
   ]
  },
  {
   "cell_type": "markdown",
   "id": "a2935121-2384-4ddc-a190-37b97742b187",
   "metadata": {},
   "source": [
    "#### Input and target for Train"
   ]
  },
  {
   "cell_type": "code",
   "execution_count": 44,
   "id": "fc276ca8-71bd-4e2a-8bbf-8a0ca3297034",
   "metadata": {},
   "outputs": [],
   "source": [
    "X = np.stack(final_df[\"normalizedSpectrum\"].to_list())\n",
    "y = final_df[\"istSturz\"].to_numpy()"
   ]
  },
  {
   "cell_type": "markdown",
   "id": "932ca642-3da4-4ff6-8c2e-abc729a06d28",
   "metadata": {},
   "source": [
    "#### Input and target for test"
   ]
  },
  {
   "cell_type": "code",
   "execution_count": 45,
   "id": "e542b447-d6b1-45f9-9825-294d75032d30",
   "metadata": {},
   "outputs": [],
   "source": [
    "X_tst = np.stack(test_part_df[\"normalizedSpectrum\"].to_list())\n",
    "y_tst = test_part_df[\"istSturz\"].to_numpy()"
   ]
  },
  {
   "cell_type": "markdown",
   "id": "19ccb994-ef9a-4978-b885-3cd672269b73",
   "metadata": {},
   "source": [
    "### Model"
   ]
  },
  {
   "cell_type": "markdown",
   "id": "17fdaf67-c732-4e7e-bf63-cac5b774d21a",
   "metadata": {},
   "source": [
    "#### Cross-validation"
   ]
  },
  {
   "cell_type": "code",
   "execution_count": 46,
   "id": "15230f8b-32da-421b-9100-b2e51f1af00b",
   "metadata": {},
   "outputs": [],
   "source": [
    "# https://github.com/christianversloot/machine-learning-articles/blob/main/how-to-use-k-fold-cross-validation-with-keras.md\n",
    "# https://www.kaggle.com/code/franklemuchahary/basic-cnn-keras-with-cross-validation\n",
    "# https://machinelearningmastery.com/k-fold-cross-validation/\n",
    "# https://stats.stackexchange.com/questions/186337/average-roc-for-repeated-10-fold-cross-validation-with-probability-estimates"
   ]
  },
  {
   "cell_type": "code",
   "execution_count": 47,
   "id": "a6f22e34-2a7d-4d80-bec4-6baa866c76ca",
   "metadata": {},
   "outputs": [],
   "source": [
    "from sklearn.model_selection import StratifiedKFold\n",
    "from sklearn.metrics import confusion_matrix"
   ]
  },
  {
   "cell_type": "code",
   "execution_count": 48,
   "id": "57ead5d1-b6d3-4cd9-9224-82bba07c6ab5",
   "metadata": {},
   "outputs": [],
   "source": [
    "# Model configuration\n",
    "#batch_size = 50\n",
    "loss_function = \"binary_crossentropy\"\n",
    "no_epochs = 75\n",
    "optimizer = \"adam\"\n",
    "verbosity = 0\n",
    "num_folds = 5"
   ]
  },
  {
   "cell_type": "code",
   "execution_count": 49,
   "id": "960947ef-11ec-4ffe-b9bb-738b2847c853",
   "metadata": {},
   "outputs": [],
   "source": [
    "# Define per-fold score containers <-- these are new\n",
    "acc_per_fold = []\n",
    "loss_per_fold = []"
   ]
  },
  {
   "cell_type": "code",
   "execution_count": 50,
   "id": "f437ddad-90e1-4685-8e88-a6059ec6cee7",
   "metadata": {},
   "outputs": [],
   "source": [
    "# defind array fot ROC, Precision-recall curve and confusion martrix\n",
    "roc_values = []\n",
    "precision_recall_values = []\n",
    "auc = []\n",
    "confusion_matrices = []"
   ]
  },
  {
   "cell_type": "code",
   "execution_count": 51,
   "id": "c8951754-7560-469f-aa69-62d06d65553b",
   "metadata": {},
   "outputs": [
    {
     "name": "stdout",
     "output_type": "stream",
     "text": [
      "------------------------------------------------------------------------\n",
      "Training for fold 1 ...\n",
      "Score for fold 1: loss of 0.0022577079944312572; accuracy of 100.0%\n",
      "14/14 [==============================] - 0s 3ms/step\n",
      "------------------------------------------------------------------------\n",
      "Training for fold 2 ...\n",
      "Score for fold 2: loss of 0.0063360934145748615; accuracy of 99.76580739021301%\n",
      "14/14 [==============================] - 0s 3ms/step\n",
      "------------------------------------------------------------------------\n",
      "Training for fold 3 ...\n",
      "Score for fold 3: loss of 0.0026808385737240314; accuracy of 100.0%\n",
      "14/14 [==============================] - 0s 3ms/step\n",
      "------------------------------------------------------------------------\n",
      "Training for fold 4 ...\n",
      "Score for fold 4: loss of 0.01384385209530592; accuracy of 99.53051805496216%\n",
      "14/14 [==============================] - 0s 3ms/step\n",
      "------------------------------------------------------------------------\n",
      "Training for fold 5 ...\n",
      "Score for fold 5: loss of 0.0040808143094182014; accuracy of 100.0%\n",
      "14/14 [==============================] - 0s 3ms/step\n"
     ]
    }
   ],
   "source": [
    "# Define the K-fold Cross Validator\n",
    "skfold = StratifiedKFold(n_splits=num_folds, shuffle=True)\n",
    "\n",
    "# K-fold Cross Validation model evaluation\n",
    "fold_no = 1\n",
    "for train, test in skfold.split(X, y):\n",
    "    mdl = Sequential()\n",
    "    mdl.add(Conv2D(8, (63, 5), activation=\"relu\", input_shape=(63, 251, 1)))\n",
    "    mdl.add(MaxPooling2D((1, 4)))\n",
    "    mdl.add(Flatten())\n",
    "    mdl.add(Dense(1,activation=\"sigmoid\"))\n",
    "    #mdl.compile(optimizer=\"adam\", loss=\"binary_crossentropy\", metrics=[\"accuracy\"])\n",
    "    #mdl.summary()\n",
    "\n",
    "    # Compile the model\n",
    "    mdl.compile(loss=loss_function,\n",
    "                    optimizer=optimizer,\n",
    "                    metrics=['accuracy'])\n",
    "\n",
    "\n",
    "      # Generate a print\n",
    "    print('------------------------------------------------------------------------')\n",
    "    print(f'Training for fold {fold_no} ...')\n",
    "\n",
    "    # Fit data to model\n",
    "    history = mdl.fit(X[train], y[train],\n",
    "                  epochs=no_epochs,\n",
    "                  verbose=verbosity)\n",
    "\n",
    "    # Generate generalization metrics\n",
    "    scores = mdl.evaluate(X[test], y[test], verbose=0)\n",
    "    print(f'Score for fold {fold_no}: {mdl.metrics_names[0]} of {scores[0]}; {mdl.metrics_names[1]} of {scores[1]*100}%')\n",
    "    acc_per_fold.append(scores[1] * 100)\n",
    "    loss_per_fold.append(scores[0])\n",
    "    \n",
    "    # Confusion Matrix\n",
    "    # Predict the labels for the test set\n",
    "    y_pred = mdl.predict(X[test,])\n",
    "    \n",
    "    # Convert the predicted labels to a binary form\n",
    "    y_pred_binary = np.where(y_pred > 0.10, 1, 0)\n",
    "    \n",
    "    \n",
    "    # ROC AND PRECISION RECALL VALUES\n",
    "    fpr, tpr, thresholds = roc_curve(y[test], y_pred)\n",
    "    roc_values.append((fpr, tpr,thresholds))\n",
    "    \n",
    "    \n",
    "    precision, recall, thresholds_1 = precision_recall_curve(y[test], y_pred)\n",
    "    precision_recall_values.append((precision, recall,thresholds_1)) \n",
    "    \n",
    "    auc = roc_auc_score(y[test], y_pred)\n",
    "     \n",
    "    #confusion matrix\n",
    "    confusion_matrices.append(confusion_matrix(y[test], y_pred_binary))\n",
    "\n",
    "\n",
    "    # Increase fold number\n",
    "    fold_no = fold_no + 1"
   ]
  },
  {
   "cell_type": "code",
   "execution_count": 52,
   "id": "23294f97-b97b-4134-8fd9-850141a66d92",
   "metadata": {},
   "outputs": [
    {
     "name": "stdout",
     "output_type": "stream",
     "text": [
      "------------------------------------------------------------------------\n",
      "Score per fold\n",
      "------------------------------------------------------------------------\n",
      "> Fold 1 - Loss: 0.0022577079944312572 - Accuracy: 100.0%\n",
      "------------------------------------------------------------------------\n",
      "> Fold 2 - Loss: 0.0063360934145748615 - Accuracy: 99.76580739021301%\n",
      "------------------------------------------------------------------------\n",
      "> Fold 3 - Loss: 0.0026808385737240314 - Accuracy: 100.0%\n",
      "------------------------------------------------------------------------\n",
      "> Fold 4 - Loss: 0.01384385209530592 - Accuracy: 99.53051805496216%\n",
      "------------------------------------------------------------------------\n",
      "> Fold 5 - Loss: 0.0040808143094182014 - Accuracy: 100.0%\n",
      "------------------------------------------------------------------------\n",
      "Average scores for all folds:\n",
      "> Accuracy: 99.85926508903503 (+- 0.18773806187013378)\n",
      "> Loss: 0.005839861277490854\n",
      "------------------------------------------------------------------------\n"
     ]
    }
   ],
   "source": [
    "# == Provide average scores ==\n",
    "print('------------------------------------------------------------------------')\n",
    "print('Score per fold')\n",
    "for i in range(0, len(acc_per_fold)):\n",
    "    print('------------------------------------------------------------------------')\n",
    "    print(f'> Fold {i+1} - Loss: {loss_per_fold[i]} - Accuracy: {acc_per_fold[i]}%')\n",
    "print('------------------------------------------------------------------------')\n",
    "print('Average scores for all folds:')\n",
    "print(f'> Accuracy: {np.mean(acc_per_fold)} (+- {np.std(acc_per_fold)})')\n",
    "print(f'> Loss: {np.mean(loss_per_fold)}')\n",
    "print('------------------------------------------------------------------------')"
   ]
  },
  {
   "cell_type": "code",
   "execution_count": 53,
   "id": "39fe4669-c885-4a66-8e8e-545d156c9373",
   "metadata": {},
   "outputs": [
    {
     "data": {
      "image/png": "[encoded data removed]",
      "text/plain": [
       "<Figure size 640x480 with 2 Axes>"
      ]
     },
     "metadata": {},
     "output_type": "display_data"
    },
    {
     "data": {
      "image/png": "[encoded data removed]",
      "text/plain": [
       "<Figure size 640x480 with 2 Axes>"
      ]
     },
     "metadata": {},
     "output_type": "display_data"
    },
    {
     "data": {
      "image/png": "[encoded data removed]",
      "text/plain": [
       "<Figure size 640x480 with 2 Axes>"
      ]
     },
     "metadata": {},
     "output_type": "display_data"
    },
    {
     "data": {
      "image/png": "[encoded data removed]",
      "text/plain": [
       "<Figure size 640x480 with 2 Axes>"
      ]
     },
     "metadata": {},
     "output_type": "display_data"
    },
    {
     "data": {
      "image/png": "[encoded data removed]",
      "text/plain": [
       "<Figure size 640x480 with 2 Axes>"
      ]
     },
     "metadata": {},
     "output_type": "display_data"
    }
   ],
   "source": [
    "# Plot the confusion matrix values for each fold on the same graph\n",
    "for cm in confusion_matrices:\n",
    "    ax= pyplot.subplot()\n",
    "    sns.heatmap(cm, annot=True, fmt='g', ax=ax);  #annot=True to annotate cells, ftm='g' to disable scientific notation\n",
    "    # labels, title and ticks\n",
    "    ax.set_xlabel('Predicted labels');ax.set_ylabel('True labels');\n",
    "    ax.set_title('Confusion Matrix');\n",
    "    ax.xaxis.set_ticklabels(['0', '1'])\n",
    "    ax.yaxis.set_ticklabels(['0', '1'])\n",
    "    pyplot.show() \n",
    "\n",
    "# Show the plot\n",
    "plt.show()"
   ]
  },
  {
   "cell_type": "code",
   "execution_count": 54,
   "id": "86ab8376-3727-465d-972f-4b14511ce6c7",
   "metadata": {},
   "outputs": [],
   "source": [
    "pyplot.rcParams.update({'font.size': 8})"
   ]
  },
  {
   "cell_type": "code",
   "execution_count": null,
   "id": "0b118479-e2ea-4a46-8181-68f674d436fb",
   "metadata": {},
   "outputs": [],
   "source": [
    "tprs = []\n",
    "base_fpr = np.linspace(0, 1, 101)\n",
    "pyplot.figure(figsize=(5, 5))\n",
    "pyplot.axes().set_aspect('equal', 'datalim')"
   ]
  },
  {
   "cell_type": "code",
   "execution_count": 57,
   "id": "6b60b41a-34b5-4943-bdd1-1cf4f0e917fa",
   "metadata": {},
   "outputs": [
    {
     "name": "stdout",
     "output_type": "stream",
     "text": [
      "For fold 1 optimal Threshold=0.915505, G-Mean=1.000\n",
      "For fold 2 optimal Threshold=0.160470, G-Mean=1.000\n",
      "For fold 3 optimal Threshold=0.816510, G-Mean=1.000\n",
      "For fold 4 optimal Threshold=0.918375, G-Mean=0.996\n",
      "For fold 5 optimal Threshold=0.907064, G-Mean=1.000\n",
      "mean Threshold=1.000000, G-Mean=0.995\n"
     ]
    },
    {
     "data": {
      "image/png": "[encoded data removed]",
      "text/plain": [
       "<Figure size 640x480 with 1 Axes>"
      ]
     },
     "metadata": {},
     "output_type": "display_data"
    }
   ],
   "source": [
    "# Plot the ROC and precision-recall values for each fold on the same graph\n",
    "tprs = []\n",
    "\n",
    "i = 1\n",
    "j = 1\n",
    "    \n",
    "# ROC CURVE\n",
    "for fpr, tpr,thresholds in roc_values:\n",
    "    \n",
    "    gmeans = sqrt(tpr * (1-fpr))\n",
    "    # locate the index of the largest g-mean\n",
    "    ix = argmax(gmeans)\n",
    "    print('For fold '  +str(i), 'optimal Threshold=%f, G-Mean=%.3f' % (thresholds[ix], gmeans[ix]))\n",
    "    \n",
    "    # plot the roc curve for the model\n",
    "    pyplot.plot(fpr, tpr,'b', alpha=0.15, marker='.', label='ROC for Fold' +str(i))\n",
    "    \n",
    "    tpr_new = np.interp(base_fpr, fpr, tpr)\n",
    "    tpr_new[0] = 0.0\n",
    "    tprs.append(tpr_new)\n",
    "    \n",
    "   \n",
    "    if i == num_folds:\n",
    "        pyplot.scatter(fpr[ix], tpr[ix],s=20,alpha=0.5, marker='o', color='black', label='G-mean')\n",
    "        pyplot.legend()\n",
    "    else:\n",
    "        pyplot.scatter(fpr[ix], tpr[ix],s=20,alpha=0.5, marker='o', color='black')  \n",
    "        pyplot.legend()\n",
    "        \n",
    "    i = i + 1\n",
    "     \n",
    "tprs = np.array(tprs)\n",
    "mean_tprs = tprs.mean(axis=0)\n",
    "std = tprs.std(axis=0)\n",
    "\n",
    "tprs_upper = np.minimum(mean_tprs + std, 1)\n",
    "tprs_lower = mean_tprs - std\n",
    "\n",
    "\n",
    "gmeans_new = sqrt(mean_tprs * (1-base_fpr))\n",
    "# locate the index of the largest g-mean\n",
    "iy = argmax(gmeans_new)\n",
    "print('mean Threshold=%f, G-Mean=%.3f' % (thresholds[iy], gmeans_new[iy]))\n",
    "\n",
    "pyplot.plot(base_fpr, mean_tprs, 'g',linewidth=3.0, label='Mean ROC')\n",
    "pyplot.scatter(base_fpr[ix], mean_tprs[ix],s=100,alpha=0.5, marker=\"*\", color='Red', label='Avg G-mean')\n",
    "pyplot.fill_between(base_fpr, tprs_lower, tprs_upper, color='grey', alpha=0.2)\n",
    "\n",
    "pyplot.plot([0, 1], [0, 1],'r--')\n",
    "pyplot.xlim([-0.01, 1.01])\n",
    "pyplot.ylim([-0.01, 1.01])\n",
    "pyplot.ylabel('True Positive Rate')\n",
    "pyplot.xlabel('False Positive Rate')\n",
    "pyplot.legend()\n",
    "pyplot.show()\n",
    "\n"
   ]
  },
  {
   "cell_type": "code",
   "execution_count": 58,
   "id": "cdf79e7c-9d77-43e3-abc0-06b7423ee372",
   "metadata": {},
   "outputs": [],
   "source": [
    "prc = []\n",
    "base_recall = np.linspace(0, 1, 101)"
   ]
  },
  {
   "cell_type": "code",
   "execution_count": 64,
   "id": "62c02350-5f01-43f0-8f7d-0109399c9469",
   "metadata": {},
   "outputs": [
    {
     "name": "stdout",
     "output_type": "stream",
     "text": [
      "For fold 1 Best Threshold=0.915505, F-Score=1.000\n",
      "For fold 2 Best Threshold=0.160470, F-Score=1.000\n",
      "For fold 3 Best Threshold=0.816510, F-Score=1.000\n",
      "For fold 4 Best Threshold=0.041879, F-Score=0.996\n",
      "For fold 5 Best Threshold=0.907064, F-Score=1.000\n"
     ]
    },
    {
     "data": {
      "image/png": "[encoded data removed]",
      "text/plain": [
       "<Figure size 640x480 with 1 Axes>"
      ]
     },
     "metadata": {},
     "output_type": "display_data"
    }
   ],
   "source": [
    "ix = 0 \n",
    "j = 1\n",
    "# PRECISION RECALL CURVE\n",
    "for precision, recall, thresholds_1 in precision_recall_values:\n",
    "    \n",
    "     # convert to f score\n",
    "    fscore = (2 * precision * recall) / (precision + recall)\n",
    "    # locate the index of the largest f score\n",
    "    ix = argmax(fscore)\n",
    "    print('For fold '  +str(j),'Best Threshold=%f, F-Score=%.3f' % (thresholds_1[ix], fscore[ix]))\n",
    "\n",
    "    pyplot.plot(recall, precision, marker='none', label='Fold' + str(j))\n",
    "    \n",
    "    \n",
    "    pyplot.scatter(recall[ix], precision[ix],s=20, marker='o', color='black', label='Best')\n",
    "    # axis labels\n",
    "    pyplot.xlabel('Recall')\n",
    "    pyplot.ylabel('Precision')\n",
    "    pyplot.legend()\n",
    "    \n",
    "    j = j + 1\n",
    "\n",
    "\n",
    "# Show the plot\n",
    "pyplot.show()"
   ]
  },
  {
   "cell_type": "code",
   "execution_count": 63,
   "id": "8d127041-41be-493b-b94e-cc749b9752ef",
   "metadata": {},
   "outputs": [
    {
     "name": "stdout",
     "output_type": "stream",
     "text": [
      "3/3 [==============================] - 0s 2ms/step\n"
     ]
    },
    {
     "data": {
      "text/html": [
       "<div>\n",
       "<style scoped>\n",
       "    .dataframe tbody tr th:only-of-type {\n",
       "        vertical-align: middle;\n",
       "    }\n",
       "\n",
       "    .dataframe tbody tr th {\n",
       "        vertical-align: top;\n",
       "    }\n",
       "\n",
       "    .dataframe thead th {\n",
       "        text-align: right;\n",
       "    }\n",
       "</style>\n",
       "<table border=\"1\" class=\"dataframe\">\n",
       "  <thead>\n",
       "    <tr style=\"text-align: right;\">\n",
       "      <th>col_0</th>\n",
       "      <th>True</th>\n",
       "    </tr>\n",
       "    <tr>\n",
       "      <th>event</th>\n",
       "      <th></th>\n",
       "    </tr>\n",
       "  </thead>\n",
       "  <tbody>\n",
       "    <tr>\n",
       "      <th>Dummy</th>\n",
       "      <td>66</td>\n",
       "    </tr>\n",
       "  </tbody>\n",
       "</table>\n",
       "</div>"
      ],
      "text/plain": [
       "col_0  True\n",
       "event      \n",
       "Dummy    66"
      ]
     },
     "execution_count": 63,
     "metadata": {},
     "output_type": "execute_result"
    }
   ],
   "source": [
    "ypred = mdl.predict(X_tst).ravel()\n",
    "threshold = 0.10\n",
    "pd.crosstab(test_part_df['event'], ypred >= threshold)"
   ]
  },
  {
   "cell_type": "code",
   "execution_count": null,
   "id": "d44f9fac-2b68-4b35-a71c-35d104af5c6b",
   "metadata": {},
   "outputs": [],
   "source": []
  }
 ],
 "metadata": {
  "kernelspec": {
   "display_name": "Python 3.10 / pyspotseven",
   "language": "python",
   "name": "py310-pyspotseven"
  },
  "language_info": {
   "codemirror_mode": {
    "name": "ipython",
    "version": 3
   },
   "file_extension": ".py",
   "mimetype": "text/x-python",
   "name": "python",
   "nbconvert_exporter": "python",
   "pygments_lexer": "ipython3",
   "version": "3.10.8"
  }
 },
 "nbformat": 4,
 "nbformat_minor": 5
}
