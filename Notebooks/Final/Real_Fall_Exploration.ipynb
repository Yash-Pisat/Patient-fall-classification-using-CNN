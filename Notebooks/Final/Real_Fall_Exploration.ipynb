{
 "cells": [
  {
   "cell_type": "code",
   "execution_count": 4,
   "id": "10e2bcb2-694b-42b0-942f-432c99833b4f",
   "metadata": {},
   "outputs": [],
   "source": [
    "from lib import Augmentation_methods\n",
    "from lib import data_preparation"
   ]
  },
  {
   "cell_type": "code",
   "execution_count": 5,
   "id": "9c5cddcd-e081-42d5-b71b-e474fd719f93",
   "metadata": {},
   "outputs": [],
   "source": [
    "# All used imports\n",
    "import numpy as np\n",
    "import pandas as pd\n",
    "import pathlib\n",
    "import matplotlib.pyplot as plt\n",
    "\n",
    "from lib import Augmentation_methods\n",
    "\n",
    "from tensorflow import keras\n",
    "from tensorflow.keras.models import Sequential\n",
    "from tensorflow.keras.layers import Dense, Conv2D, MaxPooling2D, Flatten\n",
    "from tensorflow.keras.losses import SparseCategoricalCrossentropy\n",
    "\n",
    "from IPython.display import clear_output\n",
    "\n",
    "from scipy.signal import stft\n",
    "\n",
    "from sklearn.model_selection import train_test_split\n",
    "from sklearn.linear_model import LogisticRegression\n",
    "\n",
    "\n",
    "from pathlib import Path\n",
    "import datetime\n",
    "import glob as gl"
   ]
  },
  {
   "cell_type": "markdown",
   "id": "61aef3c4-0312-45f6-acff-885abdc5b89a",
   "metadata": {},
   "source": [
    "## Real Data [206 B]"
   ]
  },
  {
   "cell_type": "code",
   "execution_count": 304,
   "id": "31e8cc85-87d0-433b-9df7-7dc0a9d8c7f6",
   "metadata": {},
   "outputs": [
    {
     "name": "stdout",
     "output_type": "stream",
     "text": [
      "5738070 rows from filepath: 2022-11-13_12-00-00\n",
      "5696160 rows from filepath: 2022-11-13_13-00-00\n",
      "5740890 rows from filepath: 2022-11-13_14-00-00\n"
     ]
    },
    {
     "data": {
      "text/html": [
       "<div>\n",
       "<style scoped>\n",
       "    .dataframe tbody tr th:only-of-type {\n",
       "        vertical-align: middle;\n",
       "    }\n",
       "\n",
       "    .dataframe tbody tr th {\n",
       "        vertical-align: top;\n",
       "    }\n",
       "\n",
       "    .dataframe thead th {\n",
       "        text-align: right;\n",
       "    }\n",
       "</style>\n",
       "<table border=\"1\" class=\"dataframe\">\n",
       "  <thead>\n",
       "    <tr style=\"text-align: right;\">\n",
       "      <th></th>\n",
       "      <th>z</th>\n",
       "      <th>time</th>\n",
       "    </tr>\n",
       "  </thead>\n",
       "  <tbody>\n",
       "    <tr>\n",
       "      <th>0</th>\n",
       "      <td>1014</td>\n",
       "      <td>2022-11-13 12:00:00.000000</td>\n",
       "    </tr>\n",
       "    <tr>\n",
       "      <th>1</th>\n",
       "      <td>1018</td>\n",
       "      <td>2022-11-13 12:00:00.000625</td>\n",
       "    </tr>\n",
       "    <tr>\n",
       "      <th>2</th>\n",
       "      <td>1020</td>\n",
       "      <td>2022-11-13 12:00:00.001250</td>\n",
       "    </tr>\n",
       "    <tr>\n",
       "      <th>3</th>\n",
       "      <td>1018</td>\n",
       "      <td>2022-11-13 12:00:00.001875</td>\n",
       "    </tr>\n",
       "    <tr>\n",
       "      <th>4</th>\n",
       "      <td>1020</td>\n",
       "      <td>2022-11-13 12:00:00.002500</td>\n",
       "    </tr>\n",
       "    <tr>\n",
       "      <th>...</th>\n",
       "      <td>...</td>\n",
       "      <td>...</td>\n",
       "    </tr>\n",
       "    <tr>\n",
       "      <th>17175115</th>\n",
       "      <td>1018</td>\n",
       "      <td>2022-11-13 14:59:48.053125</td>\n",
       "    </tr>\n",
       "    <tr>\n",
       "      <th>17175116</th>\n",
       "      <td>1018</td>\n",
       "      <td>2022-11-13 14:59:48.053750</td>\n",
       "    </tr>\n",
       "    <tr>\n",
       "      <th>17175117</th>\n",
       "      <td>1019</td>\n",
       "      <td>2022-11-13 14:59:48.054375</td>\n",
       "    </tr>\n",
       "    <tr>\n",
       "      <th>17175118</th>\n",
       "      <td>1017</td>\n",
       "      <td>2022-11-13 14:59:48.055000</td>\n",
       "    </tr>\n",
       "    <tr>\n",
       "      <th>17175119</th>\n",
       "      <td>1017</td>\n",
       "      <td>2022-11-13 14:59:48.055625</td>\n",
       "    </tr>\n",
       "  </tbody>\n",
       "</table>\n",
       "<p>17175120 rows × 2 columns</p>\n",
       "</div>"
      ],
      "text/plain": [
       "             z                       time\n",
       "0         1014 2022-11-13 12:00:00.000000\n",
       "1         1018 2022-11-13 12:00:00.000625\n",
       "2         1020 2022-11-13 12:00:00.001250\n",
       "3         1018 2022-11-13 12:00:00.001875\n",
       "4         1020 2022-11-13 12:00:00.002500\n",
       "...        ...                        ...\n",
       "17175115  1018 2022-11-13 14:59:48.053125\n",
       "17175116  1018 2022-11-13 14:59:48.053750\n",
       "17175117  1019 2022-11-13 14:59:48.054375\n",
       "17175118  1017 2022-11-13 14:59:48.055000\n",
       "17175119  1017 2022-11-13 14:59:48.055625\n",
       "\n",
       "[17175120 rows x 2 columns]"
      ]
     },
     "execution_count": 304,
     "metadata": {},
     "output_type": "execute_result"
    }
   ],
   "source": [
    "df_real_data = data_preparation.load_real_data(room=\"206 B\",year=2022, month=11, day=13, startHour=12,lastHour=14)\n",
    "df_real_data"
   ]
  },
  {
   "cell_type": "code",
   "execution_count": 305,
   "id": "f4b59772-0a16-4e37-9af0-5f40a672290b",
   "metadata": {},
   "outputs": [
    {
     "data": {
      "text/html": [
       "<div>\n",
       "<style scoped>\n",
       "    .dataframe tbody tr th:only-of-type {\n",
       "        vertical-align: middle;\n",
       "    }\n",
       "\n",
       "    .dataframe tbody tr th {\n",
       "        vertical-align: top;\n",
       "    }\n",
       "\n",
       "    .dataframe thead th {\n",
       "        text-align: right;\n",
       "    }\n",
       "</style>\n",
       "<table border=\"1\" class=\"dataframe\">\n",
       "  <thead>\n",
       "    <tr style=\"text-align: right;\">\n",
       "      <th></th>\n",
       "      <th>left_t</th>\n",
       "      <th>right_t</th>\n",
       "      <th>z</th>\n",
       "      <th>features</th>\n",
       "    </tr>\n",
       "  </thead>\n",
       "  <tbody>\n",
       "    <tr>\n",
       "      <th>0</th>\n",
       "      <td>2022-11-13 12:00:00.000000</td>\n",
       "      <td>2022-11-13 12:00:10.000000</td>\n",
       "      <td>[1014, 1018, 1020, 1018, 1020, 1020, 1014, 101...</td>\n",
       "      <td>[[3719263.39772316, 2.3690981601563283, 1039.8...</td>\n",
       "    </tr>\n",
       "    <tr>\n",
       "      <th>1</th>\n",
       "      <td>2022-11-13 12:00:05.000000</td>\n",
       "      <td>2022-11-13 12:00:15.000000</td>\n",
       "      <td>[1020, 1020, 1018, 1018, 1016, 1016, 1018, 101...</td>\n",
       "      <td>[[41.623465140625456, 2.3974651406248904, 2.94...</td>\n",
       "    </tr>\n",
       "    <tr>\n",
       "      <th>2</th>\n",
       "      <td>2022-11-13 12:00:10.000000</td>\n",
       "      <td>2022-11-13 12:00:20.000000</td>\n",
       "      <td>[1018, 1016, 1017, 1016, 1020, 1022, 1020, 102...</td>\n",
       "      <td>[[41.32320159765557, 2.470201597656416, 2.9493...</td>\n",
       "    </tr>\n",
       "    <tr>\n",
       "      <th>3</th>\n",
       "      <td>2022-11-13 12:00:15.000000</td>\n",
       "      <td>2022-11-13 12:00:25.000000</td>\n",
       "      <td>[1020, 1018, 1020, 1017, 1015, 1018, 1014, 101...</td>\n",
       "      <td>[[71.20195351562523, 2.4394535156249573, 2.969...</td>\n",
       "    </tr>\n",
       "    <tr>\n",
       "      <th>4</th>\n",
       "      <td>2022-11-13 12:00:20.000000</td>\n",
       "      <td>2022-11-13 12:00:30.000000</td>\n",
       "      <td>[1018, 1018, 1018, 1018, 1018, 1017, 1018, 101...</td>\n",
       "      <td>[[70.58520225000093, 1.9642022500001555, 2.967...</td>\n",
       "    </tr>\n",
       "    <tr>\n",
       "      <th>...</th>\n",
       "      <td>...</td>\n",
       "      <td>...</td>\n",
       "      <td>...</td>\n",
       "      <td>...</td>\n",
       "    </tr>\n",
       "    <tr>\n",
       "      <th>2140</th>\n",
       "      <td>2022-11-13 14:59:13.606250</td>\n",
       "      <td>2022-11-13 14:59:23.606250</td>\n",
       "      <td>[1018, 1018, 1016, 1016, 1018, 1016, 1020, 102...</td>\n",
       "      <td>[[69.45972306249996, 1.7802230624999926, 2.929...</td>\n",
       "    </tr>\n",
       "    <tr>\n",
       "      <th>2141</th>\n",
       "      <td>2022-11-13 14:59:18.606250</td>\n",
       "      <td>2022-11-13 14:59:28.606250</td>\n",
       "      <td>[1018, 1016, 1017, 1018, 1016, 1018, 1018, 102...</td>\n",
       "      <td>[[69.28793550390719, 1.7528105039063993, 2.974...</td>\n",
       "    </tr>\n",
       "    <tr>\n",
       "      <th>2142</th>\n",
       "      <td>2022-11-13 14:59:23.606250</td>\n",
       "      <td>2022-11-13 14:59:33.606250</td>\n",
       "      <td>[1020, 1016, 1015, 1020, 1016, 1020, 1020, 101...</td>\n",
       "      <td>[[68.9969039414065, 1.7067789414062904, 2.9949...</td>\n",
       "    </tr>\n",
       "    <tr>\n",
       "      <th>2143</th>\n",
       "      <td>2022-11-13 14:59:28.606250</td>\n",
       "      <td>2022-11-13 14:59:38.606250</td>\n",
       "      <td>[1018, 1016, 1018, 1017, 1018, 1018, 1020, 102...</td>\n",
       "      <td>[[68.15844003515703, 1.5770650351563689, 3.032...</td>\n",
       "    </tr>\n",
       "    <tr>\n",
       "      <th>2144</th>\n",
       "      <td>2022-11-13 14:59:33.606250</td>\n",
       "      <td>2022-11-13 14:59:43.606250</td>\n",
       "      <td>[1020, 1018, 1018, 1018, 1018, 1018, 1016, 101...</td>\n",
       "      <td>[[46.363332128906, 1.4183321289062933, 3.01598...</td>\n",
       "    </tr>\n",
       "  </tbody>\n",
       "</table>\n",
       "<p>2145 rows × 4 columns</p>\n",
       "</div>"
      ],
      "text/plain": [
       "                         left_t                    right_t  \\\n",
       "0    2022-11-13 12:00:00.000000 2022-11-13 12:00:10.000000   \n",
       "1    2022-11-13 12:00:05.000000 2022-11-13 12:00:15.000000   \n",
       "2    2022-11-13 12:00:10.000000 2022-11-13 12:00:20.000000   \n",
       "3    2022-11-13 12:00:15.000000 2022-11-13 12:00:25.000000   \n",
       "4    2022-11-13 12:00:20.000000 2022-11-13 12:00:30.000000   \n",
       "...                         ...                        ...   \n",
       "2140 2022-11-13 14:59:13.606250 2022-11-13 14:59:23.606250   \n",
       "2141 2022-11-13 14:59:18.606250 2022-11-13 14:59:28.606250   \n",
       "2142 2022-11-13 14:59:23.606250 2022-11-13 14:59:33.606250   \n",
       "2143 2022-11-13 14:59:28.606250 2022-11-13 14:59:38.606250   \n",
       "2144 2022-11-13 14:59:33.606250 2022-11-13 14:59:43.606250   \n",
       "\n",
       "                                                      z  \\\n",
       "0     [1014, 1018, 1020, 1018, 1020, 1020, 1014, 101...   \n",
       "1     [1020, 1020, 1018, 1018, 1016, 1016, 1018, 101...   \n",
       "2     [1018, 1016, 1017, 1016, 1020, 1022, 1020, 102...   \n",
       "3     [1020, 1018, 1020, 1017, 1015, 1018, 1014, 101...   \n",
       "4     [1018, 1018, 1018, 1018, 1018, 1017, 1018, 101...   \n",
       "...                                                 ...   \n",
       "2140  [1018, 1018, 1016, 1016, 1018, 1016, 1020, 102...   \n",
       "2141  [1018, 1016, 1017, 1018, 1016, 1018, 1018, 102...   \n",
       "2142  [1020, 1016, 1015, 1020, 1016, 1020, 1020, 101...   \n",
       "2143  [1018, 1016, 1018, 1017, 1018, 1018, 1020, 102...   \n",
       "2144  [1020, 1018, 1018, 1018, 1018, 1018, 1016, 101...   \n",
       "\n",
       "                                               features  \n",
       "0     [[3719263.39772316, 2.3690981601563283, 1039.8...  \n",
       "1     [[41.623465140625456, 2.3974651406248904, 2.94...  \n",
       "2     [[41.32320159765557, 2.470201597656416, 2.9493...  \n",
       "3     [[71.20195351562523, 2.4394535156249573, 2.969...  \n",
       "4     [[70.58520225000093, 1.9642022500001555, 2.967...  \n",
       "...                                                 ...  \n",
       "2140  [[69.45972306249996, 1.7802230624999926, 2.929...  \n",
       "2141  [[69.28793550390719, 1.7528105039063993, 2.974...  \n",
       "2142  [[68.9969039414065, 1.7067789414062904, 2.9949...  \n",
       "2143  [[68.15844003515703, 1.5770650351563689, 3.032...  \n",
       "2144  [[46.363332128906, 1.4183321289062933, 3.01598...  \n",
       "\n",
       "[2145 rows x 4 columns]"
      ]
     },
     "execution_count": 305,
     "metadata": {},
     "output_type": "execute_result"
    }
   ],
   "source": [
    "df_segmented = data_preparation.shifting_window_segmentation(df_real_data,stepsize= 5)\n",
    "df_segmented"
   ]
  },
  {
   "cell_type": "code",
   "execution_count": 306,
   "id": "af2be7f6-f70e-4259-a46a-ae9a9ff666cd",
   "metadata": {},
   "outputs": [],
   "source": [
    "# df_segmented_real= df_segmented[(df_segmented['left_t'] >= '2022-10-14 18:43:00') & (df_segmented['right_t'] <= '2022-10-14 18:46:00')]\n",
    "# df_segmented_real"
   ]
  },
  {
   "cell_type": "code",
   "execution_count": 307,
   "id": "41fa0652-6e8e-4c60-8ecf-303efe9d11bc",
   "metadata": {},
   "outputs": [],
   "source": [
    "Real_Events = []\n",
    "for i in range(len(df_segmented)):\n",
    "    Real_Events.append(df_segmented[\"features\"].iloc[i].flatten())"
   ]
  },
  {
   "cell_type": "code",
   "execution_count": 308,
   "id": "5a808b3e-bd6c-4325-854f-a14b7be55cf6",
   "metadata": {},
   "outputs": [
    {
     "data": {
      "text/plain": [
       "2145"
      ]
     },
     "execution_count": 308,
     "metadata": {},
     "output_type": "execute_result"
    }
   ],
   "source": [
    "len(Real_Events)"
   ]
  },
  {
   "cell_type": "markdown",
   "id": "25dce82f-23e8-4bec-b8f8-949ac5c65cb1",
   "metadata": {},
   "source": [
    "# 1. Logistische Regression"
   ]
  },
  {
   "cell_type": "markdown",
   "id": "8f3d8339-0ca1-4cbb-a074-790efedb6d02",
   "metadata": {},
   "source": [
    "### Training"
   ]
  },
  {
   "cell_type": "code",
   "execution_count": 11,
   "id": "4646ad7f-368b-4e5a-bb41-659ac3509ed5",
   "metadata": {},
   "outputs": [
    {
     "name": "stderr",
     "output_type": "stream",
     "text": [
      "/home/ing2146/Final/SNEHA/lib/data_preparation.py:202: VisibleDeprecationWarning: Creating an ndarray from ragged nested sequences (which is a list-or-tuple of lists-or-tuples-or ndarrays with different lengths or shapes) is deprecated. If you meant to do this, you must specify 'dtype=object' when creating the ndarray.\n",
      "  All_Events_Data = np.array(All_Events_Data)[shuffler]\n",
      "/home/ing2146/Final/SNEHA/lib/data_preparation.py:226: VisibleDeprecationWarning: Creating an ndarray from ragged nested sequences (which is a list-or-tuple of lists-or-tuples-or ndarrays with different lengths or shapes) is deprecated. If you meant to do this, you must specify 'dtype=object' when creating the ndarray.\n",
      "  df_fake_dummy_Data = np.array(df_fake_dummy_Data)\n"
     ]
    }
   ],
   "source": [
    "fake_lab_data = data_preparation.fake_lab_data()\n",
    "fake_data = fake_lab_data[0]\n",
    "All_Events = fake_lab_data[1]\n",
    "All_Labels = fake_lab_data[2]"
   ]
  },
  {
   "cell_type": "code",
   "execution_count": 12,
   "id": "a315cc2d-0290-4f32-90cd-69734df3dcc8",
   "metadata": {},
   "outputs": [],
   "source": [
    "x = All_Events\n",
    "y = All_Labels"
   ]
  },
  {
   "cell_type": "code",
   "execution_count": 13,
   "id": "af4fe9c4-8bea-4d83-bb10-bc65df7c96b5",
   "metadata": {},
   "outputs": [
    {
     "data": {
      "text/html": [
       "<div>\n",
       "<style scoped>\n",
       "    .dataframe tbody tr th:only-of-type {\n",
       "        vertical-align: middle;\n",
       "    }\n",
       "\n",
       "    .dataframe tbody tr th {\n",
       "        vertical-align: top;\n",
       "    }\n",
       "\n",
       "    .dataframe thead th {\n",
       "        text-align: right;\n",
       "    }\n",
       "</style>\n",
       "<table border=\"1\" class=\"dataframe\">\n",
       "  <thead>\n",
       "    <tr style=\"text-align: right;\">\n",
       "      <th>col_0</th>\n",
       "      <th>0</th>\n",
       "      <th>1</th>\n",
       "    </tr>\n",
       "    <tr>\n",
       "      <th>row_0</th>\n",
       "      <th></th>\n",
       "      <th></th>\n",
       "    </tr>\n",
       "  </thead>\n",
       "  <tbody>\n",
       "    <tr>\n",
       "      <th>0</th>\n",
       "      <td>3989</td>\n",
       "      <td>0</td>\n",
       "    </tr>\n",
       "    <tr>\n",
       "      <th>1</th>\n",
       "      <td>0</td>\n",
       "      <td>227</td>\n",
       "    </tr>\n",
       "  </tbody>\n",
       "</table>\n",
       "</div>"
      ],
      "text/plain": [
       "col_0     0    1\n",
       "row_0           \n",
       "0      3989    0\n",
       "1         0  227"
      ]
     },
     "execution_count": 13,
     "metadata": {},
     "output_type": "execute_result"
    }
   ],
   "source": [
    "x_train, x_test, y_train, y_test = train_test_split(x, y.ravel(), test_size=0.2)\n",
    "lr = LogisticRegression(max_iter=1000).fit(x_train, y_train)\n",
    "pd.crosstab(lr.predict(x_test), y_test)"
   ]
  },
  {
   "cell_type": "code",
   "execution_count": 309,
   "id": "943366fe-a2a9-4b69-82c1-5dc782fb26b8",
   "metadata": {},
   "outputs": [],
   "source": [
    "prediction = lr.predict(Real_Events)"
   ]
  },
  {
   "cell_type": "code",
   "execution_count": 310,
   "id": "0608c67d-c221-4261-a356-75fd8c0adf4b",
   "metadata": {},
   "outputs": [
    {
     "data": {
      "text/plain": [
       "605"
      ]
     },
     "execution_count": 310,
     "metadata": {},
     "output_type": "execute_result"
    }
   ],
   "source": [
    " len(prediction[prediction == 1])"
   ]
  },
  {
   "cell_type": "code",
   "execution_count": 311,
   "id": "f6283e0e-479f-4dfd-936c-6213cc610653",
   "metadata": {},
   "outputs": [],
   "source": [
    "df_segmented[\"predicted\"] = prediction"
   ]
  },
  {
   "cell_type": "code",
   "execution_count": 312,
   "id": "9e5389a6-daa6-42bb-b4cb-3572e1e70a92",
   "metadata": {},
   "outputs": [
    {
     "data": {
      "text/html": [
       "<div>\n",
       "<style scoped>\n",
       "    .dataframe tbody tr th:only-of-type {\n",
       "        vertical-align: middle;\n",
       "    }\n",
       "\n",
       "    .dataframe tbody tr th {\n",
       "        vertical-align: top;\n",
       "    }\n",
       "\n",
       "    .dataframe thead th {\n",
       "        text-align: right;\n",
       "    }\n",
       "</style>\n",
       "<table border=\"1\" class=\"dataframe\">\n",
       "  <thead>\n",
       "    <tr style=\"text-align: right;\">\n",
       "      <th></th>\n",
       "      <th>left_t</th>\n",
       "      <th>right_t</th>\n",
       "      <th>z</th>\n",
       "      <th>features</th>\n",
       "      <th>predicted</th>\n",
       "    </tr>\n",
       "  </thead>\n",
       "  <tbody>\n",
       "    <tr>\n",
       "      <th>0</th>\n",
       "      <td>2022-11-13 12:00:00.000000</td>\n",
       "      <td>2022-11-13 12:00:10.000000</td>\n",
       "      <td>[1014, 1018, 1020, 1018, 1020, 1020, 1014, 101...</td>\n",
       "      <td>[[3719263.39772316, 2.3690981601563283, 1039.8...</td>\n",
       "      <td>1</td>\n",
       "    </tr>\n",
       "    <tr>\n",
       "      <th>1</th>\n",
       "      <td>2022-11-13 12:00:05.000000</td>\n",
       "      <td>2022-11-13 12:00:15.000000</td>\n",
       "      <td>[1020, 1020, 1018, 1018, 1016, 1016, 1018, 101...</td>\n",
       "      <td>[[41.623465140625456, 2.3974651406248904, 2.94...</td>\n",
       "      <td>0</td>\n",
       "    </tr>\n",
       "    <tr>\n",
       "      <th>2</th>\n",
       "      <td>2022-11-13 12:00:10.000000</td>\n",
       "      <td>2022-11-13 12:00:20.000000</td>\n",
       "      <td>[1018, 1016, 1017, 1016, 1020, 1022, 1020, 102...</td>\n",
       "      <td>[[41.32320159765557, 2.470201597656416, 2.9493...</td>\n",
       "      <td>0</td>\n",
       "    </tr>\n",
       "    <tr>\n",
       "      <th>3</th>\n",
       "      <td>2022-11-13 12:00:15.000000</td>\n",
       "      <td>2022-11-13 12:00:25.000000</td>\n",
       "      <td>[1020, 1018, 1020, 1017, 1015, 1018, 1014, 101...</td>\n",
       "      <td>[[71.20195351562523, 2.4394535156249573, 2.969...</td>\n",
       "      <td>0</td>\n",
       "    </tr>\n",
       "    <tr>\n",
       "      <th>4</th>\n",
       "      <td>2022-11-13 12:00:20.000000</td>\n",
       "      <td>2022-11-13 12:00:30.000000</td>\n",
       "      <td>[1018, 1018, 1018, 1018, 1018, 1017, 1018, 101...</td>\n",
       "      <td>[[70.58520225000093, 1.9642022500001555, 2.967...</td>\n",
       "      <td>0</td>\n",
       "    </tr>\n",
       "    <tr>\n",
       "      <th>...</th>\n",
       "      <td>...</td>\n",
       "      <td>...</td>\n",
       "      <td>...</td>\n",
       "      <td>...</td>\n",
       "      <td>...</td>\n",
       "    </tr>\n",
       "    <tr>\n",
       "      <th>2140</th>\n",
       "      <td>2022-11-13 14:59:13.606250</td>\n",
       "      <td>2022-11-13 14:59:23.606250</td>\n",
       "      <td>[1018, 1018, 1016, 1016, 1018, 1016, 1020, 102...</td>\n",
       "      <td>[[69.45972306249996, 1.7802230624999926, 2.929...</td>\n",
       "      <td>0</td>\n",
       "    </tr>\n",
       "    <tr>\n",
       "      <th>2141</th>\n",
       "      <td>2022-11-13 14:59:18.606250</td>\n",
       "      <td>2022-11-13 14:59:28.606250</td>\n",
       "      <td>[1018, 1016, 1017, 1018, 1016, 1018, 1018, 102...</td>\n",
       "      <td>[[69.28793550390719, 1.7528105039063993, 2.974...</td>\n",
       "      <td>0</td>\n",
       "    </tr>\n",
       "    <tr>\n",
       "      <th>2142</th>\n",
       "      <td>2022-11-13 14:59:23.606250</td>\n",
       "      <td>2022-11-13 14:59:33.606250</td>\n",
       "      <td>[1020, 1016, 1015, 1020, 1016, 1020, 1020, 101...</td>\n",
       "      <td>[[68.9969039414065, 1.7067789414062904, 2.9949...</td>\n",
       "      <td>0</td>\n",
       "    </tr>\n",
       "    <tr>\n",
       "      <th>2143</th>\n",
       "      <td>2022-11-13 14:59:28.606250</td>\n",
       "      <td>2022-11-13 14:59:38.606250</td>\n",
       "      <td>[1018, 1016, 1018, 1017, 1018, 1018, 1020, 102...</td>\n",
       "      <td>[[68.15844003515703, 1.5770650351563689, 3.032...</td>\n",
       "      <td>0</td>\n",
       "    </tr>\n",
       "    <tr>\n",
       "      <th>2144</th>\n",
       "      <td>2022-11-13 14:59:33.606250</td>\n",
       "      <td>2022-11-13 14:59:43.606250</td>\n",
       "      <td>[1020, 1018, 1018, 1018, 1018, 1018, 1016, 101...</td>\n",
       "      <td>[[46.363332128906, 1.4183321289062933, 3.01598...</td>\n",
       "      <td>0</td>\n",
       "    </tr>\n",
       "  </tbody>\n",
       "</table>\n",
       "<p>2145 rows × 5 columns</p>\n",
       "</div>"
      ],
      "text/plain": [
       "                         left_t                    right_t  \\\n",
       "0    2022-11-13 12:00:00.000000 2022-11-13 12:00:10.000000   \n",
       "1    2022-11-13 12:00:05.000000 2022-11-13 12:00:15.000000   \n",
       "2    2022-11-13 12:00:10.000000 2022-11-13 12:00:20.000000   \n",
       "3    2022-11-13 12:00:15.000000 2022-11-13 12:00:25.000000   \n",
       "4    2022-11-13 12:00:20.000000 2022-11-13 12:00:30.000000   \n",
       "...                         ...                        ...   \n",
       "2140 2022-11-13 14:59:13.606250 2022-11-13 14:59:23.606250   \n",
       "2141 2022-11-13 14:59:18.606250 2022-11-13 14:59:28.606250   \n",
       "2142 2022-11-13 14:59:23.606250 2022-11-13 14:59:33.606250   \n",
       "2143 2022-11-13 14:59:28.606250 2022-11-13 14:59:38.606250   \n",
       "2144 2022-11-13 14:59:33.606250 2022-11-13 14:59:43.606250   \n",
       "\n",
       "                                                      z  \\\n",
       "0     [1014, 1018, 1020, 1018, 1020, 1020, 1014, 101...   \n",
       "1     [1020, 1020, 1018, 1018, 1016, 1016, 1018, 101...   \n",
       "2     [1018, 1016, 1017, 1016, 1020, 1022, 1020, 102...   \n",
       "3     [1020, 1018, 1020, 1017, 1015, 1018, 1014, 101...   \n",
       "4     [1018, 1018, 1018, 1018, 1018, 1017, 1018, 101...   \n",
       "...                                                 ...   \n",
       "2140  [1018, 1018, 1016, 1016, 1018, 1016, 1020, 102...   \n",
       "2141  [1018, 1016, 1017, 1018, 1016, 1018, 1018, 102...   \n",
       "2142  [1020, 1016, 1015, 1020, 1016, 1020, 1020, 101...   \n",
       "2143  [1018, 1016, 1018, 1017, 1018, 1018, 1020, 102...   \n",
       "2144  [1020, 1018, 1018, 1018, 1018, 1018, 1016, 101...   \n",
       "\n",
       "                                               features  predicted  \n",
       "0     [[3719263.39772316, 2.3690981601563283, 1039.8...          1  \n",
       "1     [[41.623465140625456, 2.3974651406248904, 2.94...          0  \n",
       "2     [[41.32320159765557, 2.470201597656416, 2.9493...          0  \n",
       "3     [[71.20195351562523, 2.4394535156249573, 2.969...          0  \n",
       "4     [[70.58520225000093, 1.9642022500001555, 2.967...          0  \n",
       "...                                                 ...        ...  \n",
       "2140  [[69.45972306249996, 1.7802230624999926, 2.929...          0  \n",
       "2141  [[69.28793550390719, 1.7528105039063993, 2.974...          0  \n",
       "2142  [[68.9969039414065, 1.7067789414062904, 2.9949...          0  \n",
       "2143  [[68.15844003515703, 1.5770650351563689, 3.032...          0  \n",
       "2144  [[46.363332128906, 1.4183321289062933, 3.01598...          0  \n",
       "\n",
       "[2145 rows x 5 columns]"
      ]
     },
     "execution_count": 312,
     "metadata": {},
     "output_type": "execute_result"
    }
   ],
   "source": [
    "df_segmented"
   ]
  },
  {
   "cell_type": "code",
   "execution_count": null,
   "id": "8ed7e822-e104-4bec-a510-0884785e42c2",
   "metadata": {},
   "outputs": [],
   "source": [
    "for i, event in enumerate(Real_Events):\n",
    "    if ((df_segmented['predicted'].iloc[i]) == 1):\n",
    "            data_preparation.stft_plot(label = \"real fall\" + str(i), data = df_segmented['z'].iloc[i])\n",
    "    else:\n",
    "        continue\n",
    "    "
   ]
  },
  {
   "cell_type": "code",
   "execution_count": 314,
   "id": "a42b7b7f-378c-4cc4-9bf9-8582386be5e9",
   "metadata": {},
   "outputs": [
    {
     "data": {
      "image/png": "[encoded data removed]",
      "text/plain": [
       "<Figure size 800x500 with 1 Axes>"
      ]
     },
     "metadata": {},
     "output_type": "display_data"
    }
   ],
   "source": [
    "data_preparation.stft_plot(label = \"real fall\", data = df_segmented['z'].iloc[588])"
   ]
  },
  {
   "cell_type": "raw",
   "id": "102e08f5-7108-4c33-8b34-a04939cd81c9",
   "metadata": {},
   "source": [
    "- Room 206 B (13.11.2022) \n",
    "- time: 12:00 - 14:00"
   ]
  },
  {
   "cell_type": "code",
   "execution_count": null,
   "id": "ddc334b6-6bb5-4c33-ba87-a990984c6880",
   "metadata": {},
   "outputs": [],
   "source": []
  }
 ],
 "metadata": {
  "kernelspec": {
   "display_name": "Python 3.10 / pyspotseven",
   "language": "python",
   "name": "py310-pyspotseven"
  },
  "language_info": {
   "codemirror_mode": {
    "name": "ipython",
    "version": 3
   },
   "file_extension": ".py",
   "mimetype": "text/x-python",
   "name": "python",
   "nbconvert_exporter": "python",
   "pygments_lexer": "ipython3",
   "version": "3.10.8"
  }
 },
 "nbformat": 4,
 "nbformat_minor": 5
}
