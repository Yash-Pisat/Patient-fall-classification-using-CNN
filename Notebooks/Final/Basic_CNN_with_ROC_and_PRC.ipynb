{
 "cells": [
  {
   "cell_type": "markdown",
   "id": "c3f164db-9bcd-47f7-a7df-1ea5fd1e4d52",
   "metadata": {},
   "source": [
    "# Classificator with all dummy data augmentation technqiues (including combinations)"
   ]
  },
  {
   "cell_type": "code",
   "execution_count": 1,
   "id": "6faa47b7-8263-4596-a04d-64be30a1ce65",
   "metadata": {},
   "outputs": [
    {
     "name": "stderr",
     "output_type": "stream",
     "text": [
      "2022-12-13 02:26:55.390481: I tensorflow/core/platform/cpu_feature_guard.cc:193] This TensorFlow binary is optimized with oneAPI Deep Neural Network Library (oneDNN) to use the following CPU instructions in performance-critical operations:  SSE4.1 SSE4.2 AVX AVX2 AVX512F FMA\n",
      "To enable them in other operations, rebuild TensorFlow with the appropriate compiler flags.\n"
     ]
    }
   ],
   "source": [
    "from lib import Augmentation_methods\n",
    "from lib import data_preparation\n",
    "\n",
    "import matplotlib.pyplot as plt\n",
    "from scipy.signal import stft\n",
    "import numpy as np\n",
    "import pandas as pd\n",
    "from pathlib import Path\n",
    "\n",
    "from sklearn.model_selection import train_test_split\n",
    "\n",
    "import tensorflow as tf\n",
    "from tensorflow import keras\n",
    "from tensorflow.keras.models import Sequential\n",
    "from tensorflow.keras.layers import Dense, Conv2D, MaxPooling2D, Flatten\n",
    "from tensorflow.keras.regularizers import l2\n",
    "from IPython.display import clear_output"
   ]
  },
  {
   "cell_type": "code",
   "execution_count": 2,
   "id": "bb2c24e5-fc48-4cda-a1ef-6435c5e4d418",
   "metadata": {},
   "outputs": [],
   "source": [
    "BASEDIR = Path(\"/store/projects/fallki/\")\n",
    "FAKEDIR = BASEDIR / \"Fake-Events\" / \"2. Fake-Events Messung\"\n",
    "\n",
    "# BASEDIR = pathlib.Path('/store/projects/fallki/')\n",
    "# FAKEDIR = pathlib.Path('Fake-Events/2. Fake-Events Messung/')\n",
    "df_fake = pd.read_parquet(BASEDIR / FAKEDIR / 'gSensoren_FakeEvents.parquet')"
   ]
  },
  {
   "cell_type": "markdown",
   "id": "61aef3c4-0312-45f6-acff-885abdc5b89a",
   "metadata": {},
   "source": [
    "### Dummy Data"
   ]
  },
  {
   "cell_type": "code",
   "execution_count": 3,
   "id": "e2467649-c0bb-4045-83ff-1fdad9cd055c",
   "metadata": {},
   "outputs": [
    {
     "name": "stderr",
     "output_type": "stream",
     "text": [
      "/home/ing2146/Final/SNEHA/lib/data_preparation.py:202: VisibleDeprecationWarning: Creating an ndarray from ragged nested sequences (which is a list-or-tuple of lists-or-tuples-or ndarrays with different lengths or shapes) is deprecated. If you meant to do this, you must specify 'dtype=object' when creating the ndarray.\n",
      "  All_Events_Data = np.array(All_Events_Data)[shuffler]\n",
      "/home/ing2146/Final/SNEHA/lib/data_preparation.py:226: VisibleDeprecationWarning: Creating an ndarray from ragged nested sequences (which is a list-or-tuple of lists-or-tuples-or ndarrays with different lengths or shapes) is deprecated. If you meant to do this, you must specify 'dtype=object' when creating the ndarray.\n",
      "  df_fake_dummy_Data = np.array(df_fake_dummy_Data)\n"
     ]
    }
   ],
   "source": [
    "dummy_lab_data = data_preparation.fake_lab_data()\n"
   ]
  },
  {
   "cell_type": "code",
   "execution_count": 4,
   "id": "d1c37e1d-568a-4f9e-9599-f19f004f9721",
   "metadata": {},
   "outputs": [
    {
     "data": {
      "text/plain": [
       "array([array([1028., 1030., 1028., ..., 1032., 1030., 1028.]),\n",
       "       array([1038., 1040., 1040., ..., 1034., 1040., 1036.]),\n",
       "       array([1038., 1040., 1042., ..., 1038., 1034., 1040.]),\n",
       "       array([1039., 1039., 1037., ..., 1041., 1041., 1041.]),\n",
       "       array([1030., 1030., 1032., ..., 1030., 1030., 1030.]),\n",
       "       array([1039., 1041., 1039., ..., 1039., 1043., 1043.]),\n",
       "       array([1035., 1037., 1039., ..., 1037., 1041., 1043.]),\n",
       "       array([1040., 1038., 1036., ..., 1036., 1040., 1036.]),\n",
       "       array([1026., 1030., 1028., ..., 1026., 1028., 1028.]),\n",
       "       array([1039., 1038., 1039., ..., 1041., 1043., 1041.]),\n",
       "       array([1035., 1040., 1038., ..., 1036., 1036., 1038.]),\n",
       "       array([1028., 1026., 1030., ..., 1030., 1028., 1028.]),\n",
       "       array([1028., 1026., 1026., ..., 1026., 1026., 1026.]),\n",
       "       array([1037., 1036., 1035., ..., 1040., 1039., 1037.]),\n",
       "       array([1040., 1036., 1036., ..., 1040., 1038., 1040.]),\n",
       "       array([1035., 1039., 1039., ..., 1041., 1039., 1039.]),\n",
       "       array([1030., 1026., 1028., ..., 1028., 1026., 1030.]),\n",
       "       array([1040., 1038., 1040., ..., 1036., 1040., 1036.]),\n",
       "       array([1038., 1038., 1038., ..., 1038., 1038., 1038.]),\n",
       "       array([1039., 1039., 1039., ..., 1037., 1037., 1039.]),\n",
       "       array([1038., 1039., 1034., ..., 1036., 1040., 1036.]),\n",
       "       array([-2054., -2058., -2050., ..., -2059., -2056., -2057.]),\n",
       "       array([1038., 1035., 1037., ..., 1037., 1039., 1039.]),\n",
       "       array([-2050., -2057., -2062., ..., -2053., -2056., -2057.]),\n",
       "       array([1040., 1040., 1038., ..., 1040., 1040., 1036.]),\n",
       "       array([-2059., -2059., -2056., ..., -2055., -2053., -2053.]),\n",
       "       array([1039., 1041., 1039., ..., 1043., 1039., 1037.]),\n",
       "       array([1028., 1030., 1032., ..., 1031., 1028., 1028.]),\n",
       "       array([1040., 1040., 1040., ..., 1040., 1040., 1038.]),\n",
       "       array([1038., 1036., 1040., ..., 1038., 1034., 1039.]),\n",
       "       array([1039., 1039., 1041., ..., 1037., 1037., 1037.]),\n",
       "       array([1030., 1028., 1026., ..., 1028., 1026., 1026.]),\n",
       "       array([1037., 1033., 1035., ..., 1039., 1039., 1041.]),\n",
       "       array([1039., 1035., 1043., ..., 1037., 1039., 1039.]),\n",
       "       array([1042., 1040., 1042., ..., 1040., 1042., 1040.]),\n",
       "       array([1026., 1028., 1026., ..., 1028., 1028., 1030.]),\n",
       "       array([1036., 1040., 1038., ..., 1038., 1038., 1038.]),\n",
       "       array([1026., 1030., 1030., ..., 1028., 1028., 1026.]),\n",
       "       array([1041., 1037., 1041., ..., 1039., 1039., 1037.]),\n",
       "       array([1036., 1040., 1038., ..., 1040., 1038., 1038.]),\n",
       "       array([1040., 1041., 1037., ..., 1041., 1037., 1037.]),\n",
       "       array([1030., 1030., 1030., ..., 1028., 1028., 1028.]),\n",
       "       array([1028., 1032., 1030., ..., 1026., 1030., 1028.]),\n",
       "       array([1040., 1040., 1036., ..., 1038., 1038., 1034.]),\n",
       "       array([1039., 1037., 1039., ..., 1039., 1043., 1039.]),\n",
       "       array([1037., 1038., 1040., ..., 1040., 1040., 1038.]),\n",
       "       array([1039., 1039., 1039., ..., 1039., 1039., 1039.]),\n",
       "       array([1024., 1026., 1024., ..., 1026., 1024., 1028.]),\n",
       "       array([1036., 1036., 1038., ..., 1038., 1036., 1036.]),\n",
       "       array([1041., 1042., 1039., ..., 1039., 1037., 1039.]),\n",
       "       array([1036., 1034., 1036., ..., 1038., 1038., 1036.]),\n",
       "       array([1028., 1024., 1026., ..., 1026., 1026., 1026.]),\n",
       "       array([1024., 1026., 1028., ..., 1028., 1026., 1026.]),\n",
       "       array([1041., 1035., 1037., ..., 1037., 1037., 1039.]),\n",
       "       array([1038., 1040., 1040., ..., 1040., 1038., 1042.]),\n",
       "       array([1037., 1039., 1041., ..., 1039., 1041., 1037.]),\n",
       "       array([1040., 1036., 1038., ..., 1040., 1040., 1040.]),\n",
       "       array([-2055., -2056., -2055., ..., -2062., -2056., -2054.]),\n",
       "       array([1039., 1039., 1041., ..., 1039., 1041., 1037.]),\n",
       "       array([-2054., -2051., -2058., ..., -2061., -2053., -2064.]),\n",
       "       array([1040., 1036., 1036., ..., 1040., 1038., 1040.]),\n",
       "       array([-2055., -2053., -2052., ..., -2055., -2051., -2058.]),\n",
       "       array([1043., 1039., 1039., ..., 1039., 1039., 1039.]),\n",
       "       array([1040., 1036., 1038., ..., 1036., 1038., 1040.]),\n",
       "       array([1030., 1026., 1028., ..., 1026., 1028., 1028.]),\n",
       "       array([1039., 1039., 1039., ..., 1043., 1041., 1041.]),\n",
       "       array([1039., 1037., 1037., ..., 1037., 1039., 1039.]),\n",
       "       array([1026., 1026., 1024., ..., 1026., 1024., 1028.]),\n",
       "       array([1039., 1037., 1035., ..., 1035., 1035., 1037.]),\n",
       "       array([1036., 1038., 1040., ..., 1038., 1040., 1040.]),\n",
       "       array([1028., 1026., 1029., ..., 1026., 1026., 1030.]),\n",
       "       array([1038., 1040., 1036., ..., 1038., 1038., 1036.])],\n",
       "      dtype=object)"
      ]
     },
     "execution_count": 4,
     "metadata": {},
     "output_type": "execute_result"
    }
   ],
   "source": [
    "dummy_lab_data[0]"
   ]
  },
  {
   "cell_type": "markdown",
   "id": "46329179-7f96-4bc2-9ace-e7e38173993c",
   "metadata": {},
   "source": [
    "### Augmented data preparation from different DA techniques"
   ]
  },
  {
   "cell_type": "code",
   "execution_count": 5,
   "id": "63590091-17bc-4fa3-b1c1-d8c73aab93b3",
   "metadata": {},
   "outputs": [
    {
     "name": "stderr",
     "output_type": "stream",
     "text": [
      "/tmp/ipykernel_1847989/1361715336.py:50: VisibleDeprecationWarning: Creating an ndarray from ragged nested sequences (which is a list-or-tuple of lists-or-tuples-or ndarrays with different lengths or shapes) is deprecated. If you meant to do this, you must specify 'dtype=object' when creating the ndarray.\n",
      "  augmented_dummy_array = np.array(augmented_dummy)\n"
     ]
    }
   ],
   "source": [
    "augmented_dummy = []\n",
    "\n",
    "for i, event in enumerate(dummy_lab_data[0]): \n",
    "    \n",
    "    #Jittering\n",
    "    Noise_dummy = Augmentation_methods.add_white_noise(event, 0.15) \n",
    "    augmented_dummy.append(Noise_dummy)\n",
    "    \n",
    "    #Magnitude Warping\n",
    "    magnitude_warped_dummy =  Augmentation_methods.magnitudewarping(event,0.1, 20) \n",
    "    augmented_dummy.append(magnitude_warped_dummy[1])\n",
    "    \n",
    "    #Time Warping\n",
    "    Time_warped_dummy = Augmentation_methods.DA_TimeWarp(event, 0.3, 4) \n",
    "    augmented_dummy.append(Time_warped_dummy[2])\n",
    "    \n",
    "    #Window Warping\n",
    "    window_warped_dummy = Augmentation_methods.windowWarp(event, window_ratio=0.1, scales=[0.5, 2.]) \n",
    "    augmented_dummy.append(window_warped_dummy)\n",
    "    \n",
    "    #Permutation\n",
    "    permutated_dummy = Augmentation_methods.Permutation(event, nPerm=4, minSegLength=10) \n",
    "    augmented_dummy.append(permutated_dummy[1])\n",
    "    \n",
    "    #Jittering + Magnitude warping\n",
    "    curve_JMW, jittered_magnitude_warped_dummy  =  Augmentation_methods.magnitudewarping((Augmentation_methods.add_white_noise(event, 0.50)),0.1, 10)\n",
    "    augmented_dummy.append(jittered_magnitude_warped_dummy)\n",
    "    \n",
    "    #Jittering + Time warping\n",
    "    jittered_time_curve,Jittered_Time_warped_dummy, Jittered_Time_warped_dummy_stft = Augmentation_methods.DA_TimeWarp((Augmentation_methods.add_white_noise(event, 0.50)), 0.3, 4)\n",
    "    augmented_dummy.append(Jittered_Time_warped_dummy_stft)\n",
    "    \n",
    "    #Jittering + window warping\n",
    "    Jittered_window_warped_dummy = Augmentation_methods.windowWarp((Augmentation_methods.add_white_noise(event, 0.50)), window_ratio=0.1, scales=[0.5, 2.])\n",
    "    augmented_dummy.append(Jittered_window_warped_dummy)\n",
    "    \n",
    "    #magnitude warping + window warping\n",
    "    mag_warped  =  Augmentation_methods.magnitudewarping(event,0.1, 10)\n",
    "    mag_window_warped_dummy = Augmentation_methods.windowWarp(mag_warped[1] , window_ratio=0.1, scales=[0.5, 2.])\n",
    "    augmented_dummy.append(mag_window_warped_dummy)\n",
    "    \n",
    "    #Time warping + window warping\n",
    "    t_warped = Augmentation_methods.DA_TimeWarp(event, 0.3, 4)\n",
    "    time_window_warped_dummy = Augmentation_methods.windowWarp(t_warped[2] , window_ratio=0.1, scales=[0.5, 2.])\n",
    "    augmented_dummy.append(time_window_warped_dummy)\n",
    "    \n",
    "    \n",
    "    \n",
    "    \n",
    "augmented_dummy_array = np.array(augmented_dummy)    "
   ]
  },
  {
   "cell_type": "code",
   "execution_count": 6,
   "id": "f3443bd4-b989-49e7-bea5-4a6360442e4c",
   "metadata": {},
   "outputs": [],
   "source": [
    "augmented_dummy_array_df =pd.DataFrame(augmented_dummy_array,columns=['z'])"
   ]
  },
  {
   "cell_type": "code",
   "execution_count": 7,
   "id": "48673f8b-8dd9-4839-b62a-c1a8a8601c61",
   "metadata": {},
   "outputs": [
    {
     "data": {
      "text/html": [
       "<div>\n",
       "<style scoped>\n",
       "    .dataframe tbody tr th:only-of-type {\n",
       "        vertical-align: middle;\n",
       "    }\n",
       "\n",
       "    .dataframe tbody tr th {\n",
       "        vertical-align: top;\n",
       "    }\n",
       "\n",
       "    .dataframe thead th {\n",
       "        text-align: right;\n",
       "    }\n",
       "</style>\n",
       "<table border=\"1\" class=\"dataframe\">\n",
       "  <thead>\n",
       "    <tr style=\"text-align: right;\">\n",
       "      <th></th>\n",
       "      <th>z</th>\n",
       "    </tr>\n",
       "  </thead>\n",
       "  <tbody>\n",
       "    <tr>\n",
       "      <th>0</th>\n",
       "      <td>[1022.6378652095445, 1032.3648889226197, 1030....</td>\n",
       "    </tr>\n",
       "    <tr>\n",
       "      <th>1</th>\n",
       "      <td>[1062.8514969522757, 1064.4565177640638, 1061....</td>\n",
       "    </tr>\n",
       "    <tr>\n",
       "      <th>2</th>\n",
       "      <td>[1028.0, 1029.8677830747301, 1029.728315000741...</td>\n",
       "    </tr>\n",
       "    <tr>\n",
       "      <th>3</th>\n",
       "      <td>[1028.0, 1029.7999875459243, 1028.400024908151...</td>\n",
       "    </tr>\n",
       "    <tr>\n",
       "      <th>4</th>\n",
       "      <td>[1028.0, 1030.0, 1028.0, 1030.0, 1030.0, 1028....</td>\n",
       "    </tr>\n",
       "    <tr>\n",
       "      <th>...</th>\n",
       "      <td>...</td>\n",
       "    </tr>\n",
       "    <tr>\n",
       "      <th>715</th>\n",
       "      <td>[956.2701698758898, 941.1308758323677, 953.990...</td>\n",
       "    </tr>\n",
       "    <tr>\n",
       "      <th>716</th>\n",
       "      <td>[1041.797297897999, 1041.797297897999, 1040.90...</td>\n",
       "    </tr>\n",
       "    <tr>\n",
       "      <th>717</th>\n",
       "      <td>[1052.4950849192267, 1050.6562332469832, 1044....</td>\n",
       "    </tr>\n",
       "    <tr>\n",
       "      <th>718</th>\n",
       "      <td>[1237.6808360153868, 1239.1068110546225, 1234....</td>\n",
       "    </tr>\n",
       "    <tr>\n",
       "      <th>719</th>\n",
       "      <td>[1038.0, 1038.2467585601523, 1038.955464424639...</td>\n",
       "    </tr>\n",
       "  </tbody>\n",
       "</table>\n",
       "<p>720 rows × 1 columns</p>\n",
       "</div>"
      ],
      "text/plain": [
       "                                                     z\n",
       "0    [1022.6378652095445, 1032.3648889226197, 1030....\n",
       "1    [1062.8514969522757, 1064.4565177640638, 1061....\n",
       "2    [1028.0, 1029.8677830747301, 1029.728315000741...\n",
       "3    [1028.0, 1029.7999875459243, 1028.400024908151...\n",
       "4    [1028.0, 1030.0, 1028.0, 1030.0, 1030.0, 1028....\n",
       "..                                                 ...\n",
       "715  [956.2701698758898, 941.1308758323677, 953.990...\n",
       "716  [1041.797297897999, 1041.797297897999, 1040.90...\n",
       "717  [1052.4950849192267, 1050.6562332469832, 1044....\n",
       "718  [1237.6808360153868, 1239.1068110546225, 1234....\n",
       "719  [1038.0, 1038.2467585601523, 1038.955464424639...\n",
       "\n",
       "[720 rows x 1 columns]"
      ]
     },
     "execution_count": 7,
     "metadata": {},
     "output_type": "execute_result"
    }
   ],
   "source": [
    "augmented_dummy_array_df"
   ]
  },
  {
   "cell_type": "markdown",
   "id": "2537cbda-4a3b-4100-95a7-3e4784f9633b",
   "metadata": {},
   "source": [
    "## Data Preparation  "
   ]
  },
  {
   "cell_type": "code",
   "execution_count": 8,
   "id": "7a1c9487-b42a-4f0b-8e15-43c6f5d995e0",
   "metadata": {},
   "outputs": [],
   "source": [
    "def SignalToSpectrum(signal, samplerate=1600):\n",
    "    SIGNAL_LENGTH = samplerate * 10\n",
    "    F = stft(signal[:SIGNAL_LENGTH], 1600, nperseg=128)[2]\n",
    "    F = F[2:,]\n",
    "    return np.expand_dims(np.abs(F), axis=2) # Add extra dimension for TF Conv2D"
   ]
  },
  {
   "cell_type": "markdown",
   "id": "1623b07c-1ed0-4eca-9392-f6bd26479796",
   "metadata": {},
   "source": [
    "### Augmented dummy data "
   ]
  },
  {
   "cell_type": "code",
   "execution_count": 9,
   "id": "d1739e3c-18a3-4bfe-b857-78c2a480a347",
   "metadata": {},
   "outputs": [],
   "source": [
    "M = []\n",
    "for i in range(len(augmented_dummy_array_df)):\n",
    "    M.append({\"event\": \"Dummy\" ,\n",
    "              \"istSturz\": 1,\n",
    "              \"signalLenght\": len(augmented_dummy_array_df.z[i]),\n",
    "              \"spectrum\": SignalToSpectrum(augmented_dummy_array_df.z[i])})\n",
    "augmented_df = pd.DataFrame.from_dict(M)"
   ]
  },
  {
   "cell_type": "markdown",
   "id": "2a8eae3f-e298-44d4-be2b-41f77fb16f2b",
   "metadata": {},
   "source": [
    "### Fake events data"
   ]
  },
  {
   "cell_type": "code",
   "execution_count": 10,
   "id": "c4eea467-47ed-4476-a1a2-b31252d74371",
   "metadata": {},
   "outputs": [],
   "source": [
    "L = []\n",
    "for (teensy, event, run, rep), ss in df_fake.groupby([\"teensy\", \"experiment\", \"run\", \"rep\"]):\n",
    "    L.append({\"event\": event,\n",
    "              \"run\": run,\n",
    "              \"istSturz\": int(event == \"Dummy\"),\n",
    "              \"signalLenght\": len(ss[\"z\"]),\n",
    "              \"spectrum\": SignalToSpectrum(ss[\"z\"])})\n",
    "df = pd.DataFrame.from_dict(L)\n",
    "df.drop('run', inplace=True, axis=1)"
   ]
  },
  {
   "cell_type": "code",
   "execution_count": 11,
   "id": "34956edd-cd1d-4546-ba1b-8bf3e4dc300d",
   "metadata": {},
   "outputs": [
    {
     "data": {
      "text/html": [
       "<div>\n",
       "<style scoped>\n",
       "    .dataframe tbody tr th:only-of-type {\n",
       "        vertical-align: middle;\n",
       "    }\n",
       "\n",
       "    .dataframe tbody tr th {\n",
       "        vertical-align: top;\n",
       "    }\n",
       "\n",
       "    .dataframe thead th {\n",
       "        text-align: right;\n",
       "    }\n",
       "</style>\n",
       "<table border=\"1\" class=\"dataframe\">\n",
       "  <thead>\n",
       "    <tr style=\"text-align: right;\">\n",
       "      <th></th>\n",
       "      <th>teensy</th>\n",
       "      <th>experiment</th>\n",
       "      <th>run</th>\n",
       "      <th>rep</th>\n",
       "      <th>t</th>\n",
       "      <th>x</th>\n",
       "      <th>y</th>\n",
       "      <th>z</th>\n",
       "    </tr>\n",
       "  </thead>\n",
       "  <tbody>\n",
       "    <tr>\n",
       "      <th>0</th>\n",
       "      <td>2</td>\n",
       "      <td>1.5L Flasche</td>\n",
       "      <td>L1</td>\n",
       "      <td>1</td>\n",
       "      <td>0.000000</td>\n",
       "      <td>14.0</td>\n",
       "      <td>1.0</td>\n",
       "      <td>1040.0</td>\n",
       "    </tr>\n",
       "    <tr>\n",
       "      <th>1</th>\n",
       "      <td>2</td>\n",
       "      <td>1.5L Flasche</td>\n",
       "      <td>L1</td>\n",
       "      <td>1</td>\n",
       "      <td>0.000623</td>\n",
       "      <td>12.0</td>\n",
       "      <td>4.0</td>\n",
       "      <td>1041.0</td>\n",
       "    </tr>\n",
       "    <tr>\n",
       "      <th>2</th>\n",
       "      <td>2</td>\n",
       "      <td>1.5L Flasche</td>\n",
       "      <td>L1</td>\n",
       "      <td>1</td>\n",
       "      <td>0.001247</td>\n",
       "      <td>10.0</td>\n",
       "      <td>-1.0</td>\n",
       "      <td>1038.0</td>\n",
       "    </tr>\n",
       "    <tr>\n",
       "      <th>3</th>\n",
       "      <td>2</td>\n",
       "      <td>1.5L Flasche</td>\n",
       "      <td>L1</td>\n",
       "      <td>1</td>\n",
       "      <td>0.001870</td>\n",
       "      <td>10.0</td>\n",
       "      <td>-1.0</td>\n",
       "      <td>1036.0</td>\n",
       "    </tr>\n",
       "    <tr>\n",
       "      <th>4</th>\n",
       "      <td>2</td>\n",
       "      <td>1.5L Flasche</td>\n",
       "      <td>L1</td>\n",
       "      <td>1</td>\n",
       "      <td>0.002493</td>\n",
       "      <td>9.0</td>\n",
       "      <td>-6.0</td>\n",
       "      <td>1036.0</td>\n",
       "    </tr>\n",
       "    <tr>\n",
       "      <th>...</th>\n",
       "      <td>...</td>\n",
       "      <td>...</td>\n",
       "      <td>...</td>\n",
       "      <td>...</td>\n",
       "      <td>...</td>\n",
       "      <td>...</td>\n",
       "      <td>...</td>\n",
       "      <td>...</td>\n",
       "    </tr>\n",
       "    <tr>\n",
       "      <th>15988</th>\n",
       "      <td>1</td>\n",
       "      <td>1.5L Flasche</td>\n",
       "      <td>L8</td>\n",
       "      <td>1</td>\n",
       "      <td>10.010239</td>\n",
       "      <td>3.0</td>\n",
       "      <td>24.0</td>\n",
       "      <td>1039.0</td>\n",
       "    </tr>\n",
       "    <tr>\n",
       "      <th>15989</th>\n",
       "      <td>1</td>\n",
       "      <td>1.5L Flasche</td>\n",
       "      <td>L8</td>\n",
       "      <td>1</td>\n",
       "      <td>10.010865</td>\n",
       "      <td>2.0</td>\n",
       "      <td>24.0</td>\n",
       "      <td>1039.0</td>\n",
       "    </tr>\n",
       "    <tr>\n",
       "      <th>15990</th>\n",
       "      <td>1</td>\n",
       "      <td>1.5L Flasche</td>\n",
       "      <td>L8</td>\n",
       "      <td>1</td>\n",
       "      <td>10.011491</td>\n",
       "      <td>2.0</td>\n",
       "      <td>25.0</td>\n",
       "      <td>1039.0</td>\n",
       "    </tr>\n",
       "    <tr>\n",
       "      <th>15991</th>\n",
       "      <td>1</td>\n",
       "      <td>1.5L Flasche</td>\n",
       "      <td>L8</td>\n",
       "      <td>1</td>\n",
       "      <td>10.012117</td>\n",
       "      <td>5.0</td>\n",
       "      <td>22.0</td>\n",
       "      <td>1037.0</td>\n",
       "    </tr>\n",
       "    <tr>\n",
       "      <th>15992</th>\n",
       "      <td>1</td>\n",
       "      <td>1.5L Flasche</td>\n",
       "      <td>L8</td>\n",
       "      <td>1</td>\n",
       "      <td>10.012743</td>\n",
       "      <td>3.0</td>\n",
       "      <td>23.0</td>\n",
       "      <td>1039.0</td>\n",
       "    </tr>\n",
       "  </tbody>\n",
       "</table>\n",
       "<p>17283198 rows × 8 columns</p>\n",
       "</div>"
      ],
      "text/plain": [
       "      teensy    experiment run rep          t     x     y       z\n",
       "0          2  1.5L Flasche  L1   1   0.000000  14.0   1.0  1040.0\n",
       "1          2  1.5L Flasche  L1   1   0.000623  12.0   4.0  1041.0\n",
       "2          2  1.5L Flasche  L1   1   0.001247  10.0  -1.0  1038.0\n",
       "3          2  1.5L Flasche  L1   1   0.001870  10.0  -1.0  1036.0\n",
       "4          2  1.5L Flasche  L1   1   0.002493   9.0  -6.0  1036.0\n",
       "...      ...           ...  ..  ..        ...   ...   ...     ...\n",
       "15988      1  1.5L Flasche  L8   1  10.010239   3.0  24.0  1039.0\n",
       "15989      1  1.5L Flasche  L8   1  10.010865   2.0  24.0  1039.0\n",
       "15990      1  1.5L Flasche  L8   1  10.011491   2.0  25.0  1039.0\n",
       "15991      1  1.5L Flasche  L8   1  10.012117   5.0  22.0  1037.0\n",
       "15992      1  1.5L Flasche  L8   1  10.012743   3.0  23.0  1039.0\n",
       "\n",
       "[17283198 rows x 8 columns]"
      ]
     },
     "execution_count": 11,
     "metadata": {},
     "output_type": "execute_result"
    }
   ],
   "source": [
    "df_fake"
   ]
  },
  {
   "cell_type": "markdown",
   "id": "dc6ae092-e62a-4adc-8698-23fe7fd4c99c",
   "metadata": {},
   "source": [
    "### Combine the augmented and fake data df"
   ]
  },
  {
   "cell_type": "code",
   "execution_count": 12,
   "id": "5bf15ca5-efc5-49fe-9113-595b71b6d8f2",
   "metadata": {},
   "outputs": [
    {
     "name": "stderr",
     "output_type": "stream",
     "text": [
      "/tmp/ipykernel_1847989/2856507006.py:2: FutureWarning: The frame.append method is deprecated and will be removed from pandas in a future version. Use pandas.concat instead.\n",
      "  final_df = df.append(augmented_df)\n"
     ]
    }
   ],
   "source": [
    "final_df = []\n",
    "final_df = df.append(augmented_df)"
   ]
  },
  {
   "cell_type": "code",
   "execution_count": 13,
   "id": "e6b8b254-5b6a-4c8b-9fc7-8e547e30ab74",
   "metadata": {},
   "outputs": [],
   "source": [
    "#shuffle the final dataframe\n",
    "final_df = final_df.sample(frac=1).reset_index(drop=True)"
   ]
  },
  {
   "cell_type": "code",
   "execution_count": 14,
   "id": "423a508e-ae93-4c9c-a8b3-87f7c84beaeb",
   "metadata": {},
   "outputs": [
    {
     "data": {
      "text/html": [
       "<div>\n",
       "<style scoped>\n",
       "    .dataframe tbody tr th:only-of-type {\n",
       "        vertical-align: middle;\n",
       "    }\n",
       "\n",
       "    .dataframe tbody tr th {\n",
       "        vertical-align: top;\n",
       "    }\n",
       "\n",
       "    .dataframe thead th {\n",
       "        text-align: right;\n",
       "    }\n",
       "</style>\n",
       "<table border=\"1\" class=\"dataframe\">\n",
       "  <thead>\n",
       "    <tr style=\"text-align: right;\">\n",
       "      <th></th>\n",
       "      <th>event</th>\n",
       "      <th>istSturz</th>\n",
       "      <th>signalLenght</th>\n",
       "      <th>spectrum</th>\n",
       "    </tr>\n",
       "  </thead>\n",
       "  <tbody>\n",
       "    <tr>\n",
       "      <th>0</th>\n",
       "      <td>Getränkeflasche</td>\n",
       "      <td>0</td>\n",
       "      <td>15999</td>\n",
       "      <td>[[[218.32593606440386], [0.11140682938919734],...</td>\n",
       "    </tr>\n",
       "    <tr>\n",
       "      <th>1</th>\n",
       "      <td>Dummy</td>\n",
       "      <td>1</td>\n",
       "      <td>16069</td>\n",
       "      <td>[[[269.3199225740077], [0.34432511074448213], ...</td>\n",
       "    </tr>\n",
       "    <tr>\n",
       "      <th>2</th>\n",
       "      <td>2 Bücher</td>\n",
       "      <td>0</td>\n",
       "      <td>16060</td>\n",
       "      <td>[[[218.44143595139977], [0.22753907648533028],...</td>\n",
       "    </tr>\n",
       "    <tr>\n",
       "      <th>3</th>\n",
       "      <td>Getränkeflasche</td>\n",
       "      <td>0</td>\n",
       "      <td>16049</td>\n",
       "      <td>[[[218.32162138438062], [0.1508768801184862], ...</td>\n",
       "    </tr>\n",
       "    <tr>\n",
       "      <th>4</th>\n",
       "      <td>Dummy</td>\n",
       "      <td>1</td>\n",
       "      <td>15968</td>\n",
       "      <td>[[[220.25077239773285], [0.4342962664376527], ...</td>\n",
       "    </tr>\n",
       "    <tr>\n",
       "      <th>...</th>\n",
       "      <td>...</td>\n",
       "      <td>...</td>\n",
       "      <td>...</td>\n",
       "      <td>...</td>\n",
       "    </tr>\n",
       "    <tr>\n",
       "      <th>1794</th>\n",
       "      <td>Pflegeartikel</td>\n",
       "      <td>0</td>\n",
       "      <td>15965</td>\n",
       "      <td>[[[220.47838869396017], [0.19052429449723415],...</td>\n",
       "    </tr>\n",
       "    <tr>\n",
       "      <th>1795</th>\n",
       "      <td>Dummy</td>\n",
       "      <td>1</td>\n",
       "      <td>16066</td>\n",
       "      <td>[[[218.47629161994428], [0.06429553709989536],...</td>\n",
       "    </tr>\n",
       "    <tr>\n",
       "      <th>1796</th>\n",
       "      <td>Dummy</td>\n",
       "      <td>1</td>\n",
       "      <td>16022</td>\n",
       "      <td>[[[193.5348876151227], [0.41308366602470215], ...</td>\n",
       "    </tr>\n",
       "    <tr>\n",
       "      <th>1797</th>\n",
       "      <td>Dummy</td>\n",
       "      <td>1</td>\n",
       "      <td>15987</td>\n",
       "      <td>[[[219.7624155195631], [2.815700594781327], [2...</td>\n",
       "    </tr>\n",
       "    <tr>\n",
       "      <th>1798</th>\n",
       "      <td>Dummy</td>\n",
       "      <td>1</td>\n",
       "      <td>15970</td>\n",
       "      <td>[[[220.5780749466268], [0.5032137177484409], [...</td>\n",
       "    </tr>\n",
       "  </tbody>\n",
       "</table>\n",
       "<p>1799 rows × 4 columns</p>\n",
       "</div>"
      ],
      "text/plain": [
       "                event  istSturz  signalLenght  \\\n",
       "0     Getränkeflasche         0         15999   \n",
       "1               Dummy         1         16069   \n",
       "2            2 Bücher         0         16060   \n",
       "3     Getränkeflasche         0         16049   \n",
       "4               Dummy         1         15968   \n",
       "...               ...       ...           ...   \n",
       "1794    Pflegeartikel         0         15965   \n",
       "1795            Dummy         1         16066   \n",
       "1796            Dummy         1         16022   \n",
       "1797            Dummy         1         15987   \n",
       "1798            Dummy         1         15970   \n",
       "\n",
       "                                               spectrum  \n",
       "0     [[[218.32593606440386], [0.11140682938919734],...  \n",
       "1     [[[269.3199225740077], [0.34432511074448213], ...  \n",
       "2     [[[218.44143595139977], [0.22753907648533028],...  \n",
       "3     [[[218.32162138438062], [0.1508768801184862], ...  \n",
       "4     [[[220.25077239773285], [0.4342962664376527], ...  \n",
       "...                                                 ...  \n",
       "1794  [[[220.47838869396017], [0.19052429449723415],...  \n",
       "1795  [[[218.47629161994428], [0.06429553709989536],...  \n",
       "1796  [[[193.5348876151227], [0.41308366602470215], ...  \n",
       "1797  [[[219.7624155195631], [2.815700594781327], [2...  \n",
       "1798  [[[220.5780749466268], [0.5032137177484409], [...  \n",
       "\n",
       "[1799 rows x 4 columns]"
      ]
     },
     "execution_count": 14,
     "metadata": {},
     "output_type": "execute_result"
    }
   ],
   "source": [
    "final_df"
   ]
  },
  {
   "cell_type": "code",
   "execution_count": 15,
   "id": "fe3efa7a-b4f4-479e-8502-750d043bc9c4",
   "metadata": {},
   "outputs": [],
   "source": [
    "# normalize the spectrum to facilitate training\n",
    "final_df[\"normalizedSpectrum\"] = final_df[\"spectrum\"] / final_df[\"spectrum\"].map(np.max).max()"
   ]
  },
  {
   "cell_type": "markdown",
   "id": "3950d14f-d800-4728-a256-1abf10a486a4",
   "metadata": {},
   "source": [
    "## Model"
   ]
  },
  {
   "cell_type": "code",
   "execution_count": 16,
   "id": "b09d5bc7-7c93-42d3-adb9-3fa522113a27",
   "metadata": {},
   "outputs": [
    {
     "name": "stdout",
     "output_type": "stream",
     "text": [
      "Model: \"sequential\"\n",
      "_________________________________________________________________\n",
      " Layer (type)                Output Shape              Param #   \n",
      "=================================================================\n",
      " conv2d (Conv2D)             (None, 1, 247, 8)         2528      \n",
      "                                                                 \n",
      " max_pooling2d (MaxPooling2D  (None, 1, 61, 8)         0         \n",
      " )                                                               \n",
      "                                                                 \n",
      " flatten (Flatten)           (None, 488)               0         \n",
      "                                                                 \n",
      " dense (Dense)               (None, 1)                 489       \n",
      "                                                                 \n",
      "=================================================================\n",
      "Total params: 3,017\n",
      "Trainable params: 3,017\n",
      "Non-trainable params: 0\n",
      "_________________________________________________________________\n"
     ]
    },
    {
     "name": "stderr",
     "output_type": "stream",
     "text": [
      "2022-12-13 02:27:55.676056: I tensorflow/core/platform/cpu_feature_guard.cc:193] This TensorFlow binary is optimized with oneAPI Deep Neural Network Library (oneDNN) to use the following CPU instructions in performance-critical operations:  SSE4.1 SSE4.2 AVX AVX2 AVX512F FMA\n",
      "To enable them in other operations, rebuild TensorFlow with the appropriate compiler flags.\n"
     ]
    }
   ],
   "source": [
    "# initialize a sequential network model https://www.tensorflow.org/api_docs/python/tf/keras/Sequential\n",
    "mdl = Sequential()\n",
    "# as a first layer add a convolutional layer https://www.tensorflow.org/api_docs/python/tf/keras/layers/Conv2D\n",
    "# the input shape is our image size 63x251 px the additional,1 is the channel feature we do not need and therefore leave at 1\n",
    "# the Integer 8 here is the dimensionality of the output space (i.e. the number of output filters in the convolution).\n",
    "# (63, 5) specifies the kernel size. the first dimension gives the entire length of the images rows, we chose this because we want \n",
    "# to have information about all the different frequencies at the same time, the 5 can be varied but specifies how long the time interval is\n",
    "# which is brought into context with one another\n",
    "mdl.add(Conv2D(8, (63, 5), activation=\"relu\", input_shape=(63, 251, 1)))\n",
    "# https://www.tensorflow.org/api_docs/python/tf/keras/layers/MaxPool2D The pooling layer just keeps the max value px in a (1, 4) window\n",
    "mdl.add(MaxPooling2D((1, 4)))\n",
    "# removes the 2 dimensionality of the data -> just a vector now https://www.tensorflow.org/api_docs/python/tf/keras/layers/Flatten\n",
    "mdl.add(Flatten())\n",
    "# this is just your usual dense connected layer of a NN https://www.tensorflow.org/api_docs/python/tf/keras/layers/Dense, the 1 specifies the \n",
    "# number of output parameters we want, which is just 1\n",
    "mdl.add(Dense(1,activation=\"sigmoid\"))\n",
    "# configures the model for training https://www.tensorflow.org/api_docs/python/tf/keras/Model#compile\n",
    "mdl.compile(optimizer=\"adam\", loss=\"binary_crossentropy\", metrics=[\"accuracy\"])\n",
    "# this just prints the model summery below\n",
    "mdl.summary()"
   ]
  },
  {
   "cell_type": "code",
   "execution_count": 17,
   "id": "8e2d0d69-5091-46ce-9432-bd20bf6d8a93",
   "metadata": {},
   "outputs": [
    {
     "data": {
      "text/plain": [
       "Dummy                  158\n",
       "Handy                   21\n",
       "1.5L Flasche            19\n",
       "Springen                16\n",
       "Möbel verrücken         15\n",
       "Wasserkasten            15\n",
       "Koffer                  15\n",
       "Pflegeartikel           14\n",
       "Getränkeflasche         14\n",
       "2 Bücher                13\n",
       "Schlüsselbund           13\n",
       "Krücken                 13\n",
       "Hantel                  13\n",
       "Stuhl kippt             13\n",
       "Tablett mit Besteck      8\n",
       "Name: event, dtype: int64"
      ]
     },
     "execution_count": 17,
     "metadata": {},
     "output_type": "execute_result"
    }
   ],
   "source": [
    "X = np.stack(final_df[\"normalizedSpectrum\"].to_list())\n",
    "y = final_df[\"istSturz\"].to_numpy()\n",
    "\n",
    "# split data in train and test set\n",
    "train, test = train_test_split(range(len(y)), test_size=0.2,stratify= y)\n",
    "# how many of the respective events are contained in the test set\n",
    "final_df[\"event\"][test].value_counts()"
   ]
  },
  {
   "cell_type": "markdown",
   "id": "f1175b69-70d4-471f-b95b-158d00ce3b34",
   "metadata": {},
   "source": [
    "### To plot accuracy and loss curve after each epoch"
   ]
  },
  {
   "cell_type": "code",
   "execution_count": 18,
   "id": "8bba1a82-6f55-43fe-879d-9019c3e0cc9e",
   "metadata": {},
   "outputs": [],
   "source": [
    "class PlotLearning(keras.callbacks.Callback):\n",
    "    \"\"\"\n",
    "    Callback to plot the learning curves of the model during training.\n",
    "    \"\"\"\n",
    "    def on_train_begin(self, logs={}):   \n",
    "        self.metrics = {}\n",
    "        for metric in logs:\n",
    "            self.metrics[metric] = []\n",
    "            \n",
    "\n",
    "    def on_epoch_end(self, epoch, logs={}):\n",
    "        # Storing metrics\n",
    "        for metric in logs:\n",
    "            if metric in self.metrics:\n",
    "                self.metrics[metric].append(logs.get(metric))\n",
    "            else:\n",
    "                self.metrics[metric] = [logs.get(metric)]\n",
    "        \n",
    "        # Plotting\n",
    "        metrics = [x for x in logs if 'val' not in x]\n",
    "        \n",
    "        f, axs = plt.subplots(1, len(metrics), figsize=(15,5))\n",
    "        clear_output(wait=True)\n",
    "\n",
    "        for i, metric in enumerate(metrics):\n",
    "            axs[i].plot(range(1, epoch + 2), \n",
    "                        self.metrics[metric], \n",
    "                        label=metric)\n",
    "            if logs['val_' + metric]:\n",
    "                axs[i].plot(range(1, epoch + 2), \n",
    "                            self.metrics['val_' + metric], \n",
    "                            label='val_' + metric)\n",
    "                \n",
    "            axs[i].legend()\n",
    "            axs[i].grid()\n",
    "\n",
    "        plt.tight_layout()\n",
    "        plt.show()"
   ]
  },
  {
   "cell_type": "code",
   "execution_count": 19,
   "id": "99b5b134-584f-44c5-b344-26908955f1fe",
   "metadata": {},
   "outputs": [
    {
     "data": {
      "image/png": "[encoded data removed]",
      "text/plain": [
       "<Figure size 1500x500 with 2 Axes>"
      ]
     },
     "metadata": {},
     "output_type": "display_data"
    },
    {
     "name": "stdout",
     "output_type": "stream",
     "text": [
      "45/45 [==============================] - 1s 19ms/step - loss: 0.1714 - accuracy: 0.9437 - val_loss: 0.2870 - val_accuracy: 0.8972\n"
     ]
    }
   ],
   "source": [
    "# actual training..\n",
    "callbacks_list = [PlotLearning()]\n",
    "history = mdl.fit(X[train, ], y[train], epochs=75, validation_data=(X[test,], y[test]),callbacks=callbacks_list)"
   ]
  },
  {
   "cell_type": "code",
   "execution_count": 20,
   "id": "26f92503-ab0d-46b9-ade3-85bba2f0b0ba",
   "metadata": {},
   "outputs": [
    {
     "data": {
      "text/plain": [
       "792"
      ]
     },
     "execution_count": 20,
     "metadata": {},
     "output_type": "execute_result"
    }
   ],
   "source": [
    "final_df.istSturz.sum()"
   ]
  },
  {
   "cell_type": "markdown",
   "id": "cc0505fb-27e9-4fd2-af47-37f6d787e351",
   "metadata": {},
   "source": [
    "### Prediction of each event"
   ]
  },
  {
   "cell_type": "code",
   "execution_count": 50,
   "id": "5eec15ff-765b-4d54-b2d6-a2abc70a4182",
   "metadata": {},
   "outputs": [
    {
     "name": "stdout",
     "output_type": "stream",
     "text": [
      "57/57 [==============================] - 0s 3ms/step\n"
     ]
    },
    {
     "data": {
      "text/html": [
       "<div>\n",
       "<style scoped>\n",
       "    .dataframe tbody tr th:only-of-type {\n",
       "        vertical-align: middle;\n",
       "    }\n",
       "\n",
       "    .dataframe tbody tr th {\n",
       "        vertical-align: top;\n",
       "    }\n",
       "\n",
       "    .dataframe thead th {\n",
       "        text-align: right;\n",
       "    }\n",
       "</style>\n",
       "<table border=\"1\" class=\"dataframe\">\n",
       "  <thead>\n",
       "    <tr style=\"text-align: right;\">\n",
       "      <th>col_0</th>\n",
       "      <th>False</th>\n",
       "      <th>True</th>\n",
       "    </tr>\n",
       "    <tr>\n",
       "      <th>event</th>\n",
       "      <th></th>\n",
       "      <th></th>\n",
       "    </tr>\n",
       "  </thead>\n",
       "  <tbody>\n",
       "    <tr>\n",
       "      <th>1.5L Flasche</th>\n",
       "      <td>16</td>\n",
       "      <td>56</td>\n",
       "    </tr>\n",
       "    <tr>\n",
       "      <th>2 Bücher</th>\n",
       "      <td>47</td>\n",
       "      <td>25</td>\n",
       "    </tr>\n",
       "    <tr>\n",
       "      <th>Dummy</th>\n",
       "      <td>9</td>\n",
       "      <td>783</td>\n",
       "    </tr>\n",
       "    <tr>\n",
       "      <th>Getränkeflasche</th>\n",
       "      <td>61</td>\n",
       "      <td>11</td>\n",
       "    </tr>\n",
       "    <tr>\n",
       "      <th>Handy</th>\n",
       "      <td>65</td>\n",
       "      <td>7</td>\n",
       "    </tr>\n",
       "    <tr>\n",
       "      <th>Hantel</th>\n",
       "      <td>71</td>\n",
       "      <td>0</td>\n",
       "    </tr>\n",
       "    <tr>\n",
       "      <th>Koffer</th>\n",
       "      <td>24</td>\n",
       "      <td>48</td>\n",
       "    </tr>\n",
       "    <tr>\n",
       "      <th>Krücken</th>\n",
       "      <td>72</td>\n",
       "      <td>0</td>\n",
       "    </tr>\n",
       "    <tr>\n",
       "      <th>Möbel verrücken</th>\n",
       "      <td>28</td>\n",
       "      <td>44</td>\n",
       "    </tr>\n",
       "    <tr>\n",
       "      <th>Pflegeartikel</th>\n",
       "      <td>66</td>\n",
       "      <td>6</td>\n",
       "    </tr>\n",
       "    <tr>\n",
       "      <th>Schlüsselbund</th>\n",
       "      <td>38</td>\n",
       "      <td>34</td>\n",
       "    </tr>\n",
       "    <tr>\n",
       "      <th>Springen</th>\n",
       "      <td>7</td>\n",
       "      <td>65</td>\n",
       "    </tr>\n",
       "    <tr>\n",
       "      <th>Stuhl kippt</th>\n",
       "      <td>23</td>\n",
       "      <td>49</td>\n",
       "    </tr>\n",
       "    <tr>\n",
       "      <th>Tablett mit Besteck</th>\n",
       "      <td>69</td>\n",
       "      <td>3</td>\n",
       "    </tr>\n",
       "    <tr>\n",
       "      <th>Wasserkasten</th>\n",
       "      <td>35</td>\n",
       "      <td>37</td>\n",
       "    </tr>\n",
       "  </tbody>\n",
       "</table>\n",
       "</div>"
      ],
      "text/plain": [
       "col_0                False  True \n",
       "event                            \n",
       "1.5L Flasche            16     56\n",
       "2 Bücher                47     25\n",
       "Dummy                    9    783\n",
       "Getränkeflasche         61     11\n",
       "Handy                   65      7\n",
       "Hantel                  71      0\n",
       "Koffer                  24     48\n",
       "Krücken                 72      0\n",
       "Möbel verrücken         28     44\n",
       "Pflegeartikel           66      6\n",
       "Schlüsselbund           38     34\n",
       "Springen                 7     65\n",
       "Stuhl kippt             23     49\n",
       "Tablett mit Besteck     69      3\n",
       "Wasserkasten            35     37"
      ]
     },
     "execution_count": 50,
     "metadata": {},
     "output_type": "execute_result"
    }
   ],
   "source": [
    "ypred = mdl.predict(X).ravel()\n",
    "threshold =  0.10\n",
    "pd.crosstab(final_df['event'], ypred >= threshold)"
   ]
  },
  {
   "cell_type": "markdown",
   "id": "bb948424-3e78-48f5-9cad-9569b832c91d",
   "metadata": {},
   "source": [
    "- The overfitting has significantly reduced."
   ]
  },
  {
   "cell_type": "markdown",
   "id": "36666ef7-5265-4981-9d9a-9e31210209b3",
   "metadata": {},
   "source": [
    "### Finding the optimal threshold value"
   ]
  },
  {
   "cell_type": "markdown",
   "id": "821598b6-4050-4715-ba11-17c2a4b60746",
   "metadata": {},
   "source": [
    "###### https://machinelearningmastery.com/roc-curves-and-precision-recall-curves-for-classification-in-python/\n",
    "###### https://machinelearningmastery.com/threshold-moving-for-imbalanced-classification/"
   ]
  },
  {
   "cell_type": "code",
   "execution_count": 51,
   "id": "55c2d178-c655-4010-91a0-7ef7caf415a2",
   "metadata": {},
   "outputs": [],
   "source": [
    "from sklearn.metrics import roc_curve\n",
    "from sklearn.metrics import roc_auc_score\n",
    "from sklearn.metrics import precision_recall_curve, classification_report\n",
    "from sklearn.metrics import f1_score\n",
    "from sklearn.metrics import auc\n",
    "from matplotlib import pyplot\n",
    "from numpy import sqrt\n",
    "from numpy import argmax\n",
    "from sklearn.metrics import confusion_matrix\n",
    "import seaborn as sns"
   ]
  },
  {
   "cell_type": "code",
   "execution_count": 52,
   "id": "36190188-be10-4d96-a074-e6b9f22ba9fa",
   "metadata": {},
   "outputs": [
    {
     "data": {
      "text/plain": [
       "array([0.02814626, 0.96788806, 0.15101229, ..., 0.9979864 , 1.        ,\n",
       "       0.9983207 ], dtype=float32)"
      ]
     },
     "execution_count": 52,
     "metadata": {},
     "output_type": "execute_result"
    }
   ],
   "source": [
    "ypred #probability of class 1"
   ]
  },
  {
   "cell_type": "markdown",
   "id": "76a6d158-2441-457c-831c-c7b10f12074d",
   "metadata": {},
   "source": [
    "#### ROC CURVE"
   ]
  },
  {
   "cell_type": "code",
   "execution_count": 53,
   "id": "dbac4d83-09c9-47c1-b740-caf2e0b2fb99",
   "metadata": {},
   "outputs": [],
   "source": [
    "fpr, tpr, thresholds = roc_curve(y, ypred) #False, true positive rates and threshold"
   ]
  },
  {
   "cell_type": "markdown",
   "id": "fd4cf4b3-9458-482e-aac6-677b4797c87e",
   "metadata": {},
   "source": [
    "- True positive rate describes how good the model is at predicting the positive class when the actual outcome is positive and is referred as sensitivity\n",
    "- False positivte rate summarizes how often a positive class is predicted when the actual outcome is negative."
   ]
  },
  {
   "cell_type": "code",
   "execution_count": 54,
   "id": "eb7118da-3b6d-4587-8602-ad83f10646fa",
   "metadata": {},
   "outputs": [
    {
     "data": {
      "image/png": "[encoded data removed]",
      "text/plain": [
       "<Figure size 640x480 with 1 Axes>"
      ]
     },
     "metadata": {},
     "output_type": "display_data"
    }
   ],
   "source": [
    "# plot the roc curve for the model\n",
    "pyplot.plot(fpr, tpr, marker='.', label='CNN')\n",
    "# axis labels\n",
    "pyplot.xlabel('False Positive Rate')\n",
    "pyplot.ylabel('True Positive Rate')\n",
    "# show the legend\n",
    "pyplot.legend()\n",
    "# show the plot\n",
    "pyplot.show()"
   ]
  },
  {
   "cell_type": "markdown",
   "id": "f35b674c-7d71-4ae4-9426-1178a3eb956e",
   "metadata": {},
   "source": [
    "- Smaller values on the x-axis of the plot indicate lower false positives and higher true negatives.\n",
    "- Larger values on the y-axis of the plot indicate higher true positives and lower false negatives."
   ]
  },
  {
   "cell_type": "code",
   "execution_count": 55,
   "id": "bc8b5fb7-d529-4bd2-a284-e2c28e62ec35",
   "metadata": {},
   "outputs": [
    {
     "name": "stdout",
     "output_type": "stream",
     "text": [
      "AUC: 0.980\n"
     ]
    }
   ],
   "source": [
    "# calculate AUC\n",
    "auc = roc_auc_score(y, ypred)\n",
    "print('AUC: %.3f' % auc)"
   ]
  },
  {
   "cell_type": "markdown",
   "id": "74026dec-ad45-4d3b-8612-e9a445d0ae0a",
   "metadata": {},
   "source": [
    "- The higher the area under the ROC curve, the better the classifier."
   ]
  },
  {
   "cell_type": "markdown",
   "id": "64c67581-848e-4167-9816-7258120118ca",
   "metadata": {},
   "source": [
    "###### https://mmuratarat.github.io/2019-10-01/how-to-compute-AUC-plot-ROC-by-hand"
   ]
  },
  {
   "cell_type": "markdown",
   "id": "ad8e6bb8-38a9-4227-b36f-d291b3fff998",
   "metadata": {},
   "source": [
    "- To locate the threshold with the optimal balance between false positive and true positive rates we calculate geometric mean\n",
    "- Sensitivity = TruePositive / (TruePositive + FalseNegative)\n",
    "- Sensitivity = True Positive Rate\n",
    "- Specificity = 1 – False Positive Rate"
   ]
  },
  {
   "cell_type": "code",
   "execution_count": 57,
   "id": "caae7241-c1fb-4415-b0f2-d0b3dbe8b5d7",
   "metadata": {},
   "outputs": [
    {
     "name": "stdout",
     "output_type": "stream",
     "text": [
      "Best Threshold=0.385097, G-Mean=0.936\n"
     ]
    }
   ],
   "source": [
    "# calculate the g-mean for each threshold\n",
    "#G-Mean = sqrt(Sensitivity * Specificity)\n",
    "gmeans = sqrt(tpr * (1-fpr))\n",
    "# locate the index of the largest g-mean\n",
    "ix = argmax(gmeans)\n",
    "print('Best Threshold=%f, G-Mean=%.3f' % (thresholds[ix], gmeans[ix]))"
   ]
  },
  {
   "cell_type": "code",
   "execution_count": 58,
   "id": "20a7bcb4-eac8-4459-bfe2-ede9fb1ba098",
   "metadata": {},
   "outputs": [
    {
     "data": {
      "image/png": "[encoded data removed]",
      "text/plain": [
       "<Figure size 640x480 with 1 Axes>"
      ]
     },
     "metadata": {},
     "output_type": "display_data"
    }
   ],
   "source": [
    "# plot the roc curve for the model\n",
    "pyplot.plot(fpr, tpr, marker='.', label='CNN')\n",
    "pyplot.scatter(fpr[ix], tpr[ix],s=150, marker='o', color='black', label='Best')\n",
    "# axis labels\n",
    "pyplot.xlabel('False Positive Rate')\n",
    "pyplot.ylabel('True Positive Rate')\n",
    "pyplot.legend()\n",
    "# show the plot\n",
    "pyplot.show()"
   ]
  },
  {
   "cell_type": "markdown",
   "id": "c71e7f19-db9c-4380-a747-c0270dfbafb3",
   "metadata": {},
   "source": [
    "#### PRECISION RECALL CURVE"
   ]
  },
  {
   "cell_type": "code",
   "execution_count": 59,
   "id": "663da496-5c3b-4116-a6fb-1378dd79607e",
   "metadata": {},
   "outputs": [],
   "source": [
    "precision, recall, thresholds = precision_recall_curve(y, ypred)"
   ]
  },
  {
   "cell_type": "code",
   "execution_count": 60,
   "id": "81a9f5bf-ea32-4f77-9e16-672a31121d24",
   "metadata": {},
   "outputs": [
    {
     "name": "stdout",
     "output_type": "stream",
     "text": [
      "Best Threshold=0.485981, F-Score=0.929\n"
     ]
    }
   ],
   "source": [
    "# convert to f score\n",
    "fscore = (2 * precision * recall) / (precision + recall)\n",
    "# locate the index of the largest f score\n",
    "ix = argmax(fscore)\n",
    "print('Best Threshold=%f, F-Score=%.3f' % (thresholds[ix], fscore[ix]))"
   ]
  },
  {
   "cell_type": "code",
   "execution_count": 61,
   "id": "afe5d935-424a-4fc7-b8b0-13d298494172",
   "metadata": {},
   "outputs": [
    {
     "data": {
      "image/png": "[encoded data removed]",
      "text/plain": [
       "<Figure size 640x480 with 1 Axes>"
      ]
     },
     "metadata": {},
     "output_type": "display_data"
    }
   ],
   "source": [
    "pyplot.plot(recall, precision, marker='.', label='CNN')\n",
    "pyplot.scatter(recall[ix], precision[ix],s=150, marker='o', color='black', label='Best')\n",
    "# axis labels\n",
    "pyplot.xlabel('Recall')\n",
    "pyplot.ylabel('Precision')\n",
    "pyplot.legend()\n",
    "# show the plot\n",
    "pyplot.show()"
   ]
  },
  {
   "cell_type": "markdown",
   "id": "732fca9c-b3f0-422c-b559-56d3723d8e28",
   "metadata": {},
   "source": [
    "## Prediction using new optimal threshold value"
   ]
  },
  {
   "cell_type": "code",
   "execution_count": 62,
   "id": "86104bff-d123-4e5d-a4aa-5cca4182f90e",
   "metadata": {},
   "outputs": [
    {
     "name": "stdout",
     "output_type": "stream",
     "text": [
      "57/57 [==============================] - 0s 3ms/step\n"
     ]
    },
    {
     "data": {
      "text/html": [
       "<div>\n",
       "<style scoped>\n",
       "    .dataframe tbody tr th:only-of-type {\n",
       "        vertical-align: middle;\n",
       "    }\n",
       "\n",
       "    .dataframe tbody tr th {\n",
       "        vertical-align: top;\n",
       "    }\n",
       "\n",
       "    .dataframe thead th {\n",
       "        text-align: right;\n",
       "    }\n",
       "</style>\n",
       "<table border=\"1\" class=\"dataframe\">\n",
       "  <thead>\n",
       "    <tr style=\"text-align: right;\">\n",
       "      <th>col_0</th>\n",
       "      <th>False</th>\n",
       "      <th>True</th>\n",
       "    </tr>\n",
       "    <tr>\n",
       "      <th>event</th>\n",
       "      <th></th>\n",
       "      <th></th>\n",
       "    </tr>\n",
       "  </thead>\n",
       "  <tbody>\n",
       "    <tr>\n",
       "      <th>1.5L Flasche</th>\n",
       "      <td>57</td>\n",
       "      <td>15</td>\n",
       "    </tr>\n",
       "    <tr>\n",
       "      <th>2 Bücher</th>\n",
       "      <td>69</td>\n",
       "      <td>3</td>\n",
       "    </tr>\n",
       "    <tr>\n",
       "      <th>Dummy</th>\n",
       "      <td>44</td>\n",
       "      <td>748</td>\n",
       "    </tr>\n",
       "    <tr>\n",
       "      <th>Getränkeflasche</th>\n",
       "      <td>72</td>\n",
       "      <td>0</td>\n",
       "    </tr>\n",
       "    <tr>\n",
       "      <th>Handy</th>\n",
       "      <td>72</td>\n",
       "      <td>0</td>\n",
       "    </tr>\n",
       "    <tr>\n",
       "      <th>Hantel</th>\n",
       "      <td>71</td>\n",
       "      <td>0</td>\n",
       "    </tr>\n",
       "    <tr>\n",
       "      <th>Koffer</th>\n",
       "      <td>72</td>\n",
       "      <td>0</td>\n",
       "    </tr>\n",
       "    <tr>\n",
       "      <th>Krücken</th>\n",
       "      <td>72</td>\n",
       "      <td>0</td>\n",
       "    </tr>\n",
       "    <tr>\n",
       "      <th>Möbel verrücken</th>\n",
       "      <td>57</td>\n",
       "      <td>15</td>\n",
       "    </tr>\n",
       "    <tr>\n",
       "      <th>Pflegeartikel</th>\n",
       "      <td>72</td>\n",
       "      <td>0</td>\n",
       "    </tr>\n",
       "    <tr>\n",
       "      <th>Schlüsselbund</th>\n",
       "      <td>72</td>\n",
       "      <td>0</td>\n",
       "    </tr>\n",
       "    <tr>\n",
       "      <th>Springen</th>\n",
       "      <td>56</td>\n",
       "      <td>16</td>\n",
       "    </tr>\n",
       "    <tr>\n",
       "      <th>Stuhl kippt</th>\n",
       "      <td>65</td>\n",
       "      <td>7</td>\n",
       "    </tr>\n",
       "    <tr>\n",
       "      <th>Tablett mit Besteck</th>\n",
       "      <td>72</td>\n",
       "      <td>0</td>\n",
       "    </tr>\n",
       "    <tr>\n",
       "      <th>Wasserkasten</th>\n",
       "      <td>55</td>\n",
       "      <td>17</td>\n",
       "    </tr>\n",
       "  </tbody>\n",
       "</table>\n",
       "</div>"
      ],
      "text/plain": [
       "col_0                False  True \n",
       "event                            \n",
       "1.5L Flasche            57     15\n",
       "2 Bücher                69      3\n",
       "Dummy                   44    748\n",
       "Getränkeflasche         72      0\n",
       "Handy                   72      0\n",
       "Hantel                  71      0\n",
       "Koffer                  72      0\n",
       "Krücken                 72      0\n",
       "Möbel verrücken         57     15\n",
       "Pflegeartikel           72      0\n",
       "Schlüsselbund           72      0\n",
       "Springen                56     16\n",
       "Stuhl kippt             65      7\n",
       "Tablett mit Besteck     72      0\n",
       "Wasserkasten            55     17"
      ]
     },
     "execution_count": 62,
     "metadata": {},
     "output_type": "execute_result"
    }
   ],
   "source": [
    "ypred_new = mdl.predict(X).ravel()\n",
    "threshold =  0.385097\n",
    "pd.crosstab(final_df['event'], ypred_new >= threshold)"
   ]
  },
  {
   "cell_type": "code",
   "execution_count": 74,
   "id": "5e45a40b-1d16-4232-a89d-0ed92f72a4fc",
   "metadata": {},
   "outputs": [
    {
     "name": "stdout",
     "output_type": "stream",
     "text": [
      "57/57 [==============================] - 0s 3ms/step\n"
     ]
    }
   ],
   "source": [
    "y_predictions = (mdl.predict(X) > 0.385097).astype(\"int32\")\n",
    "y_predictions= y_predictions.ravel()"
   ]
  },
  {
   "cell_type": "code",
   "execution_count": 75,
   "id": "c62c65d4-6440-44a8-b7f2-7284ac65164c",
   "metadata": {},
   "outputs": [
    {
     "data": {
      "text/plain": [
       "array([0, 1, 0, ..., 1, 1, 1], dtype=int32)"
      ]
     },
     "execution_count": 75,
     "metadata": {},
     "output_type": "execute_result"
    }
   ],
   "source": [
    "y_predictions"
   ]
  },
  {
   "cell_type": "code",
   "execution_count": 78,
   "id": "98648ce0-4df6-4731-a482-826d097175cc",
   "metadata": {},
   "outputs": [
    {
     "data": {
      "image/png": "[encoded data removed]",
      "text/plain": [
       "<Figure size 640x480 with 2 Axes>"
      ]
     },
     "metadata": {},
     "output_type": "display_data"
    }
   ],
   "source": [
    "cm = confusion_matrix(y,y_predictions)\n",
    "ax= pyplot.subplot()\n",
    "sns.heatmap(cm, annot=True, fmt='g', ax=ax);  #annot=True to annotate cells, ftm='g' to disable scientific notation\n",
    "# labels, title and ticks\n",
    "ax.set_xlabel('Predicted labels');ax.set_ylabel('True labels');\n",
    "ax.set_title('Confusion Matrix');\n",
    "ax.xaxis.set_ticklabels(['0', '1'])\n",
    "ax.yaxis.set_ticklabels(['0', '1'])\n",
    "pyplot.show()      \n",
    "\n",
    "\n",
    "# print(\"Classification report: \")\n",
    "\n",
    "# print(classification_report(y,y_predictions))"
   ]
  }
 ],
 "metadata": {
  "kernelspec": {
   "display_name": "Python 3.9 / pyspotseven",
   "language": "python",
   "name": "py39-pyspotseven"
  },
  "language_info": {
   "codemirror_mode": {
    "name": "ipython",
    "version": 3
   },
   "file_extension": ".py",
   "mimetype": "text/x-python",
   "name": "python",
   "nbconvert_exporter": "python",
   "pygments_lexer": "ipython3",
   "version": "3.9.13"
  }
 },
 "nbformat": 4,
 "nbformat_minor": 5
}
