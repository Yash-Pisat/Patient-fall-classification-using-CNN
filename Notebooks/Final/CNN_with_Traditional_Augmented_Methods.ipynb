{
 "cells": [
  {
   "cell_type": "markdown",
   "id": "c3f164db-9bcd-47f7-a7df-1ea5fd1e4d52",
   "metadata": {},
   "source": [
    "# Classificator with all dummy data augmentation technqiues (including combinations)"
   ]
  },
  {
   "cell_type": "code",
   "execution_count": null,
   "id": "6faa47b7-8263-4596-a04d-64be30a1ce65",
   "metadata": {},
   "outputs": [],
   "source": [
    "from lib import Augmentation_methods\n",
    "from lib import data_preparation\n",
    "\n",
    "import matplotlib.pyplot as plt\n",
    "from scipy.signal import stft\n",
    "import numpy as np\n",
    "import pandas as pd\n",
    "from pathlib import Path\n",
    "\n",
    "from sklearn.model_selection import train_test_split\n",
    "\n",
    "from tensorflow import keras\n",
    "from tensorflow.keras.models import Sequential\n",
    "from tensorflow.keras.layers import Dense, Conv2D, MaxPooling2D, Flatten\n",
    "from IPython.display import clear_output"
   ]
  },
  {
   "cell_type": "code",
   "execution_count": 2,
   "id": "bb2c24e5-fc48-4cda-a1ef-6435c5e4d418",
   "metadata": {},
   "outputs": [],
   "source": [
    "BASEDIR = Path(\"/store/projects/fallki/\")\n",
    "FAKEDIR = BASEDIR / \"Fake-Events\" / \"2. Fake-Events Messung\"\n",
    "\n",
    "# BASEDIR = pathlib.Path('/store/projects/fallki/')\n",
    "# FAKEDIR = pathlib.Path('Fake-Events/2. Fake-Events Messung/')\n",
    "df_fake = pd.read_parquet(BASEDIR / FAKEDIR / 'gSensoren_FakeEvents.parquet')"
   ]
  },
  {
   "cell_type": "markdown",
   "id": "61aef3c4-0312-45f6-acff-885abdc5b89a",
   "metadata": {},
   "source": [
    "### Dummy Data"
   ]
  },
  {
   "cell_type": "code",
   "execution_count": null,
   "id": "e2467649-c0bb-4045-83ff-1fdad9cd055c",
   "metadata": {},
   "outputs": [],
   "source": [
    "dummy_lab_data = data_preparation.fake_lab_data()\n"
   ]
  },
  {
   "cell_type": "code",
   "execution_count": null,
   "id": "d1c37e1d-568a-4f9e-9599-f19f004f9721",
   "metadata": {},
   "outputs": [],
   "source": [
    "dummy_lab_data[0]"
   ]
  },
  {
   "cell_type": "markdown",
   "id": "46329179-7f96-4bc2-9ace-e7e38173993c",
   "metadata": {},
   "source": [
    "### Augmented data preparation from different DA techniques"
   ]
  },
  {
   "cell_type": "code",
   "execution_count": 6,
   "id": "63590091-17bc-4fa3-b1c1-d8c73aab93b3",
   "metadata": {},
   "outputs": [
    {
     "name": "stderr",
     "output_type": "stream",
     "text": [
      "/tmp/ipykernel_2141123/445061768.py:40: VisibleDeprecationWarning: Creating an ndarray from ragged nested sequences (which is a list-or-tuple of lists-or-tuples-or ndarrays with different lengths or shapes) is deprecated. If you meant to do this, you must specify 'dtype=object' when creating the ndarray.\n",
      "  augmented_dummy_array = np.array(augmented_dummy)\n"
     ]
    }
   ],
   "source": [
    "augmented_dummy = []\n",
    "\n",
    "for i, event in enumerate(dummy_lab_data[0]): \n",
    "    \n",
    "    #Jittering\n",
    "    Noise_dummy = Augmentation_methods.add_white_noise(event, 0.15) \n",
    "    augmented_dummy.append(Noise_dummy)\n",
    "    \n",
    "    #Magnitude Warping\n",
    "    magnitude_warped_dummy =  Augmentation_methods.magnitudewarping(event,0.1, 20) \n",
    "    augmented_dummy.append(magnitude_warped_dummy[1])\n",
    "    \n",
    "    #Time Warping\n",
    "    Time_warped_dummy = Augmentation_methods.DA_TimeWarp(event, 0.3, 4) \n",
    "    augmented_dummy.append(Time_warped_dummy[2])\n",
    "    \n",
    "    #Window Warping\n",
    "    window_warped_dummy = Augmentation_methods.windowWarp(event, window_ratio=0.1, scales=[0.5, 2.]) \n",
    "    augmented_dummy.append(window_warped_dummy)\n",
    "    \n",
    "    #Permutation\n",
    "    permutated_dummy = Augmentation_methods.Permutation(event, nPerm=4, minSegLength=10) \n",
    "    augmented_dummy.append(permutated_dummy[1])\n",
    "    \n",
    "    #Jittering + Magnitude warping\n",
    "    curve_JMW, jittered_magnitude_warped_dummy  =  Augmentation_methods.magnitudewarping((Augmentation_methods.add_white_noise(event, 0.50)),0.1, 10)\n",
    "    augmented_dummy.append(jittered_magnitude_warped_dummy)\n",
    "    \n",
    "    #Jittering + Time warping\n",
    "    jittered_time_curve,Jittered_Time_warped_dummy, Jittered_Time_warped_dummy_stft = Augmentation_methods.DA_TimeWarp((Augmentation_methods.add_white_noise(event, 0.50)), 0.3, 4)\n",
    "    augmented_dummy.append(Jittered_Time_warped_dummy_stft)\n",
    "    \n",
    "    #Jittering + window warping\n",
    "    Jittered_window_warped_dummy = Augmentation_methods.windowWarp((Augmentation_methods.add_white_noise(event, 0.50)), window_ratio=0.1, scales=[0.5, 2.])\n",
    "    augmented_dummy.append(Jittered_window_warped_dummy)\n",
    "    \n",
    "    #magnitude warping + window warping\n",
    "    mag_warped  =  Augmentation_methods.magnitudewarping(event,0.1, 10)\n",
    "    mag_window_warped_dummy = Augmentation_methods.windowWarp(mag_warped[1] , window_ratio=0.1, scales=[0.5, 2.])\n",
    "    augmented_dummy.append(mag_window_warped_dummy)\n",
    "    \n",
    "    #Time warping + window warping\n",
    "    t_warped = Augmentation_methods.DA_TimeWarp(event, 0.3, 4)\n",
    "    time_window_warped_dummy = Augmentation_methods.windowWarp(t_warped[2] , window_ratio=0.1, scales=[0.5, 2.])\n",
    "    augmented_dummy.append(time_window_warped_dummy)\n",
    "    \n",
    "    \n",
    "    \n",
    "    \n",
    "    \n",
    "augmented_dummy_array = np.array(augmented_dummy)    "
   ]
  },
  {
   "cell_type": "code",
   "execution_count": 7,
   "id": "f3443bd4-b989-49e7-bea5-4a6360442e4c",
   "metadata": {},
   "outputs": [],
   "source": [
    "augmented_dummy_array_df =pd.DataFrame(augmented_dummy_array,columns=['z'])"
   ]
  },
  {
   "cell_type": "code",
   "execution_count": 8,
   "id": "48673f8b-8dd9-4839-b62a-c1a8a8601c61",
   "metadata": {},
   "outputs": [
    {
     "data": {
      "text/html": [
       "<div>\n",
       "<style scoped>\n",
       "    .dataframe tbody tr th:only-of-type {\n",
       "        vertical-align: middle;\n",
       "    }\n",
       "\n",
       "    .dataframe tbody tr th {\n",
       "        vertical-align: top;\n",
       "    }\n",
       "\n",
       "    .dataframe thead th {\n",
       "        text-align: right;\n",
       "    }\n",
       "</style>\n",
       "<table border=\"1\" class=\"dataframe\">\n",
       "  <thead>\n",
       "    <tr style=\"text-align: right;\">\n",
       "      <th></th>\n",
       "      <th>z</th>\n",
       "    </tr>\n",
       "  </thead>\n",
       "  <tbody>\n",
       "    <tr>\n",
       "      <th>0</th>\n",
       "      <td>[1022.812653631753, 1033.0081751250295, 1023.4...</td>\n",
       "    </tr>\n",
       "    <tr>\n",
       "      <th>1</th>\n",
       "      <td>[1025.8717369516041, 1027.669668041332, 1025.4...</td>\n",
       "    </tr>\n",
       "    <tr>\n",
       "      <th>2</th>\n",
       "      <td>[1028.0, 1028.0, 1028.7659587194628, 1029.8507...</td>\n",
       "    </tr>\n",
       "    <tr>\n",
       "      <th>3</th>\n",
       "      <td>[1028.0, 1029.7999875459243, 1028.400024908151...</td>\n",
       "    </tr>\n",
       "    <tr>\n",
       "      <th>4</th>\n",
       "      <td>[1026.0, 1030.0, 1028.0, 1030.0, 1026.0, 1028....</td>\n",
       "    </tr>\n",
       "    <tr>\n",
       "      <th>...</th>\n",
       "      <td>...</td>\n",
       "    </tr>\n",
       "    <tr>\n",
       "      <th>715</th>\n",
       "      <td>[930.7618852329903, 938.2047608769197, 926.116...</td>\n",
       "    </tr>\n",
       "    <tr>\n",
       "      <th>716</th>\n",
       "      <td>[1060.0733125414476, 1060.0733125414476, 1036....</td>\n",
       "    </tr>\n",
       "    <tr>\n",
       "      <th>717</th>\n",
       "      <td>[1047.7236497129475, 1027.7948077709618, 1028....</td>\n",
       "    </tr>\n",
       "    <tr>\n",
       "      <th>718</th>\n",
       "      <td>[1032.4680729697243, 1034.3527299805482, 1030....</td>\n",
       "    </tr>\n",
       "    <tr>\n",
       "      <th>719</th>\n",
       "      <td>[1038.0, 1038.1134945062481, 1039.026785107383...</td>\n",
       "    </tr>\n",
       "  </tbody>\n",
       "</table>\n",
       "<p>720 rows × 1 columns</p>\n",
       "</div>"
      ],
      "text/plain": [
       "                                                     z\n",
       "0    [1022.812653631753, 1033.0081751250295, 1023.4...\n",
       "1    [1025.8717369516041, 1027.669668041332, 1025.4...\n",
       "2    [1028.0, 1028.0, 1028.7659587194628, 1029.8507...\n",
       "3    [1028.0, 1029.7999875459243, 1028.400024908151...\n",
       "4    [1026.0, 1030.0, 1028.0, 1030.0, 1026.0, 1028....\n",
       "..                                                 ...\n",
       "715  [930.7618852329903, 938.2047608769197, 926.116...\n",
       "716  [1060.0733125414476, 1060.0733125414476, 1036....\n",
       "717  [1047.7236497129475, 1027.7948077709618, 1028....\n",
       "718  [1032.4680729697243, 1034.3527299805482, 1030....\n",
       "719  [1038.0, 1038.1134945062481, 1039.026785107383...\n",
       "\n",
       "[720 rows x 1 columns]"
      ]
     },
     "execution_count": 8,
     "metadata": {},
     "output_type": "execute_result"
    }
   ],
   "source": [
    "augmented_dummy_array_df"
   ]
  },
  {
   "cell_type": "markdown",
   "id": "2537cbda-4a3b-4100-95a7-3e4784f9633b",
   "metadata": {},
   "source": [
    "## Data Preparation  "
   ]
  },
  {
   "cell_type": "code",
   "execution_count": 9,
   "id": "7a1c9487-b42a-4f0b-8e15-43c6f5d995e0",
   "metadata": {},
   "outputs": [],
   "source": [
    "def SignalToSpectrum(signal, samplerate=1600):\n",
    "    SIGNAL_LENGTH = samplerate * 10\n",
    "    F = stft(signal[:SIGNAL_LENGTH], 1600, nperseg=128)[2]\n",
    "    F = F[2:,]\n",
    "    return np.expand_dims(np.abs(F), axis=2) # Add extra dimension for TF Conv2D"
   ]
  },
  {
   "cell_type": "markdown",
   "id": "1623b07c-1ed0-4eca-9392-f6bd26479796",
   "metadata": {},
   "source": [
    "### Augmented dummy data "
   ]
  },
  {
   "cell_type": "code",
   "execution_count": 10,
   "id": "d1739e3c-18a3-4bfe-b857-78c2a480a347",
   "metadata": {},
   "outputs": [],
   "source": [
    "M = []\n",
    "for i in range(len(augmented_dummy_array_df)):\n",
    "    M.append({\"event\": \"Dummy\" ,\n",
    "              \"istSturz\": 1,\n",
    "              \"signalLenght\": len(augmented_dummy_array_df.z[i]),\n",
    "              \"spectrum\": SignalToSpectrum(augmented_dummy_array_df.z[i])})\n",
    "augmented_df = pd.DataFrame.from_dict(M)"
   ]
  },
  {
   "cell_type": "markdown",
   "id": "2a8eae3f-e298-44d4-be2b-41f77fb16f2b",
   "metadata": {},
   "source": [
    "### Fake events data"
   ]
  },
  {
   "cell_type": "code",
   "execution_count": 11,
   "id": "c4eea467-47ed-4476-a1a2-b31252d74371",
   "metadata": {},
   "outputs": [],
   "source": [
    "L = []\n",
    "for (teensy, event, run, rep), ss in df_fake.groupby([\"teensy\", \"experiment\", \"run\", \"rep\"]):\n",
    "    L.append({\"event\": event,\n",
    "              \"run\": run,\n",
    "              \"istSturz\": int(event == \"Dummy\"),\n",
    "              \"signalLenght\": len(ss[\"z\"]),\n",
    "              \"spectrum\": SignalToSpectrum(ss[\"z\"])})\n",
    "df = pd.DataFrame.from_dict(L)\n",
    "df.drop('run', inplace=True, axis=1)"
   ]
  },
  {
   "cell_type": "code",
   "execution_count": 26,
   "id": "34956edd-cd1d-4546-ba1b-8bf3e4dc300d",
   "metadata": {},
   "outputs": [
    {
     "data": {
      "text/html": [
       "<div>\n",
       "<style scoped>\n",
       "    .dataframe tbody tr th:only-of-type {\n",
       "        vertical-align: middle;\n",
       "    }\n",
       "\n",
       "    .dataframe tbody tr th {\n",
       "        vertical-align: top;\n",
       "    }\n",
       "\n",
       "    .dataframe thead th {\n",
       "        text-align: right;\n",
       "    }\n",
       "</style>\n",
       "<table border=\"1\" class=\"dataframe\">\n",
       "  <thead>\n",
       "    <tr style=\"text-align: right;\">\n",
       "      <th></th>\n",
       "      <th>teensy</th>\n",
       "      <th>experiment</th>\n",
       "      <th>run</th>\n",
       "      <th>rep</th>\n",
       "      <th>t</th>\n",
       "      <th>x</th>\n",
       "      <th>y</th>\n",
       "      <th>z</th>\n",
       "    </tr>\n",
       "  </thead>\n",
       "  <tbody>\n",
       "    <tr>\n",
       "      <th>0</th>\n",
       "      <td>2</td>\n",
       "      <td>1.5L Flasche</td>\n",
       "      <td>L1</td>\n",
       "      <td>1</td>\n",
       "      <td>0.000000</td>\n",
       "      <td>14.0</td>\n",
       "      <td>1.0</td>\n",
       "      <td>1040.0</td>\n",
       "    </tr>\n",
       "    <tr>\n",
       "      <th>1</th>\n",
       "      <td>2</td>\n",
       "      <td>1.5L Flasche</td>\n",
       "      <td>L1</td>\n",
       "      <td>1</td>\n",
       "      <td>0.000623</td>\n",
       "      <td>12.0</td>\n",
       "      <td>4.0</td>\n",
       "      <td>1041.0</td>\n",
       "    </tr>\n",
       "    <tr>\n",
       "      <th>2</th>\n",
       "      <td>2</td>\n",
       "      <td>1.5L Flasche</td>\n",
       "      <td>L1</td>\n",
       "      <td>1</td>\n",
       "      <td>0.001247</td>\n",
       "      <td>10.0</td>\n",
       "      <td>-1.0</td>\n",
       "      <td>1038.0</td>\n",
       "    </tr>\n",
       "    <tr>\n",
       "      <th>3</th>\n",
       "      <td>2</td>\n",
       "      <td>1.5L Flasche</td>\n",
       "      <td>L1</td>\n",
       "      <td>1</td>\n",
       "      <td>0.001870</td>\n",
       "      <td>10.0</td>\n",
       "      <td>-1.0</td>\n",
       "      <td>1036.0</td>\n",
       "    </tr>\n",
       "    <tr>\n",
       "      <th>4</th>\n",
       "      <td>2</td>\n",
       "      <td>1.5L Flasche</td>\n",
       "      <td>L1</td>\n",
       "      <td>1</td>\n",
       "      <td>0.002493</td>\n",
       "      <td>9.0</td>\n",
       "      <td>-6.0</td>\n",
       "      <td>1036.0</td>\n",
       "    </tr>\n",
       "    <tr>\n",
       "      <th>...</th>\n",
       "      <td>...</td>\n",
       "      <td>...</td>\n",
       "      <td>...</td>\n",
       "      <td>...</td>\n",
       "      <td>...</td>\n",
       "      <td>...</td>\n",
       "      <td>...</td>\n",
       "      <td>...</td>\n",
       "    </tr>\n",
       "    <tr>\n",
       "      <th>15988</th>\n",
       "      <td>1</td>\n",
       "      <td>1.5L Flasche</td>\n",
       "      <td>L8</td>\n",
       "      <td>1</td>\n",
       "      <td>10.010239</td>\n",
       "      <td>3.0</td>\n",
       "      <td>24.0</td>\n",
       "      <td>1039.0</td>\n",
       "    </tr>\n",
       "    <tr>\n",
       "      <th>15989</th>\n",
       "      <td>1</td>\n",
       "      <td>1.5L Flasche</td>\n",
       "      <td>L8</td>\n",
       "      <td>1</td>\n",
       "      <td>10.010865</td>\n",
       "      <td>2.0</td>\n",
       "      <td>24.0</td>\n",
       "      <td>1039.0</td>\n",
       "    </tr>\n",
       "    <tr>\n",
       "      <th>15990</th>\n",
       "      <td>1</td>\n",
       "      <td>1.5L Flasche</td>\n",
       "      <td>L8</td>\n",
       "      <td>1</td>\n",
       "      <td>10.011491</td>\n",
       "      <td>2.0</td>\n",
       "      <td>25.0</td>\n",
       "      <td>1039.0</td>\n",
       "    </tr>\n",
       "    <tr>\n",
       "      <th>15991</th>\n",
       "      <td>1</td>\n",
       "      <td>1.5L Flasche</td>\n",
       "      <td>L8</td>\n",
       "      <td>1</td>\n",
       "      <td>10.012117</td>\n",
       "      <td>5.0</td>\n",
       "      <td>22.0</td>\n",
       "      <td>1037.0</td>\n",
       "    </tr>\n",
       "    <tr>\n",
       "      <th>15992</th>\n",
       "      <td>1</td>\n",
       "      <td>1.5L Flasche</td>\n",
       "      <td>L8</td>\n",
       "      <td>1</td>\n",
       "      <td>10.012743</td>\n",
       "      <td>3.0</td>\n",
       "      <td>23.0</td>\n",
       "      <td>1039.0</td>\n",
       "    </tr>\n",
       "  </tbody>\n",
       "</table>\n",
       "<p>17283198 rows × 8 columns</p>\n",
       "</div>"
      ],
      "text/plain": [
       "      teensy    experiment run rep          t     x     y       z\n",
       "0          2  1.5L Flasche  L1   1   0.000000  14.0   1.0  1040.0\n",
       "1          2  1.5L Flasche  L1   1   0.000623  12.0   4.0  1041.0\n",
       "2          2  1.5L Flasche  L1   1   0.001247  10.0  -1.0  1038.0\n",
       "3          2  1.5L Flasche  L1   1   0.001870  10.0  -1.0  1036.0\n",
       "4          2  1.5L Flasche  L1   1   0.002493   9.0  -6.0  1036.0\n",
       "...      ...           ...  ..  ..        ...   ...   ...     ...\n",
       "15988      1  1.5L Flasche  L8   1  10.010239   3.0  24.0  1039.0\n",
       "15989      1  1.5L Flasche  L8   1  10.010865   2.0  24.0  1039.0\n",
       "15990      1  1.5L Flasche  L8   1  10.011491   2.0  25.0  1039.0\n",
       "15991      1  1.5L Flasche  L8   1  10.012117   5.0  22.0  1037.0\n",
       "15992      1  1.5L Flasche  L8   1  10.012743   3.0  23.0  1039.0\n",
       "\n",
       "[17283198 rows x 8 columns]"
      ]
     },
     "execution_count": 26,
     "metadata": {},
     "output_type": "execute_result"
    }
   ],
   "source": [
    "df_fake"
   ]
  },
  {
   "cell_type": "markdown",
   "id": "dc6ae092-e62a-4adc-8698-23fe7fd4c99c",
   "metadata": {},
   "source": [
    "### Combine the augmented and fake data df"
   ]
  },
  {
   "cell_type": "code",
   "execution_count": 12,
   "id": "5bf15ca5-efc5-49fe-9113-595b71b6d8f2",
   "metadata": {},
   "outputs": [
    {
     "name": "stderr",
     "output_type": "stream",
     "text": [
      "/tmp/ipykernel_2141123/2856507006.py:2: FutureWarning: The frame.append method is deprecated and will be removed from pandas in a future version. Use pandas.concat instead.\n",
      "  final_df = df.append(augmented_df)\n"
     ]
    }
   ],
   "source": [
    "final_df = []\n",
    "final_df = df.append(augmented_df)"
   ]
  },
  {
   "cell_type": "code",
   "execution_count": 13,
   "id": "e6b8b254-5b6a-4c8b-9fc7-8e547e30ab74",
   "metadata": {},
   "outputs": [],
   "source": [
    "#shuffle the final dataframe\n",
    "final_df = final_df.sample(frac=1).reset_index(drop=True)"
   ]
  },
  {
   "cell_type": "code",
   "execution_count": 14,
   "id": "423a508e-ae93-4c9c-a8b3-87f7c84beaeb",
   "metadata": {},
   "outputs": [
    {
     "data": {
      "text/html": [
       "<div>\n",
       "<style scoped>\n",
       "    .dataframe tbody tr th:only-of-type {\n",
       "        vertical-align: middle;\n",
       "    }\n",
       "\n",
       "    .dataframe tbody tr th {\n",
       "        vertical-align: top;\n",
       "    }\n",
       "\n",
       "    .dataframe thead th {\n",
       "        text-align: right;\n",
       "    }\n",
       "</style>\n",
       "<table border=\"1\" class=\"dataframe\">\n",
       "  <thead>\n",
       "    <tr style=\"text-align: right;\">\n",
       "      <th></th>\n",
       "      <th>event</th>\n",
       "      <th>istSturz</th>\n",
       "      <th>signalLenght</th>\n",
       "      <th>spectrum</th>\n",
       "    </tr>\n",
       "  </thead>\n",
       "  <tbody>\n",
       "    <tr>\n",
       "      <th>0</th>\n",
       "      <td>2 Bücher</td>\n",
       "      <td>0</td>\n",
       "      <td>16031</td>\n",
       "      <td>[[[220.27661136601884], [0.025691651394620298]...</td>\n",
       "    </tr>\n",
       "    <tr>\n",
       "      <th>1</th>\n",
       "      <td>Dummy</td>\n",
       "      <td>1</td>\n",
       "      <td>15968</td>\n",
       "      <td>[[[219.90797075717404], [0.20491015420196176],...</td>\n",
       "    </tr>\n",
       "    <tr>\n",
       "      <th>2</th>\n",
       "      <td>Schlüsselbund</td>\n",
       "      <td>0</td>\n",
       "      <td>16015</td>\n",
       "      <td>[[[217.73915494751097], [0.0022451200851988087...</td>\n",
       "    </tr>\n",
       "    <tr>\n",
       "      <th>3</th>\n",
       "      <td>Dummy</td>\n",
       "      <td>1</td>\n",
       "      <td>16103</td>\n",
       "      <td>[[[220.06044762620542], [0.15323318084522383],...</td>\n",
       "    </tr>\n",
       "    <tr>\n",
       "      <th>4</th>\n",
       "      <td>Dummy</td>\n",
       "      <td>1</td>\n",
       "      <td>16042</td>\n",
       "      <td>[[[181.93288005479653], [1.1923949418929023], ...</td>\n",
       "    </tr>\n",
       "    <tr>\n",
       "      <th>...</th>\n",
       "      <td>...</td>\n",
       "      <td>...</td>\n",
       "      <td>...</td>\n",
       "      <td>...</td>\n",
       "    </tr>\n",
       "    <tr>\n",
       "      <th>1794</th>\n",
       "      <td>Wasserkasten</td>\n",
       "      <td>0</td>\n",
       "      <td>16073</td>\n",
       "      <td>[[[220.06758348985272], [0.1226386800157631], ...</td>\n",
       "    </tr>\n",
       "    <tr>\n",
       "      <th>1795</th>\n",
       "      <td>Dummy</td>\n",
       "      <td>1</td>\n",
       "      <td>16057</td>\n",
       "      <td>[[[220.40052839188135], [0.5568422818351667], ...</td>\n",
       "    </tr>\n",
       "    <tr>\n",
       "      <th>1796</th>\n",
       "      <td>Dummy</td>\n",
       "      <td>1</td>\n",
       "      <td>15955</td>\n",
       "      <td>[[[191.1362823739357], [1.8798357572163662], [...</td>\n",
       "    </tr>\n",
       "    <tr>\n",
       "      <th>1797</th>\n",
       "      <td>Dummy</td>\n",
       "      <td>1</td>\n",
       "      <td>15971</td>\n",
       "      <td>[[[220.51827347071935], [0.1758533511799588], ...</td>\n",
       "    </tr>\n",
       "    <tr>\n",
       "      <th>1798</th>\n",
       "      <td>Hantel</td>\n",
       "      <td>0</td>\n",
       "      <td>15967</td>\n",
       "      <td>[[[220.33917996004558], [0.34981546884010856],...</td>\n",
       "    </tr>\n",
       "  </tbody>\n",
       "</table>\n",
       "<p>1799 rows × 4 columns</p>\n",
       "</div>"
      ],
      "text/plain": [
       "              event  istSturz  signalLenght  \\\n",
       "0          2 Bücher         0         16031   \n",
       "1             Dummy         1         15968   \n",
       "2     Schlüsselbund         0         16015   \n",
       "3             Dummy         1         16103   \n",
       "4             Dummy         1         16042   \n",
       "...             ...       ...           ...   \n",
       "1794   Wasserkasten         0         16073   \n",
       "1795          Dummy         1         16057   \n",
       "1796          Dummy         1         15955   \n",
       "1797          Dummy         1         15971   \n",
       "1798         Hantel         0         15967   \n",
       "\n",
       "                                               spectrum  \n",
       "0     [[[220.27661136601884], [0.025691651394620298]...  \n",
       "1     [[[219.90797075717404], [0.20491015420196176],...  \n",
       "2     [[[217.73915494751097], [0.0022451200851988087...  \n",
       "3     [[[220.06044762620542], [0.15323318084522383],...  \n",
       "4     [[[181.93288005479653], [1.1923949418929023], ...  \n",
       "...                                                 ...  \n",
       "1794  [[[220.06758348985272], [0.1226386800157631], ...  \n",
       "1795  [[[220.40052839188135], [0.5568422818351667], ...  \n",
       "1796  [[[191.1362823739357], [1.8798357572163662], [...  \n",
       "1797  [[[220.51827347071935], [0.1758533511799588], ...  \n",
       "1798  [[[220.33917996004558], [0.34981546884010856],...  \n",
       "\n",
       "[1799 rows x 4 columns]"
      ]
     },
     "execution_count": 14,
     "metadata": {},
     "output_type": "execute_result"
    }
   ],
   "source": [
    "final_df"
   ]
  },
  {
   "cell_type": "code",
   "execution_count": 15,
   "id": "fe3efa7a-b4f4-479e-8502-750d043bc9c4",
   "metadata": {},
   "outputs": [],
   "source": [
    "# normalize the spectrum to facilitate training\n",
    "final_df[\"normalizedSpectrum\"] = final_df[\"spectrum\"] / final_df[\"spectrum\"].map(np.max).max()"
   ]
  },
  {
   "cell_type": "markdown",
   "id": "3950d14f-d800-4728-a256-1abf10a486a4",
   "metadata": {},
   "source": [
    "## Model"
   ]
  },
  {
   "cell_type": "code",
   "execution_count": 16,
   "id": "b09d5bc7-7c93-42d3-adb9-3fa522113a27",
   "metadata": {},
   "outputs": [
    {
     "name": "stdout",
     "output_type": "stream",
     "text": [
      "Model: \"sequential\"\n",
      "_________________________________________________________________\n",
      " Layer (type)                Output Shape              Param #   \n",
      "=================================================================\n",
      " conv2d (Conv2D)             (None, 1, 247, 8)         2528      \n",
      "                                                                 \n",
      " max_pooling2d (MaxPooling2D  (None, 1, 61, 8)         0         \n",
      " )                                                               \n",
      "                                                                 \n",
      " flatten (Flatten)           (None, 488)               0         \n",
      "                                                                 \n",
      " dense (Dense)               (None, 1)                 489       \n",
      "                                                                 \n",
      "=================================================================\n",
      "Total params: 3,017\n",
      "Trainable params: 3,017\n",
      "Non-trainable params: 0\n",
      "_________________________________________________________________\n"
     ]
    },
    {
     "name": "stderr",
     "output_type": "stream",
     "text": [
      "2022-12-10 13:33:41.286007: I tensorflow/core/platform/cpu_feature_guard.cc:193] This TensorFlow binary is optimized with oneAPI Deep Neural Network Library (oneDNN) to use the following CPU instructions in performance-critical operations:  SSE4.1 SSE4.2 AVX AVX2 AVX512F FMA\n",
      "To enable them in other operations, rebuild TensorFlow with the appropriate compiler flags.\n"
     ]
    }
   ],
   "source": [
    "# initialize a sequential network model https://www.tensorflow.org/api_docs/python/tf/keras/Sequential\n",
    "mdl = Sequential()\n",
    "# as a first layer add a convolutional layer https://www.tensorflow.org/api_docs/python/tf/keras/layers/Conv2D\n",
    "# the input shape is our image size 63x251 px the additional,1 is the channel feature we do not need and therefore leave at 1\n",
    "# the Integer 8 here is the dimensionality of the output space (i.e. the number of output filters in the convolution).\n",
    "# (63, 5) specifies the kernel size. the first dimension gives the entire length of the images rows, we chose this because we want \n",
    "# to have information about all the different frequencies at the same time, the 5 can be varied but specifies how long the time interval is\n",
    "# which is brought into context with one another\n",
    "mdl.add(Conv2D(8, (63, 5), activation=\"relu\", input_shape=(63, 251, 1)))\n",
    "# https://www.tensorflow.org/api_docs/python/tf/keras/layers/MaxPool2D The pooling layer just keeps the max value px in a (1, 4) window\n",
    "mdl.add(MaxPooling2D((1, 4)))\n",
    "# removes the 2 dimensionality of the data -> just a vector now https://www.tensorflow.org/api_docs/python/tf/keras/layers/Flatten\n",
    "mdl.add(Flatten())\n",
    "# this is just your usual dense connected layer of a NN https://www.tensorflow.org/api_docs/python/tf/keras/layers/Dense, the 1 specifies the \n",
    "# number of output parameters we want, which is just 1\n",
    "mdl.add(Dense(1))\n",
    "# configures the model for training https://www.tensorflow.org/api_docs/python/tf/keras/Model#compile\n",
    "mdl.compile(optimizer=\"adam\", loss=\"binary_crossentropy\", metrics=[\"accuracy\"])\n",
    "# this just prints the model summery below\n",
    "mdl.summary()\n"
   ]
  },
  {
   "cell_type": "code",
   "execution_count": 17,
   "id": "8e2d0d69-5091-46ce-9432-bd20bf6d8a93",
   "metadata": {},
   "outputs": [
    {
     "data": {
      "text/plain": [
       "Dummy                  158\n",
       "Hantel                  20\n",
       "Schlüsselbund           19\n",
       "Wasserkasten            16\n",
       "Möbel verrücken         16\n",
       "2 Bücher                15\n",
       "Tablett mit Besteck     15\n",
       "Krücken                 14\n",
       "Getränkeflasche         14\n",
       "Springen                14\n",
       "Koffer                  14\n",
       "Stuhl kippt             14\n",
       "Pflegeartikel           12\n",
       "Handy                   12\n",
       "1.5L Flasche             7\n",
       "Name: event, dtype: int64"
      ]
     },
     "execution_count": 17,
     "metadata": {},
     "output_type": "execute_result"
    }
   ],
   "source": [
    "X = np.stack(final_df[\"normalizedSpectrum\"].to_list())\n",
    "y = final_df[\"istSturz\"].to_numpy()\n",
    "\n",
    "# split data in train and test set\n",
    "train, test = train_test_split(range(len(y)), test_size=0.2,stratify= y)\n",
    "# how many of the respective events are contained in the test set\n",
    "final_df[\"event\"][test].value_counts()"
   ]
  },
  {
   "cell_type": "markdown",
   "id": "f1175b69-70d4-471f-b95b-158d00ce3b34",
   "metadata": {},
   "source": [
    "### To plot accuracy and loss curve after each epoch"
   ]
  },
  {
   "cell_type": "code",
   "execution_count": 18,
   "id": "8bba1a82-6f55-43fe-879d-9019c3e0cc9e",
   "metadata": {},
   "outputs": [],
   "source": [
    "class PlotLearning(keras.callbacks.Callback):\n",
    "    \"\"\"\n",
    "    Callback to plot the learning curves of the model during training.\n",
    "    \"\"\"\n",
    "    def on_train_begin(self, logs={}):   \n",
    "        self.metrics = {}\n",
    "        for metric in logs:\n",
    "            self.metrics[metric] = []\n",
    "            \n",
    "\n",
    "    def on_epoch_end(self, epoch, logs={}):\n",
    "        # Storing metrics\n",
    "        for metric in logs:\n",
    "            if metric in self.metrics:\n",
    "                self.metrics[metric].append(logs.get(metric))\n",
    "            else:\n",
    "                self.metrics[metric] = [logs.get(metric)]\n",
    "        \n",
    "        # Plotting\n",
    "        metrics = [x for x in logs if 'val' not in x]\n",
    "        \n",
    "        f, axs = plt.subplots(1, len(metrics), figsize=(15,5))\n",
    "        clear_output(wait=True)\n",
    "\n",
    "        for i, metric in enumerate(metrics):\n",
    "            axs[i].plot(range(1, epoch + 2), \n",
    "                        self.metrics[metric], \n",
    "                        label=metric)\n",
    "            if logs['val_' + metric]:\n",
    "                axs[i].plot(range(1, epoch + 2), \n",
    "                            self.metrics['val_' + metric], \n",
    "                            label='val_' + metric)\n",
    "                \n",
    "            axs[i].legend()\n",
    "            axs[i].grid()\n",
    "\n",
    "        plt.tight_layout()\n",
    "        plt.show()"
   ]
  },
  {
   "cell_type": "code",
   "execution_count": 19,
   "id": "99b5b134-584f-44c5-b344-26908955f1fe",
   "metadata": {},
   "outputs": [
    {
     "data": {
      "image/png": "[encoded data removed]",
      "text/plain": [
       "<Figure size 1500x500 with 2 Axes>"
      ]
     },
     "metadata": {},
     "output_type": "display_data"
    },
    {
     "name": "stdout",
     "output_type": "stream",
     "text": [
      "45/45 [==============================] - 1s 21ms/step - loss: 0.2359 - accuracy: 0.8999 - val_loss: 0.4258 - val_accuracy: 0.8556\n"
     ]
    }
   ],
   "source": [
    "# actual training..\n",
    "callbacks_list = [PlotLearning()]\n",
    "history = mdl.fit(X[train, ], y[train], epochs=75, validation_data=(X[test,], y[test]),callbacks=callbacks_list)"
   ]
  },
  {
   "cell_type": "code",
   "execution_count": 20,
   "id": "26f92503-ab0d-46b9-ade3-85bba2f0b0ba",
   "metadata": {},
   "outputs": [
    {
     "data": {
      "text/plain": [
       "792"
      ]
     },
     "execution_count": 20,
     "metadata": {},
     "output_type": "execute_result"
    }
   ],
   "source": [
    "final_df.istSturz.sum()"
   ]
  },
  {
   "cell_type": "code",
   "execution_count": 30,
   "id": "5eec15ff-765b-4d54-b2d6-a2abc70a4182",
   "metadata": {},
   "outputs": [
    {
     "name": "stdout",
     "output_type": "stream",
     "text": [
      "57/57 [==============================] - 0s 3ms/step\n"
     ]
    },
    {
     "data": {
      "text/html": [
       "<div>\n",
       "<style scoped>\n",
       "    .dataframe tbody tr th:only-of-type {\n",
       "        vertical-align: middle;\n",
       "    }\n",
       "\n",
       "    .dataframe tbody tr th {\n",
       "        vertical-align: top;\n",
       "    }\n",
       "\n",
       "    .dataframe thead th {\n",
       "        text-align: right;\n",
       "    }\n",
       "</style>\n",
       "<table border=\"1\" class=\"dataframe\">\n",
       "  <thead>\n",
       "    <tr style=\"text-align: right;\">\n",
       "      <th>col_0</th>\n",
       "      <th>False</th>\n",
       "      <th>True</th>\n",
       "    </tr>\n",
       "    <tr>\n",
       "      <th>event</th>\n",
       "      <th></th>\n",
       "      <th></th>\n",
       "    </tr>\n",
       "  </thead>\n",
       "  <tbody>\n",
       "    <tr>\n",
       "      <th>1.5L Flasche</th>\n",
       "      <td>8</td>\n",
       "      <td>64</td>\n",
       "    </tr>\n",
       "    <tr>\n",
       "      <th>2 Bücher</th>\n",
       "      <td>39</td>\n",
       "      <td>33</td>\n",
       "    </tr>\n",
       "    <tr>\n",
       "      <th>Dummy</th>\n",
       "      <td>6</td>\n",
       "      <td>786</td>\n",
       "    </tr>\n",
       "    <tr>\n",
       "      <th>Getränkeflasche</th>\n",
       "      <td>57</td>\n",
       "      <td>15</td>\n",
       "    </tr>\n",
       "    <tr>\n",
       "      <th>Handy</th>\n",
       "      <td>63</td>\n",
       "      <td>9</td>\n",
       "    </tr>\n",
       "    <tr>\n",
       "      <th>Hantel</th>\n",
       "      <td>71</td>\n",
       "      <td>0</td>\n",
       "    </tr>\n",
       "    <tr>\n",
       "      <th>Koffer</th>\n",
       "      <td>19</td>\n",
       "      <td>53</td>\n",
       "    </tr>\n",
       "    <tr>\n",
       "      <th>Krücken</th>\n",
       "      <td>70</td>\n",
       "      <td>2</td>\n",
       "    </tr>\n",
       "    <tr>\n",
       "      <th>Möbel verrücken</th>\n",
       "      <td>10</td>\n",
       "      <td>62</td>\n",
       "    </tr>\n",
       "    <tr>\n",
       "      <th>Pflegeartikel</th>\n",
       "      <td>65</td>\n",
       "      <td>7</td>\n",
       "    </tr>\n",
       "    <tr>\n",
       "      <th>Schlüsselbund</th>\n",
       "      <td>34</td>\n",
       "      <td>38</td>\n",
       "    </tr>\n",
       "    <tr>\n",
       "      <th>Springen</th>\n",
       "      <td>3</td>\n",
       "      <td>69</td>\n",
       "    </tr>\n",
       "    <tr>\n",
       "      <th>Stuhl kippt</th>\n",
       "      <td>17</td>\n",
       "      <td>55</td>\n",
       "    </tr>\n",
       "    <tr>\n",
       "      <th>Tablett mit Besteck</th>\n",
       "      <td>66</td>\n",
       "      <td>6</td>\n",
       "    </tr>\n",
       "    <tr>\n",
       "      <th>Wasserkasten</th>\n",
       "      <td>30</td>\n",
       "      <td>42</td>\n",
       "    </tr>\n",
       "  </tbody>\n",
       "</table>\n",
       "</div>"
      ],
      "text/plain": [
       "col_0                False  True \n",
       "event                            \n",
       "1.5L Flasche             8     64\n",
       "2 Bücher                39     33\n",
       "Dummy                    6    786\n",
       "Getränkeflasche         57     15\n",
       "Handy                   63      9\n",
       "Hantel                  71      0\n",
       "Koffer                  19     53\n",
       "Krücken                 70      2\n",
       "Möbel verrücken         10     62\n",
       "Pflegeartikel           65      7\n",
       "Schlüsselbund           34     38\n",
       "Springen                 3     69\n",
       "Stuhl kippt             17     55\n",
       "Tablett mit Besteck     66      6\n",
       "Wasserkasten            30     42"
      ]
     },
     "execution_count": 30,
     "metadata": {},
     "output_type": "execute_result"
    }
   ],
   "source": [
    "# here we evaluate our trained model on all of the data, by adjusting the threshold  value we can manually test how clear the separation between positive and negative events really is\n",
    "# in the current state the model is heavily overfitted\n",
    "ypred = mdl.predict(X).ravel()\n",
    "threshold = 0.10\n",
    "pd.crosstab(final_df['event'], ypred >= threshold)"
   ]
  },
  {
   "cell_type": "markdown",
   "id": "7e2feec7-6d4d-40bb-bbfb-3050e7a6161f",
   "metadata": {},
   "source": [
    "- The overfitting has significantly reduced.\n",
    "- The classification for events other than dummy has also improved."
   ]
  },
  {
   "cell_type": "code",
   "execution_count": null,
   "id": "85b8d59a-9603-4f94-8ddb-fbc969ede283",
   "metadata": {},
   "outputs": [],
   "source": []
  }
 ],
 "metadata": {
  "kernelspec": {
   "display_name": "Python 3.9 / pyspotseven",
   "language": "python",
   "name": "py39-pyspotseven"
  },
  "language_info": {
   "codemirror_mode": {
    "name": "ipython",
    "version": 3
   },
   "file_extension": ".py",
   "mimetype": "text/x-python",
   "name": "python",
   "nbconvert_exporter": "python",
   "pygments_lexer": "ipython3",
   "version": "3.9.13"
  }
 },
 "nbformat": 4,
 "nbformat_minor": 5
}
